{
 "cells": [
  {
   "cell_type": "markdown",
   "metadata": {},
   "source": [
    "## Load Data\n",
    "\n",
    "### Calculating Fingerprints"
   ]
  },
  {
   "cell_type": "code",
   "execution_count": 25,
   "metadata": {},
   "outputs": [],
   "source": [
    "import numpy as np\n",
    "from rdkit import Chem\n",
    "from rdkit.Chem import AllChem\n",
    "\n",
    "supplier = Chem.SDMolSupplier('data/cas_4337.sdf')\n",
    "infos = [{} for mol in supplier]\n",
    "fingerprints = np.array([AllChem.GetMorganFingerprintAsBitVect(supplier[i], 3, nBits=2048, bitInfo=infos[i]) \n",
    "                         for i in range(len(supplier))])"
   ]
  },
  {
   "cell_type": "markdown",
   "metadata": {},
   "source": [
    "### Splitting Dataset\n",
    "\n",
    "into train and validation sets"
   ]
  },
  {
   "cell_type": "code",
   "execution_count": 26,
   "metadata": {},
   "outputs": [],
   "source": [
    "valid_ids = [6,   10,   29,   32,   42,   58,   72,   83,   98,  100,  128, \n",
    "        145,  148,  168,  171,  205,  208,  237,  244,  285,  290,  291,\n",
    "         300,  312,  332,  334,  335,  347,  356,  369,  371,  377,  407,\n",
    "         424,  456,  458,  470,  472,  486,  514,  515,  528,  557,  563,\n",
    "         599,  610,  616,  628,  640,  701,  704,  722,  764,  794,  818,\n",
    "         821,  840,  850,  856,  859,  874,  878,  882,  898,  901,  925,\n",
    "         936,  945,  957,  974,  977, 1013, 1019, 1030, 1038, 1047, 1049,\n",
    "        1072, 1073, 1100, 1159, 1168, 1187, 1190, 1194, 1201, 1202, 1233,\n",
    "        1247, 1258, 1264, 1273, 1283, 1288, 1300, 1302, 1319, 1339, 1349,\n",
    "        1402, 1413, 1416, 1422, 1426, 1435, 1454, 1465, 1483, 1502, 1513,\n",
    "        1515, 1520, 1548, 1576, 1604, 1606, 1621, 1650, 1695, 1696, 1711,\n",
    "        1714, 1716, 1725, 1743, 1746, 1752, 1780, 1788, 1794, 1799, 1813,\n",
    "        1826, 1866, 1886, 1901, 1903, 1921, 1929, 1940, 1969, 1970, 1997,\n",
    "        1998, 2008, 2010, 2011, 2018, 2023, 2046, 2060, 2064, 2080, 2081,\n",
    "        2131, 2171, 2182, 2203, 2212, 2224, 2231, 2241, 2246, 2283, 2294,\n",
    "        2295, 2297, 2327, 2329, 2331, 2349, 2357, 2360, 2365, 2397, 2413,\n",
    "        2417, 2418, 2421, 2448, 2467, 2510, 2516, 2528, 2533, 2549, 2562,\n",
    "        2601, 2604, 2606, 2609, 2611, 2632, 2644, 2653, 2677, 2682, 2685,\n",
    "        2692, 2703, 2708, 2714, 2719, 2726, 2732, 2759, 2761, 2776, 2780,\n",
    "        2817, 2818, 2829, 2837, 2857, 2858, 2884, 2899, 2902, 2905, 2911,\n",
    "        2939, 2975, 2977, 2986, 3007, 3009, 3018, 3024, 3038, 3066, 3087,\n",
    "        3098, 3107, 3117, 3122, 3139, 3157, 3161, 3164, 3217, 3223, 3233,\n",
    "        3263, 3265, 3271, 3290, 3295, 3307, 3313, 3317, 3321, 3382, 3384,\n",
    "        3388, 3400, 3409, 3412, 3419, 3423, 3449, 3470, 3487, 3488, 3503,\n",
    "        3509, 3511, 3539, 3562, 3626, 3637, 3654, 3662, 3663, 3668, 3671,\n",
    "        3688, 3689, 3695, 3710, 3726, 3743, 3744, 3782, 3791, 3794, 3808,\n",
    "        3809, 3841, 3849, 3874, 3910, 3912, 3925, 3945, 3950, 3958, 3959,\n",
    "        3962, 3964, 3967, 3978, 3993, 4009, 4010, 4055, 4057, 4085, 4089,\n",
    "        4096, 4099, 4107, 4112, 4129, 4135, 4151, 4155, 4196, 4209, 4216,\n",
    "        4234, 4236, 4251, 4267, 4283, 4317, 4326, 4335\n",
    "]"
   ]
  },
  {
   "cell_type": "code",
   "execution_count": 27,
   "metadata": {},
   "outputs": [],
   "source": [
    "X_train = []\n",
    "X_valid = []\n",
    "for i in range(len(fingerprints)):\n",
    "    if i in valid_ids:\n",
    "        X_valid.append(fingerprints[i])\n",
    "    else:\n",
    "        X_train.append(fingerprints[i])\n",
    "X_train = np.array(X_train)\n",
    "X_valid = np.array(X_valid)"
   ]
  },
  {
   "cell_type": "markdown",
   "metadata": {},
   "source": [
    "Collecting the lables from the supplier"
   ]
  },
  {
   "cell_type": "code",
   "execution_count": 28,
   "metadata": {},
   "outputs": [],
   "source": [
    "y_train, y_valid, i = [], [], 0\n",
    "for mol in supplier:\n",
    "    if mol.GetProp(\"Ames test categorisation\") == \"mutagen\":\n",
    "        if i in valid_ids:\n",
    "            y_valid.append(1)\n",
    "        else:\n",
    "            y_train.append(1)\n",
    "    else:\n",
    "        if i in valid_ids:\n",
    "            y_valid.append(0)\n",
    "        else:\n",
    "            y_train.append(0)\n",
    "    i+=1\n",
    "    \n",
    "y_train = np.array(y_train)\n",
    "y_valid = np.array(y_valid)"
   ]
  },
  {
   "cell_type": "markdown",
   "metadata": {},
   "source": [
    "## Optimizing Model's Architecture\n",
    "\n",
    "Using the Bayesian Inference"
   ]
  },
  {
   "cell_type": "code",
   "execution_count": 58,
   "metadata": {},
   "outputs": [],
   "source": [
    "from keras.models import Sequential\n",
    "from keras.layers import Activation, Dropout\n",
    "from keras.layers.core import Dense\n",
    "from keras.optimizers import SGD, Adam\n",
    "\n",
    "from sklearn.metrics import roc_auc_score\n",
    "\n",
    "import time\n",
    "\n",
    "from bayes_opt import BayesianOptimization"
   ]
  },
  {
   "cell_type": "code",
   "execution_count": 115,
   "metadata": {},
   "outputs": [],
   "source": [
    "param_reference = {'init': ['lecun_uniform', 'he_uniform'],\n",
    "             'activation': ['relu', 'sigmoid', 'selu'],\n",
    "              'optimizer': [SGD, Adam]\n",
    "                  }\n",
    "\n",
    "search_space = {'units': (5, 2048), # discrete\n",
    "                'activation': (0, 2), # categorical\n",
    "                'optimizer': (0, 2), # categorical\n",
    "                'lr': (.00001, .2), # continuous\n",
    "                'n_layers': (2, 15), # discrete\n",
    "                'epochs': (5, 30), # discrete\n",
    "                'batch_size': (1, 200), # discrete\n",
    "                'momentum': (0.001, 0.5), # continuous\n",
    "                'init': (0, 1), # categorical\n",
    "                'dropout_rate': (0.0001, 0.9) # continuous\n",
    "               }\n",
    "\n",
    "\n",
    "\n",
    "input_dim = X_valid.shape[1]\n",
    "def train_evaluate_and_auc(units, activation, optimizer, lr, n_layers, epochs, batch_size, momentum, init, dropout_rate):\n",
    "    # handle categorical\n",
    "    activation = param_reference['activation'][int(round(activation))]\n",
    "    optimizer = param_reference['optimizer'][int(round(optimizer))]\n",
    "    init = param_reference['init'][int(round(init))]\n",
    "    # handle discrete\n",
    "    units = int(round(units))\n",
    "    n_layers = int(round(n_layers))\n",
    "    epochs = int(round(epochs))\n",
    "    batch_size = int(round(batch_size))\n",
    "    \n",
    "    # build classifier with corresponding hyperparameters\n",
    "    keras.backend.clear_session()\n",
    "    classifier = Sequential()\n",
    "    classifier.add(\n",
    "        Dense(units=units, input_dim=input_dim, activation=activation, kernel_initializer=init) # input layer\n",
    "    )\n",
    "    # Create an arbitrary number of Hidden Layers\n",
    "    for n in range(n_layers):\n",
    "        classifier.add(Dense(units=units, activation=activation))\n",
    "        classifier.add(Dropout(dropout_rate))\n",
    "    classifier.add(Dense(units=1, activation='sigmoid'))     # Output Layer\n",
    "    if optimizer == SGD:\n",
    "        optimizer = SGD(learning_rate=lr, momentum=momentum)\n",
    "    else:\n",
    "        optimizer = Adam(learning_rate=lr)\n",
    "    classifier.compile(loss='binary_crossentropy', optimizer=optimizer, metrics=['accuracy'])\n",
    "    # FIXME: adjust epochs and batch size\n",
    "    classifier.fit(X_train, y_train, batch_size=batch_size, epochs=epochs, verbose=0)\n",
    "    return roc_auc_score(y_valid, classifier.predict(X_valid))"
   ]
  },
  {
   "cell_type": "code",
   "execution_count": 57,
   "metadata": {
    "scrolled": false
   },
   "outputs": [
    {
     "name": "stdout",
     "output_type": "stream",
     "text": [
      "|   iter    |  target   | activa... | batch_... | dropou... |  epochs   |   init    |    lr     | momentum  | n_layers  | optimizer |   units   |\n",
      "-------------------------------------------------------------------------------------------------------------------------------------------------\n",
      "| \u001b[0m 1       \u001b[0m | \u001b[0m 0.7511  \u001b[0m | \u001b[0m 0.5488  \u001b[0m | \u001b[0m 38.61   \u001b[0m | \u001b[0m 0.5822  \u001b[0m | \u001b[0m 15.45   \u001b[0m | \u001b[0m 0.4237  \u001b[0m | \u001b[0m 0.006813\u001b[0m | \u001b[0m 0.375   \u001b[0m | \u001b[0m 4.675   \u001b[0m | \u001b[0m 0.9637  \u001b[0m | \u001b[0m 22.25   \u001b[0m |\n",
      "| \u001b[95m 2       \u001b[0m | \u001b[95m 0.7748  \u001b[0m | \u001b[95m 0.7917  \u001b[0m | \u001b[95m 31.16   \u001b[0m | \u001b[95m 0.5544  \u001b[0m | \u001b[95m 19.26   \u001b[0m | \u001b[95m 0.07104 \u001b[0m | \u001b[95m 0.001784\u001b[0m | \u001b[95m 0.2081  \u001b[0m | \u001b[95m 4.498   \u001b[0m | \u001b[95m 0.7782  \u001b[0m | \u001b[95m 44.15   \u001b[0m |\n",
      "| \u001b[95m 3       \u001b[0m | \u001b[95m 0.7762  \u001b[0m | \u001b[95m 0.9786  \u001b[0m | \u001b[95m 41.97   \u001b[0m | \u001b[95m 0.4692  \u001b[0m | \u001b[95m 17.81   \u001b[0m | \u001b[95m 0.1183  \u001b[0m | \u001b[95m 0.006759\u001b[0m | \u001b[95m 0.2573  \u001b[0m | \u001b[95m 4.834   \u001b[0m | \u001b[95m 0.5218  \u001b[0m | \u001b[95m 23.66   \u001b[0m |\n",
      "| \u001b[95m 4       \u001b[0m | \u001b[95m 0.8575  \u001b[0m | \u001b[95m 0.2646  \u001b[0m | \u001b[95m 40.97   \u001b[0m | \u001b[95m 0.4649  \u001b[0m | \u001b[95m 15.68   \u001b[0m | \u001b[95m 0.01879 \u001b[0m | \u001b[95m 0.006559\u001b[0m | \u001b[95m 0.4448  \u001b[0m | \u001b[95m 3.851   \u001b[0m | \u001b[95m 0.9437  \u001b[0m | \u001b[95m 35.68   \u001b[0m |\n",
      "| \u001b[0m 5       \u001b[0m | \u001b[0m 0.6349  \u001b[0m | \u001b[0m 0.3595  \u001b[0m | \u001b[0m 27.48   \u001b[0m | \u001b[0m 0.6581  \u001b[0m | \u001b[0m 10.6    \u001b[0m | \u001b[0m 0.6668  \u001b[0m | \u001b[0m 0.007036\u001b[0m | \u001b[0m 0.2842  \u001b[0m | \u001b[0m 2.387   \u001b[0m | \u001b[0m 0.3154  \u001b[0m | \u001b[0m 21.37   \u001b[0m |\n",
      "| \u001b[0m 6       \u001b[0m | \u001b[0m 0.4971  \u001b[0m | \u001b[0m 1.0     \u001b[0m | \u001b[0m 50.0    \u001b[0m | \u001b[0m 0.9     \u001b[0m | \u001b[0m 10.0    \u001b[0m | \u001b[0m 1.0     \u001b[0m | \u001b[0m 0.001   \u001b[0m | \u001b[0m 0.2     \u001b[0m | \u001b[0m 5.0     \u001b[0m | \u001b[0m 1.0     \u001b[0m | \u001b[0m 50.0    \u001b[0m |\n",
      "| \u001b[95m 7       \u001b[0m | \u001b[95m 0.8772  \u001b[0m | \u001b[95m 0.0     \u001b[0m | \u001b[95m 10.0    \u001b[0m | \u001b[95m 0.1     \u001b[0m | \u001b[95m 10.0    \u001b[0m | \u001b[95m 0.0     \u001b[0m | \u001b[95m 0.01    \u001b[0m | \u001b[95m 0.6     \u001b[0m | \u001b[95m 2.0     \u001b[0m | \u001b[95m 1.0     \u001b[0m | \u001b[95m 50.0    \u001b[0m |\n",
      "| \u001b[0m 8       \u001b[0m | \u001b[0m 0.8545  \u001b[0m | \u001b[0m 0.0     \u001b[0m | \u001b[0m 50.0    \u001b[0m | \u001b[0m 0.1     \u001b[0m | \u001b[0m 10.0    \u001b[0m | \u001b[0m 0.0     \u001b[0m | \u001b[0m 0.01    \u001b[0m | \u001b[0m 0.6     \u001b[0m | \u001b[0m 2.0     \u001b[0m | \u001b[0m 1.0     \u001b[0m | \u001b[0m 5.0     \u001b[0m |\n",
      "| \u001b[0m 9       \u001b[0m | \u001b[0m 0.7862  \u001b[0m | \u001b[0m 0.0     \u001b[0m | \u001b[0m 10.0    \u001b[0m | \u001b[0m 0.1     \u001b[0m | \u001b[0m 20.0    \u001b[0m | \u001b[0m 0.0     \u001b[0m | \u001b[0m 0.01    \u001b[0m | \u001b[0m 0.6     \u001b[0m | \u001b[0m 5.0     \u001b[0m | \u001b[0m 1.0     \u001b[0m | \u001b[0m 5.0     \u001b[0m |\n",
      "| \u001b[0m 10      \u001b[0m | \u001b[0m 0.8695  \u001b[0m | \u001b[0m 0.0     \u001b[0m | \u001b[0m 10.0    \u001b[0m | \u001b[0m 0.1     \u001b[0m | \u001b[0m 20.0    \u001b[0m | \u001b[0m 0.0     \u001b[0m | \u001b[0m 0.01    \u001b[0m | \u001b[0m 0.6     \u001b[0m | \u001b[0m 5.0     \u001b[0m | \u001b[0m 1.0     \u001b[0m | \u001b[0m 35.14   \u001b[0m |\n",
      "| \u001b[0m 11      \u001b[0m | \u001b[0m 0.7339  \u001b[0m | \u001b[0m 0.0     \u001b[0m | \u001b[0m 10.0    \u001b[0m | \u001b[0m 0.9     \u001b[0m | \u001b[0m 20.0    \u001b[0m | \u001b[0m 1.0     \u001b[0m | \u001b[0m 0.01    \u001b[0m | \u001b[0m 0.6     \u001b[0m | \u001b[0m 2.0     \u001b[0m | \u001b[0m 1.0     \u001b[0m | \u001b[0m 50.0    \u001b[0m |\n",
      "| \u001b[0m 12      \u001b[0m | \u001b[0m 0.6234  \u001b[0m | \u001b[0m 0.0     \u001b[0m | \u001b[0m 50.0    \u001b[0m | \u001b[0m 0.9     \u001b[0m | \u001b[0m 20.0    \u001b[0m | \u001b[0m 1.0     \u001b[0m | \u001b[0m 0.001   \u001b[0m | \u001b[0m 0.6     \u001b[0m | \u001b[0m 2.0     \u001b[0m | \u001b[0m 1.0     \u001b[0m | \u001b[0m 5.0     \u001b[0m |\n",
      "| \u001b[0m 13      \u001b[0m | \u001b[0m 0.7798  \u001b[0m | \u001b[0m 0.0     \u001b[0m | \u001b[0m 10.0    \u001b[0m | \u001b[0m 0.1     \u001b[0m | \u001b[0m 10.0    \u001b[0m | \u001b[0m 0.0     \u001b[0m | \u001b[0m 0.001   \u001b[0m | \u001b[0m 0.6     \u001b[0m | \u001b[0m 5.0     \u001b[0m | \u001b[0m 1.0     \u001b[0m | \u001b[0m 5.0     \u001b[0m |\n",
      "| \u001b[0m 14      \u001b[0m | \u001b[0m 0.8314  \u001b[0m | \u001b[0m 0.0     \u001b[0m | \u001b[0m 50.0    \u001b[0m | \u001b[0m 0.1     \u001b[0m | \u001b[0m 10.0    \u001b[0m | \u001b[0m 0.0     \u001b[0m | \u001b[0m 0.001   \u001b[0m | \u001b[0m 0.6     \u001b[0m | \u001b[0m 5.0     \u001b[0m | \u001b[0m 1.0     \u001b[0m | \u001b[0m 24.91   \u001b[0m |\n",
      "| \u001b[0m 15      \u001b[0m | \u001b[0m 0.4791  \u001b[0m | \u001b[0m 1.0     \u001b[0m | \u001b[0m 10.0    \u001b[0m | \u001b[0m 0.9     \u001b[0m | \u001b[0m 10.0    \u001b[0m | \u001b[0m 1.0     \u001b[0m | \u001b[0m 0.01    \u001b[0m | \u001b[0m 0.2     \u001b[0m | \u001b[0m 5.0     \u001b[0m | \u001b[0m 0.0     \u001b[0m | \u001b[0m 38.05   \u001b[0m |\n",
      "=================================================================================================================================================\n",
      "{'target': 0.8771664270037085, 'params': {'activation': 0.0, 'batch_size': 10.0, 'dropout_rate': 0.1, 'epochs': 10.0, 'init': 0.0, 'lr': 0.01, 'momentum': 0.6, 'n_layers': 2.0, 'optimizer': 1.0, 'units': 50.0}}\n"
     ]
    }
   ],
   "source": [
    "start_time = time.ctime()\n",
    "optimization = BayesianOptimization(f=train_evaluate_and_auc, pbounds=search_space, random_state=0)\n",
    "optimization.maximize(init_points=10, n_iter=30)\n",
    "print(\"Bayesian Optimization took {}\".format(time.ctime() - start_time))\n",
    "\n",
    "print(optimization.max)\n",
    "# for i, res in enumerate(optimization.res):\n",
    "#     print(\"Iteration {}: \\n\\t{}\".format(i, res))"
   ]
  },
  {
   "cell_type": "markdown",
   "metadata": {},
   "source": [
    "### Set of best hyperparameters\n",
    "\n",
    "Because the optimization treats all hyperparameters in a continuous way, let's convert them into a interpretable way."
   ]
  },
  {
   "cell_type": "code",
   "execution_count": 100,
   "metadata": {},
   "outputs": [],
   "source": [
    "import re\n",
    "def convert_to_interpretable_dict(optimization_max):\n",
    "    \"\"\" Returns an interpretable dictionary given the a single dictionary from the Bayesian Optimization object above\n",
    "    \"\"\"\n",
    "    interpretable_dict = {}\n",
    "    interpretable_dict['AUC'] = optimization_max['target']\n",
    "    interpretable_dict['activation'] = param_reference['activation'][int(round(optimization_max['params']['activation']))] # categorical\n",
    "    interpretable_dict['batch_size'] = int(round(optimization_max['params']['batch_size']))\n",
    "    interpretable_dict['dropout_rate'] = optimization_max['params']['dropout_rate']\n",
    "    interpretable_dict['epochs'] = int(round(optimization_max['params']['epochs']))\n",
    "    interpretable_dict['init'] = param_reference['init'][int(round(optimization_max['params']['init']))] # categorical\n",
    "    interpretable_dict['lr'] = optimization_max['params']['lr']\n",
    "    interpretable_dict['momentum'] = optimization_max['params']['momentum']\n",
    "    interpretable_dict['n_layers'] = int(round(optimization_max['params']['n_layers']))\n",
    "    interpretable_dict['optimizer'] = re.findall(\"[A-Z|a-z]+\\'\", str(param_reference['optimizer'][int(round(optimization_max['params']['optimizer']))]))[0][:-1] # categorical\n",
    "    interpretable_dict['units'] = int(round(optimization_max['params']['units']))\n",
    "    return interpretable_dict"
   ]
  },
  {
   "cell_type": "code",
   "execution_count": 103,
   "metadata": {},
   "outputs": [
    {
     "data": {
      "text/html": [
       "<style  type=\"text/css\" >\n",
       "</style><table id=\"T_4514db08_e9de_11e9_8557_8c8590c1c1c8\" ><caption>Results of Bayesian Optimization: best set of hyperparameters</caption><thead>    <tr>        <th class=\"blank level0\" ></th>        <th class=\"col_heading level0 col0\" >AUC</th>        <th class=\"col_heading level0 col1\" >activation</th>        <th class=\"col_heading level0 col2\" >batch_size</th>        <th class=\"col_heading level0 col3\" >dropout_rate</th>        <th class=\"col_heading level0 col4\" >epochs</th>        <th class=\"col_heading level0 col5\" >init</th>        <th class=\"col_heading level0 col6\" >lr</th>        <th class=\"col_heading level0 col7\" >momentum</th>        <th class=\"col_heading level0 col8\" >n_layers</th>        <th class=\"col_heading level0 col9\" >optimizer</th>        <th class=\"col_heading level0 col10\" >units</th>    </tr></thead><tbody>\n",
       "                <tr>\n",
       "                        <th id=\"T_4514db08_e9de_11e9_8557_8c8590c1c1c8level0_row0\" class=\"row_heading level0 row0\" >Best</th>\n",
       "                        <td id=\"T_4514db08_e9de_11e9_8557_8c8590c1c1c8row0_col0\" class=\"data row0 col0\" >0.877166</td>\n",
       "                        <td id=\"T_4514db08_e9de_11e9_8557_8c8590c1c1c8row0_col1\" class=\"data row0 col1\" >relu</td>\n",
       "                        <td id=\"T_4514db08_e9de_11e9_8557_8c8590c1c1c8row0_col2\" class=\"data row0 col2\" >10</td>\n",
       "                        <td id=\"T_4514db08_e9de_11e9_8557_8c8590c1c1c8row0_col3\" class=\"data row0 col3\" >0.1</td>\n",
       "                        <td id=\"T_4514db08_e9de_11e9_8557_8c8590c1c1c8row0_col4\" class=\"data row0 col4\" >10</td>\n",
       "                        <td id=\"T_4514db08_e9de_11e9_8557_8c8590c1c1c8row0_col5\" class=\"data row0 col5\" >lecun_uniform</td>\n",
       "                        <td id=\"T_4514db08_e9de_11e9_8557_8c8590c1c1c8row0_col6\" class=\"data row0 col6\" >0.01</td>\n",
       "                        <td id=\"T_4514db08_e9de_11e9_8557_8c8590c1c1c8row0_col7\" class=\"data row0 col7\" >0.6</td>\n",
       "                        <td id=\"T_4514db08_e9de_11e9_8557_8c8590c1c1c8row0_col8\" class=\"data row0 col8\" >2</td>\n",
       "                        <td id=\"T_4514db08_e9de_11e9_8557_8c8590c1c1c8row0_col9\" class=\"data row0 col9\" >Adam</td>\n",
       "                        <td id=\"T_4514db08_e9de_11e9_8557_8c8590c1c1c8row0_col10\" class=\"data row0 col10\" >50</td>\n",
       "            </tr>\n",
       "    </tbody></table>"
      ],
      "text/plain": [
       "<pandas.io.formats.style.Styler at 0x14c473400>"
      ]
     },
     "execution_count": 103,
     "metadata": {},
     "output_type": "execute_result"
    }
   ],
   "source": [
    "import pandas as pd\n",
    "\n",
    "interpretable_dict = convert_to_interpretable_dict(optimization.max)\n",
    "pd.DataFrame.from_dict(interpretable_dict, orient='index', columns=['Best']).T.style.set_caption(\"Results of Bayesian Optimization: best set of hyperparameters\")"
   ]
  },
  {
   "cell_type": "markdown",
   "metadata": {},
   "source": [
    "## Running Model on Test set"
   ]
  },
  {
   "cell_type": "code",
   "execution_count": 118,
   "metadata": {},
   "outputs": [
    {
     "data": {
      "text/plain": [
       "<keras.callbacks.callbacks.History at 0x15835be80>"
      ]
     },
     "execution_count": 118,
     "metadata": {},
     "output_type": "execute_result"
    }
   ],
   "source": [
    "# build model with corresponding hyperparameters\n",
    "keras.backend.clear_session()\n",
    "model = Sequential()\n",
    "model.add(\n",
    "    Dense(units=50, input_dim=X_valid.shape[1], activation='relu', kernel_initializer='lecun_uniform') # input layer\n",
    ")\n",
    "# Create an arbitrary number of Hidden Layers\n",
    "for n in range(2):\n",
    "    model.add(Dense(units=50, activation='relu'))\n",
    "    model.add(Dropout(0.1))\n",
    "model.add(Dense(units=1, activation='sigmoid'))     # Output Layer\n",
    "model.compile(loss='binary_crossentropy', optimizer=Adam(learning_rate=0.01), metrics=['accuracy'])\n",
    "# FIXME: adjust epochs and batch size\n",
    "model.fit(X_train, y_train, batch_size=10, epochs=10, verbose=0)"
   ]
  },
  {
   "cell_type": "code",
   "execution_count": 104,
   "metadata": {},
   "outputs": [],
   "source": [
    "import csv\n",
    "\n",
    "smiles, y_test = [], []\n",
    "with open('data/test.csv') as f:\n",
    "    csv_reader = csv.reader(f, delimiter=',')\n",
    "    for row in csv_reader:\n",
    "        if row[1] != 'smiles':\n",
    "            # read smiles from the 2nd column\n",
    "            smiles.append(row[1])\n",
    "            # read labels from the 3rd column\n",
    "            y_test.append(row[2])"
   ]
  },
  {
   "cell_type": "code",
   "execution_count": 105,
   "metadata": {},
   "outputs": [],
   "source": [
    "info_dicts, X_test = [], []\n",
    "for smile in smiles:\n",
    "    m = Chem.MolFromSmiles(smile)\n",
    "    info = {}\n",
    "    bit_vector = AllChem.GetMorganFingerprintAsBitVect(m, 3, nBits=2048, bitInfo=info)\n",
    "    X_test.append(bit_vector)\n",
    "    info_dicts.append(info)\n",
    "    \n",
    "X_test = np.array(X_test)\n",
    "y_test = np.array(y_test, dtype=np.int8)"
   ]
  },
  {
   "cell_type": "markdown",
   "metadata": {},
   "source": [
    "### Plotting test set ROC"
   ]
  },
  {
   "cell_type": "code",
   "execution_count": 119,
   "metadata": {},
   "outputs": [
    {
     "data": {
      "image/png": "[encoded data removed]",
      "text/plain": [
       "<Figure size 432x288 with 1 Axes>"
      ]
     },
     "metadata": {
      "needs_background": "light"
     },
     "output_type": "display_data"
    }
   ],
   "source": [
    "%matplotlib inline\n",
    "from sklearn.metrics import roc_curve, roc_auc_score\n",
    "import matplotlib.pyplot as plt\n",
    "\n",
    "y_test_pred = model.predict(X_test)\n",
    "auc = roc_auc_score(y_test, y_test_pred)\n",
    "fpr, tpr, _ = roc_curve(y_test, y_test_pred)\n",
    "plot_roc(fpr, tpr, auc)"
   ]
  },
  {
   "cell_type": "markdown",
   "metadata": {},
   "source": [
    "## Loading and Reevaluating Previous Model\n",
    "\n",
    "This is just a sanity check that I'd like to make because th repository has been a mess in the recent while. So in order to check that this model has the same weights as the one reported in my last report, I am going to load it and then reevaluate it on the test set, and see if I get the same AUC score."
   ]
  },
  {
   "cell_type": "code",
   "execution_count": 11,
   "metadata": {},
   "outputs": [
    {
     "name": "stdout",
     "output_type": "stream",
     "text": [
      "Model: \"sequential_2\"\n",
      "_________________________________________________________________\n",
      "Layer (type)                 Output Shape              Param #   \n",
      "=================================================================\n",
      "dense_1 (Dense)              (None, 512)               1049088   \n",
      "_________________________________________________________________\n",
      "dense_2 (Dense)              (None, 512)               262656    \n",
      "_________________________________________________________________\n",
      "dropout_1 (Dropout)          (None, 512)               0         \n",
      "_________________________________________________________________\n",
      "dense_3 (Dense)              (None, 512)               262656    \n",
      "_________________________________________________________________\n",
      "dropout_2 (Dropout)          (None, 512)               0         \n",
      "_________________________________________________________________\n",
      "dense_4 (Dense)              (None, 512)               262656    \n",
      "_________________________________________________________________\n",
      "dropout_3 (Dropout)          (None, 512)               0         \n",
      "_________________________________________________________________\n",
      "dense_5 (Dense)              (None, 512)               262656    \n",
      "_________________________________________________________________\n",
      "dropout_4 (Dropout)          (None, 512)               0         \n",
      "_________________________________________________________________\n",
      "dense_6 (Dense)              (None, 512)               262656    \n",
      "_________________________________________________________________\n",
      "dropout_5 (Dropout)          (None, 512)               0         \n",
      "_________________________________________________________________\n",
      "dense_7 (Dense)              (None, 1)                 513       \n",
      "=================================================================\n",
      "Total params: 2,362,881\n",
      "Trainable params: 2,362,881\n",
      "Non-trainable params: 0\n",
      "_________________________________________________________________\n"
     ]
    }
   ],
   "source": [
    "import tensorflow as tf\n",
    "import pixiedust\n",
    "from tensorflow import keras\n",
    "from keras.models import model_from_json\n",
    "import json\n",
    "\n",
    "# open json file and read content\n",
    "with open('analysis_best_model/best_model.json','r') as f:\n",
    "    json_string = f.readline()\n",
    "# deserialize the json data into a keras model (only structure)\n",
    "model = model_from_json(json_string)\n",
    "# load the adjusted weights of the model\n",
    "model.load_weights('analysis_best_model/best_model.h5')\n",
    "# print a summary of the structure\n",
    "model.summary()"
   ]
  },
  {
   "cell_type": "markdown",
   "metadata": {},
   "source": [
    "### Read Dataset"
   ]
  },
  {
   "cell_type": "code",
   "execution_count": 2,
   "metadata": {},
   "outputs": [],
   "source": [
    "import csv\n",
    "\n",
    "smiles, y_test = [], []\n",
    "with open('data/test.csv') as f:\n",
    "    csv_reader = csv.reader(f, delimiter=',')\n",
    "    for row in csv_reader:\n",
    "        if row[1] != 'smiles':\n",
    "            # read smiles from the 2nd column\n",
    "            smiles.append(row[1])\n",
    "            # read labels from the 3rd column\n",
    "            y_test.append(row[2])"
   ]
  },
  {
   "cell_type": "code",
   "execution_count": 3,
   "metadata": {},
   "outputs": [],
   "source": [
    "from rdkit import Chem\n",
    "from rdkit.Chem import AllChem\n",
    "import numpy as np\n",
    "\n",
    "info_dicts, X_test = [], []\n",
    "for smile in smiles:\n",
    "    m = Chem.MolFromSmiles(smile)\n",
    "    info = {}\n",
    "    bit_vector = AllChem.GetMorganFingerprintAsBitVect(m, 3, nBits=2048, bitInfo=info)\n",
    "    X_test.append(bit_vector)\n",
    "    info_dicts.append(info)\n",
    "    \n",
    "X_test = np.array(X_test)\n",
    "y_test = np.array(y_test, dtype=np.int8)"
   ]
  },
  {
   "cell_type": "markdown",
   "metadata": {},
   "source": [
    "### Evaluation\n",
    "\n",
    "Done! No need to re-run this"
   ]
  },
  {
   "cell_type": "code",
   "execution_count": 106,
   "metadata": {},
   "outputs": [],
   "source": [
    "def plot_roc(fpr, tpr, roc_auc):\n",
    "    plt.figure()\n",
    "    lw = 2\n",
    "    plt.plot(fpr, tpr, color='darkorange',\n",
    "             lw=lw, label='ROC curve (area = %0.2f)' % roc_auc)\n",
    "    plt.plot([0, 1], [0, 1], color='navy', lw=lw, linestyle='--')\n",
    "    plt.xlim([0.0, 1.0])\n",
    "    plt.ylim([0.0, 1.05])\n",
    "    plt.xlabel('False Positive Rate')\n",
    "    plt.ylabel('True Positive Rate')\n",
    "    plt.title('Receiver operating characteristic example')\n",
    "    plt.legend(loc=\"lower right\")\n",
    "    plt.show()"
   ]
  },
  {
   "cell_type": "code",
   "execution_count": 5,
   "metadata": {
    "scrolled": true
   },
   "outputs": [
    {
     "name": "stdout",
     "output_type": "stream",
     "text": [
      "WARNING:tensorflow:From /Users/kareem/miniconda3/envs/molecules_and_ml/lib/python3.6/site-packages/keras/backend/tensorflow_backend.py:422: The name tf.global_variables is deprecated. Please use tf.compat.v1.global_variables instead.\n",
      "\n"
     ]
    },
    {
     "data": {
      "image/png": "[encoded data removed]",
      "text/plain": [
       "<Figure size 432x288 with 1 Axes>"
      ]
     },
     "metadata": {
      "needs_background": "light"
     },
     "output_type": "display_data"
    }
   ],
   "source": [
    "%matplotlib inline\n",
    "from sklearn.metrics import roc_curve, roc_auc_score\n",
    "import matplotlib.pyplot as plt\n",
    "\n",
    "y_test_pred = model.predict_classes(X_test)\n",
    "auc = roc_auc_score(y_test, y_test_pred)\n",
    "fpr, tpr, _ = roc_curve(y_test, y_test_pred)\n",
    "plot_roc(fpr, tpr, auc)"
   ]
  },
  {
   "cell_type": "markdown",
   "metadata": {},
   "source": [
    "## Converting Keras Model to Tensorflow\n",
    "\n",
    "Blackbox function from the Tensorflow documentation that converts a Keras model to a Tensorflow one."
   ]
  },
  {
   "cell_type": "code",
   "execution_count": null,
   "metadata": {},
   "outputs": [],
   "source": [
    "from keras import backend as K\n",
    "import tensorflow as tf\n",
    "\n",
    "def freeze_session(session, keep_var_names=None, output_names=None, clear_devices=True):\n",
    "    \"\"\"\n",
    "    Freezes the state of a session into a pruned computation graph.\n",
    "\n",
    "    Creates a new computation graph where variable nodes are replaced by\n",
    "    constants taking their current value in the session. The new graph will be\n",
    "    pruned so subgraphs that are not necessary to compute the requested\n",
    "    outputs are removed.\n",
    "    @param session The TensorFlow session to be frozen.\n",
    "    @param keep_var_names A list of variable names that should not be frozen,\n",
    "                          or None to freeze all the variables in the graph.\n",
    "    @param output_names Names of the relevant graph outputs.\n",
    "    @param clear_devices Remove the device directives from the graph for better portability.\n",
    "    @return The frozen graph definition.\n",
    "    \"\"\"\n",
    "    from tensorflow.python.framework.graph_util import convert_variables_to_constants\n",
    "    graph = session.graph\n",
    "    with graph.as_default():\n",
    "        freeze_var_names = list(set(v.op.name for v in tf.global_variables()).difference(keep_var_names or []))\n",
    "        output_names = output_names or []\n",
    "        output_names += [v.op.name for v in tf.global_variables()]\n",
    "        # Graph -> GraphDef ProtoBuf\n",
    "        input_graph_def = graph.as_graph_def()\n",
    "        if clear_devices:\n",
    "            for node in input_graph_def.node:\n",
    "                node.device = \"\"\n",
    "        frozen_graph = convert_variables_to_constants(session, input_graph_def,\n",
    "                                                      output_names, freeze_var_names)\n",
    "        return frozen_graph\n",
    "\n",
    "\n",
    "frozen_graph = freeze_session(K.get_session(),\n",
    "                              output_names=[out.op.name for out in model.outputs])"
   ]
  },
  {
   "cell_type": "markdown",
   "metadata": {},
   "source": [
    "Then we save the tensorflow graph to a file under `model/tf_best_model.pb`"
   ]
  },
  {
   "cell_type": "code",
   "execution_count": null,
   "metadata": {},
   "outputs": [],
   "source": [
    "# Save to ./model/tf_model.pb\n",
    "tf.train.write_graph(frozen_graph, \"analysis_best_model\", \"tf_best_model.pb\", as_text=False)"
   ]
  },
  {
   "cell_type": "markdown",
   "metadata": {},
   "source": [
    "## Reload the Tensorflow graph model\n",
    "\n",
    "As of this point, we can forget about the Keras graph model from before."
   ]
  },
  {
   "cell_type": "code",
   "execution_count": null,
   "metadata": {},
   "outputs": [],
   "source": [
    "import tensorflow as tf\n",
    "from tensorflow.python.platform import gfile\n",
    "\n",
    "f = gfile.FastGFile(\"./analysis_best_model/tf_best_model.pb\", 'rb')\n",
    "graph_def = tf.GraphDef()\n",
    "# Parses a serialized binary message into the current message.\n",
    "graph_def.ParseFromString(f.read())\n",
    "f.close()\n",
    "\n",
    "with tf.Session() as sess:\n",
    "    sess.graph.as_default()\n",
    "    # Import a serialized TensorFlow `GraphDef` protocol buffer\n",
    "    # and place into the current default `Graph`.\n",
    "    g_in = tf.import_graph_def(graph_def)\n",
    "    writer = tf.summary.FileWriter('analysis_best_model'+'/log/')\n",
    "    writer.add_graph(sess.graph)\n",
    "    writer.flush()\n",
    "    writer.close()"
   ]
  },
  {
   "cell_type": "markdown",
   "metadata": {},
   "source": [
    "### Visualize the graph"
   ]
  },
  {
   "cell_type": "code",
   "execution_count": null,
   "metadata": {},
   "outputs": [],
   "source": [
    "from show_graph import show_graph\n",
    "import tensorflow as tf\n",
    "f = gfile.FastGFile(\"./analysis_best_model/tf_best_model.pb\", 'rb')\n",
    "graph_def = tf.GraphDef()\n",
    "# Parses a serialized binary message into the current message.\n",
    "graph_def.ParseFromString(f.read())\n",
    "# Show current session graph with TensorBoard in Jupyter Notebook.\n",
    "show_graph(graph_def)"
   ]
  },
  {
   "cell_type": "markdown",
   "metadata": {},
   "source": [
    "## Integrated Gradients\n",
    "\n",
    "In the following we provide an implementation for the integrated gradients. Steps of the implementation are:\n",
    "1. Consider a black image (each pixel 0) as a baseline\n",
    "2. Now, interpolate a series of images , increasing in intensity, between the baseline image and the original image\n",
    "3. The scores of these images (softmax output) when plotted, will look like the following.\n",
    "4. Our region of interest lies where the slope of the score vs intensity graph doesn't remain stagnant. We call these gradients - *interesting gradients*\n",
    "5. Gradients of the output with respect to these series of interpolated images, when calculated gives us the following\n",
    "6. The integration of these series of gradients give us the Integrated gradients of the image.\n",
    "\n",
    "*Right while I'm writing this implementation below, I came to realize that there's an easier way to get the gradients instead of calculating them manually, which through Keras's function `get_gradients()` of the Sequential model. **See therefore that you update the your model's implementation according to the Keras's new implementation**.*"
   ]
  },
  {
   "cell_type": "markdown",
   "metadata": {},
   "source": [
    "#### Why/What it's not working\n",
    "\n",
    "The function from **<font style=\"font-family: times; font-size: 14pt\">Keras</font>** for calculating gradients isn't working."
   ]
  },
  {
   "cell_type": "code",
   "execution_count": null,
   "metadata": {
    "pixiedust": {
     "displayParams": {}
    }
   },
   "outputs": [],
   "source": [
    "%%pixie_debugger\n",
    "prediction_tensor = model.predict(X_test) # prediciton tensor\n",
    "input_tensor = X_test # input tensor\n",
    "gradients = tf.gradients(prediction_tensor, input_tensor)\n",
    "# compute the gradient of the input picture wrt this loss\n",
    "# grads = K.gradients(loss, input_img)[0]"
   ]
  },
  {
   "cell_type": "markdown",
   "metadata": {},
   "source": [
    "#### Author Implementation\n",
    "\n",
    "In the following cell, I provide the implementation of the integrated gradients that the author provides (<u>not working</u>)."
   ]
  },
  {
   "cell_type": "code",
   "execution_count": 6,
   "metadata": {},
   "outputs": [
    {
     "data": {
      "text/plain": [
       "[<tf.Tensor 'Mul_2:0' shape=() dtype=float32>,\n",
       " <tf.Tensor 'ones:0' shape=() dtype=float32>]"
      ]
     },
     "execution_count": 6,
     "metadata": {},
     "output_type": "execute_result"
    }
   ],
   "source": [
    "a = tf.constant(0.)\n",
    "with tf.GradientTape() as tape:\n",
    "    tape.watch(a)\n",
    "    b = 2 * a\n",
    "    g = tape.gradient(b, [a, b])\n",
    "    \n",
    "g"
   ]
  },
  {
   "cell_type": "code",
   "execution_count": 7,
   "metadata": {},
   "outputs": [
    {
     "ename": "NameError",
     "evalue": "name 't_input' is not defined",
     "output_type": "error",
     "traceback": [
      "\u001b[0;31m---------------------------------------------------------------------------\u001b[0m",
      "\u001b[0;31mNameError\u001b[0m                                 Traceback (most recent call last)",
      "\u001b[0;32m<ipython-input-7-6dbf8ee9d338>\u001b[0m in \u001b[0;36m<module>\u001b[0;34m\u001b[0m\n\u001b[0;32m----> 1\u001b[0;31m \u001b[0mmodel\u001b[0m\u001b[0;34m.\u001b[0m\u001b[0mpredict\u001b[0m\u001b[0;34m(\u001b[0m\u001b[0mt_input\u001b[0m\u001b[0;34m,\u001b[0m \u001b[0msteps\u001b[0m\u001b[0;34m=\u001b[0m\u001b[0;36m1\u001b[0m\u001b[0;34m)\u001b[0m\u001b[0;34m\u001b[0m\u001b[0;34m\u001b[0m\u001b[0m\n\u001b[0m",
      "\u001b[0;31mNameError\u001b[0m: name 't_input' is not defined"
     ]
    }
   ],
   "source": [
    "model.predict(t_input, steps=1)"
   ]
  },
  {
   "cell_type": "markdown",
   "metadata": {},
   "source": [
    "This cell is working accordingly."
   ]
  },
  {
   "cell_type": "code",
   "execution_count": 14,
   "metadata": {
    "pixiedust": {
     "displayParams": {}
    },
    "scrolled": true
   },
   "outputs": [],
   "source": [
    "# %%pixie_debugger\n",
    "t_input = tf.constant(X_test[0].reshape(1, -1), dtype=np.float32)\n",
    "with tf.GradientTape() as tape:\n",
    "    tape.watch(t_input)\n",
    "    t_output = tf.convert_to_tensor(model.predict(t_input, steps=1), dtype=tf.float32)\n",
    "    g = tape.gradient(t_output, t_input)\n",
    "    \n",
    "g"
   ]
  },
  {
   "cell_type": "code",
   "execution_count": 16,
   "metadata": {},
   "outputs": [
    {
     "data": {
      "text/plain": [
       "NoneType"
      ]
     },
     "execution_count": 16,
     "metadata": {},
     "output_type": "execute_result"
    }
   ],
   "source": [
    "type(g)"
   ]
  },
  {
   "cell_type": "code",
   "execution_count": null,
   "metadata": {},
   "outputs": [],
   "source": [
    "import tensorflow as tf\n",
    "grad_ys = []\n",
    "\n",
    "t_input = tf.convert_to_tensor(X_test[0]) # input tensor\n",
    "t_prediction = tf.convert_to_tensor(model.predict(X_test[0].reshape(1, -1))) # output tensor\n",
    "t_gradients = tf.gradients(t_prediction, t_input, grad_ys=grad_ys)\n",
    "print(t_gradients)"
   ]
  },
  {
   "cell_type": "markdown",
   "metadata": {},
   "source": [
    "This is a very interesting cell! Apparently that's the right result of the function."
   ]
  },
  {
   "cell_type": "code",
   "execution_count": null,
   "metadata": {
    "pixiedust": {
     "displayParams": {}
    }
   },
   "outputs": [],
   "source": [
    "%%pixie_debugger\n",
    "import tensorflow as tf\n",
    "# return the probability scalar and convert it to tensor\n",
    "t_prediction = tf.convert_to_tensor(model.predict(X_test[0].reshape(1, -1)))\n",
    "# create a list of variables\n",
    "t_input = [tf.Variable(X_test[0])]\n",
    "tf.keras.backend.gradients(t_prediction, t_input)"
   ]
  },
  {
   "cell_type": "code",
   "execution_count": null,
   "metadata": {},
   "outputs": [],
   "source": [
    "import tensorflow as tf\n",
    "from keras import backend as keras\n",
    "import numpy as np\n",
    "# stub function\n",
    "# def input_tensor():\n",
    "#     return model.input\n",
    "# # stub function\n",
    "# def prediciton_tensor(label):\n",
    "#     return model.output\n",
    "\n",
    "def integrated_gradients(inp, baseline, label, steps=50):\n",
    "    t_input = input_tensor() # input tensor\n",
    "    t_prediction = prediciton_tensor(label) # output tensor\n",
    "    t_gradients = tf.gradients(t_prediction, t_input)[0] # gradients\n",
    "    path_inputs = [baseline + (i/steps)*(inp-baseline) for i in range(steps)]\n",
    "    grads = run_network(t_gradients, path_inputs)\n",
    "    return (inp-baseline)*np.average(grads, axis=0) # integration"
   ]
  },
  {
   "cell_type": "markdown",
   "metadata": {},
   "source": [
    "#### My Implementation (not working)\n",
    "\n",
    "In the following, I provide my own implementation of the integrated gradients according to my understanding of the math formula in the paper(<u>not working</u>)."
   ]
  },
  {
   "cell_type": "code",
   "execution_count": null,
   "metadata": {},
   "outputs": [],
   "source": [
    "from keras import backend as k\n",
    "import numpy as np\n",
    "\n",
    "# def integrated_gradients(inp, output_tensor, baseline=None, steps=50):\n",
    "\"\"\"My own implementation of the integrated gradients. I've made this over the formula under section \"Computing\n",
    "Integrated Gradients\". I'm not sure of the output of this function yet\n",
    "@Params\n",
    "------\n",
    "input_tensor:         array of path values (all alphas)\n",
    "output_tensor: of type Tensor\n",
    "baseline:      (Optional) The baseline vector - if not provided, the zero-vector/tensor is calcualted.\n",
    "steps:         (Optional), number of steps for integral estimation.\n",
    "\n",
    "@Returns\n",
    "-------\n",
    "Attribution vector\n",
    "\"\"\"\n",
    "# for the first molecule\n",
    "gradients = []\n",
    "for alpha in range(steps):\n",
    "    # gamma calculates the path function for a given alpha\n",
    "    gamma = lambda alpha: baseline + float(alpha)/steps*(inp - baseline)\n",
    "    baseline = np.zeros(shape=X_test[0].shape)\n",
    "    input_tensor_ = tf.convert_to_tensor(gamma(alpha)) # input_tensor tensor\n",
    "    # gradient of the output w.r.t. path function\n",
    "    output = tf.convert_to_tensor(model.predict(gamma(alpha).reshape(1, -1))) # output tensor\n",
    "    gradient = k.gradients(output, input_tensor)[0]\n",
    "    print(gradient)\n",
    "    gradients.append(gradient)\n",
    "    \n",
    "attributions = (inp - baseline)*np.average(gradients)\n",
    "print(attributions)\n",
    "\n",
    "# integrated_gradients(X_test[0], model.output)"
   ]
  },
  {
   "cell_type": "code",
   "execution_count": null,
   "metadata": {},
   "outputs": [],
   "source": [
    "baseline = np.zeros(shape=inp.shape)\n",
    "steps = 50\n",
    "gamma = lambda alpha: baseline + float(alpha)/steps*(inp - baseline)\n",
    "print(type(gamma(0.5)))\n",
    "xx = tf.convert_to_tensor(gamma(0.5))\n",
    "print(type(xx))"
   ]
  },
  {
   "cell_type": "code",
   "execution_count": null,
   "metadata": {},
   "outputs": [],
   "source": [
    "import tensorflow as tf\n",
    "print(tf.__version__)"
   ]
  },
  {
   "cell_type": "code",
   "execution_count": null,
   "metadata": {},
   "outputs": [],
   "source": [
    "# model.predict(gamma(2/steps))\n",
    "inp = X_test[478]\n",
    "print(\"Is gamma equal to input when alpha=1?\")\n",
    "print(gamma(1) == inp)\n",
    "print(\"Is gamma equal to baseline when alpha=0?\")\n",
    "print(gamma(0) == baseline)\n",
    "print(\"Is gamma equal to baseline when alpha=1?\")\n",
    "print(gamma(1) == baseline)\n",
    "print(\"Is gamma equal to input when alpha=0?\")\n",
    "print(gamma(0) == input)"
   ]
  },
  {
   "cell_type": "markdown",
   "metadata": {},
   "source": [
    "## Using GitHub Implemention\n",
    "\n",
    "Just for the sake of visualization, I'm using this package. However, once my implementation is successfully working, I will change it."
   ]
  },
  {
   "cell_type": "code",
   "execution_count": 22,
   "metadata": {},
   "outputs": [
    {
     "name": "stdout",
     "output_type": "stream",
     "text": [
      "None\n"
     ]
    }
   ],
   "source": [
    "print(model.optimizer)"
   ]
  },
  {
   "cell_type": "code",
   "execution_count": 17,
   "metadata": {},
   "outputs": [
    {
     "name": "stdout",
     "output_type": "stream",
     "text": [
      "Evaluated output channel (0-based index): All\n",
      "Building gradient functions\n"
     ]
    },
    {
     "name": "stderr",
     "output_type": "stream",
     "text": [
      "/Users/kareem/miniconda3/envs/molecules_and_ml/lib/python3.6/site-packages/keras/engine/sequential.py:111: UserWarning: `Sequential.model` is deprecated. `Sequential` is a subclass of `Model`, you can just use your `Sequential` instance directly.\n",
      "  warnings.warn('`Sequential.model` is deprecated. '\n"
     ]
    },
    {
     "ename": "AttributeError",
     "evalue": "'NoneType' object has no attribute 'get_gradients'",
     "output_type": "error",
     "traceback": [
      "\u001b[0;31m---------------------------------------------------------------------------\u001b[0m",
      "\u001b[0;31mAttributeError\u001b[0m                            Traceback (most recent call last)",
      "\u001b[0;32m<ipython-input-17-eb75297a1598>\u001b[0m in \u001b[0;36m<module>\u001b[0;34m\u001b[0m\n\u001b[1;32m      1\u001b[0m \u001b[0;32mfrom\u001b[0m \u001b[0mmodules\u001b[0m\u001b[0;34m.\u001b[0m\u001b[0mIntegratedGradients\u001b[0m \u001b[0;32mimport\u001b[0m \u001b[0mintegrated_gradients\u001b[0m \u001b[0;32mas\u001b[0m \u001b[0mIG\u001b[0m\u001b[0;34m\u001b[0m\u001b[0;34m\u001b[0m\u001b[0m\n\u001b[0;32m----> 2\u001b[0;31m \u001b[0mig\u001b[0m \u001b[0;34m=\u001b[0m \u001b[0mIG\u001b[0m\u001b[0;34m(\u001b[0m\u001b[0mmodel\u001b[0m\u001b[0;34m)\u001b[0m\u001b[0;34m\u001b[0m\u001b[0;34m\u001b[0m\u001b[0m\n\u001b[0m\u001b[1;32m      3\u001b[0m \u001b[0mig\u001b[0m\u001b[0;34m.\u001b[0m\u001b[0mexplain\u001b[0m\u001b[0;34m(\u001b[0m\u001b[0mX_test\u001b[0m\u001b[0;34m[\u001b[0m\u001b[0;36m0\u001b[0m\u001b[0;34m]\u001b[0m\u001b[0;34m)\u001b[0m\u001b[0;34m\u001b[0m\u001b[0;34m\u001b[0m\u001b[0m\n",
      "\u001b[0;32m~/JupyterNotebooks/molecules_and_ml/modules/IntegratedGradients.py\u001b[0m in \u001b[0;36m__init__\u001b[0;34m(self, model, outchannels, verbose)\u001b[0m\n\u001b[1;32m     71\u001b[0m             \u001b[0;31m# Get tensor that calculates gradient\u001b[0m\u001b[0;34m\u001b[0m\u001b[0;34m\u001b[0m\u001b[0;34m\u001b[0m\u001b[0m\n\u001b[1;32m     72\u001b[0m             \u001b[0;32mif\u001b[0m \u001b[0mK\u001b[0m\u001b[0;34m.\u001b[0m\u001b[0mbackend\u001b[0m\u001b[0;34m(\u001b[0m\u001b[0;34m)\u001b[0m \u001b[0;34m==\u001b[0m \u001b[0;34m\"tensorflow\"\u001b[0m\u001b[0;34m:\u001b[0m\u001b[0;34m\u001b[0m\u001b[0;34m\u001b[0m\u001b[0m\n\u001b[0;32m---> 73\u001b[0;31m                 \u001b[0mgradients\u001b[0m \u001b[0;34m=\u001b[0m \u001b[0mself\u001b[0m\u001b[0;34m.\u001b[0m\u001b[0mmodel\u001b[0m\u001b[0;34m.\u001b[0m\u001b[0moptimizer\u001b[0m\u001b[0;34m.\u001b[0m\u001b[0mget_gradients\u001b[0m\u001b[0;34m(\u001b[0m\u001b[0mself\u001b[0m\u001b[0;34m.\u001b[0m\u001b[0mmodel\u001b[0m\u001b[0;34m.\u001b[0m\u001b[0moutput\u001b[0m\u001b[0;34m[\u001b[0m\u001b[0;34m:\u001b[0m\u001b[0;34m,\u001b[0m \u001b[0mc\u001b[0m\u001b[0;34m]\u001b[0m\u001b[0;34m,\u001b[0m \u001b[0mself\u001b[0m\u001b[0;34m.\u001b[0m\u001b[0mmodel\u001b[0m\u001b[0;34m.\u001b[0m\u001b[0minput\u001b[0m\u001b[0;34m)\u001b[0m\u001b[0;34m\u001b[0m\u001b[0;34m\u001b[0m\u001b[0m\n\u001b[0m\u001b[1;32m     74\u001b[0m             \u001b[0;32mif\u001b[0m \u001b[0mK\u001b[0m\u001b[0;34m.\u001b[0m\u001b[0mbackend\u001b[0m\u001b[0;34m(\u001b[0m\u001b[0;34m)\u001b[0m \u001b[0;34m==\u001b[0m \u001b[0;34m\"theano\"\u001b[0m\u001b[0;34m:\u001b[0m\u001b[0;34m\u001b[0m\u001b[0;34m\u001b[0m\u001b[0m\n\u001b[1;32m     75\u001b[0m                 \u001b[0mgradients\u001b[0m \u001b[0;34m=\u001b[0m \u001b[0mself\u001b[0m\u001b[0;34m.\u001b[0m\u001b[0mmodel\u001b[0m\u001b[0;34m.\u001b[0m\u001b[0moptimizer\u001b[0m\u001b[0;34m.\u001b[0m\u001b[0mget_gradients\u001b[0m\u001b[0;34m(\u001b[0m\u001b[0mself\u001b[0m\u001b[0;34m.\u001b[0m\u001b[0mmodel\u001b[0m\u001b[0;34m.\u001b[0m\u001b[0moutput\u001b[0m\u001b[0;34m[\u001b[0m\u001b[0;34m:\u001b[0m\u001b[0;34m,\u001b[0m \u001b[0mc\u001b[0m\u001b[0;34m]\u001b[0m\u001b[0;34m.\u001b[0m\u001b[0msum\u001b[0m\u001b[0;34m(\u001b[0m\u001b[0;34m)\u001b[0m\u001b[0;34m,\u001b[0m \u001b[0mself\u001b[0m\u001b[0;34m.\u001b[0m\u001b[0mmodel\u001b[0m\u001b[0;34m.\u001b[0m\u001b[0minput\u001b[0m\u001b[0;34m)\u001b[0m\u001b[0;34m\u001b[0m\u001b[0;34m\u001b[0m\u001b[0m\n",
      "\u001b[0;31mAttributeError\u001b[0m: 'NoneType' object has no attribute 'get_gradients'"
     ]
    }
   ],
   "source": [
    "from IntegratedGradients import integrated_gradients as IG\n",
    "ig = IG(model)\n",
    "ig.explain(X_test[0])"
   ]
  },
  {
   "cell_type": "code",
   "execution_count": null,
   "metadata": {},
   "outputs": [],
   "source": [
    "outputTensor = model.output #Or model.layers[index].output\n",
    "listOfVariableTensors = model.trainable_weights\n",
    "gradients = k.gradients(outputTensor, listOfVariableTensors)"
   ]
  },
  {
   "cell_type": "code",
   "execution_count": null,
   "metadata": {},
   "outputs": [],
   "source": [
    "k.gradients(model.output, # here I need a variable)"
   ]
  },
  {
   "cell_type": "markdown",
   "metadata": {},
   "source": [
    "## Visualizing the Attribution"
   ]
  },
  {
   "cell_type": "markdown",
   "metadata": {},
   "source": [
    "apparently what needs to be done here is to replace the `DataStructs.TanimotoSimilarity` with the my own attribution score that I get, in order to visualize the attribution correctly. However, I still don't know what type of function that is.\n",
    "\n",
    "Additionally, I should provide the zero-vector for the reference fingerprints."
   ]
  },
  {
   "cell_type": "code",
   "execution_count": null,
   "metadata": {},
   "outputs": [],
   "source": [
    "from rdkit import Chem\n",
    "from rdkit.Chem import Draw\n",
    "from rdkit.Chem.Draw import SimilarityMaps\n",
    "from rdkit import DataStructs\n",
    "\n",
    "mol = Chem.MolFromSmiles('COc1cccc2cc(C(=O)NCCCCN3CCN(c4cccc5nccnc54)CC3)oc21')\n",
    "refmol = Chem.MolFromSmiles('CCCN(CCCCN1CCN(c2ccccc2OC)CC1)Cc1ccc2ccccc2c1')\n",
    "\n",
    "fig, maxweight = SimilarityMaps.GetSimilarityMapForFingerprint(refmol, mol, lambda m,idx: SimilarityMaps.GetMorganFingerprint(m, atomId=idx, radius=3, fpType='count', nBits=2048),\n",
    "                                                               metric=DataStructs.TanimotoSimilarity)"
   ]
  }
 ],
 "metadata": {
  "kernelspec": {
   "display_name": "Python 3",
   "language": "python",
   "name": "python3"
  },
  "language_info": {
   "codemirror_mode": {
    "name": "ipython",
    "version": 3
   },
   "file_extension": ".py",
   "mimetype": "text/x-python",
   "name": "python",
   "nbconvert_exporter": "python",
   "pygments_lexer": "ipython3",
   "version": "3.6.7"
  }
 },
 "nbformat": 4,
 "nbformat_minor": 2
}
