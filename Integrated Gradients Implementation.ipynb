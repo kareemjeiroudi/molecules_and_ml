{
 "cells": [
  {
   "cell_type": "markdown",
   "metadata": {},
   "source": [
    "## Load Data\n",
    "\n",
    "We load the initial training data. Skip this entire section if the train model is available under `analysis_best_model/best_model_bayesian_optimization.h5` and jump down to <font style=\"font-size:13pt; font-weight: bold\">Load The Model<font>\n",
    "\n",
    "### Calculating Fingerprints"
   ]
  },
  {
   "cell_type": "code",
   "execution_count": 1,
   "metadata": {},
   "outputs": [],
   "source": [
    "import numpy as np\n",
    "from rdkit import Chem\n",
    "from rdkit.Chem import AllChem\n",
    "\n",
    "supplier = Chem.SDMolSupplier('data/cas_4337.sdf')\n",
    "infos = [{} for mol in supplier]\n",
    "fingerprints = np.array([AllChem.GetMorganFingerprintAsBitVect(supplier[i], 3, nBits=2048, bitInfo=infos[i]) \n",
    "                         for i in range(len(supplier))])"
   ]
  },
  {
   "cell_type": "markdown",
   "metadata": {},
   "source": [
    "### Splitting Dataset\n",
    "\n",
    "into train and validation sets"
   ]
  },
  {
   "cell_type": "code",
   "execution_count": 2,
   "metadata": {},
   "outputs": [],
   "source": [
    "valid_ids = [6,   10,   29,   32,   42,   58,   72,   83,   98,  100,  128, \n",
    "        145,  148,  168,  171,  205,  208,  237,  244,  285,  290,  291,\n",
    "         300,  312,  332,  334,  335,  347,  356,  369,  371,  377,  407,\n",
    "         424,  456,  458,  470,  472,  486,  514,  515,  528,  557,  563,\n",
    "         599,  610,  616,  628,  640,  701,  704,  722,  764,  794,  818,\n",
    "         821,  840,  850,  856,  859,  874,  878,  882,  898,  901,  925,\n",
    "         936,  945,  957,  974,  977, 1013, 1019, 1030, 1038, 1047, 1049,\n",
    "        1072, 1073, 1100, 1159, 1168, 1187, 1190, 1194, 1201, 1202, 1233,\n",
    "        1247, 1258, 1264, 1273, 1283, 1288, 1300, 1302, 1319, 1339, 1349,\n",
    "        1402, 1413, 1416, 1422, 1426, 1435, 1454, 1465, 1483, 1502, 1513,\n",
    "        1515, 1520, 1548, 1576, 1604, 1606, 1621, 1650, 1695, 1696, 1711,\n",
    "        1714, 1716, 1725, 1743, 1746, 1752, 1780, 1788, 1794, 1799, 1813,\n",
    "        1826, 1866, 1886, 1901, 1903, 1921, 1929, 1940, 1969, 1970, 1997,\n",
    "        1998, 2008, 2010, 2011, 2018, 2023, 2046, 2060, 2064, 2080, 2081,\n",
    "        2131, 2171, 2182, 2203, 2212, 2224, 2231, 2241, 2246, 2283, 2294,\n",
    "        2295, 2297, 2327, 2329, 2331, 2349, 2357, 2360, 2365, 2397, 2413,\n",
    "        2417, 2418, 2421, 2448, 2467, 2510, 2516, 2528, 2533, 2549, 2562,\n",
    "        2601, 2604, 2606, 2609, 2611, 2632, 2644, 2653, 2677, 2682, 2685,\n",
    "        2692, 2703, 2708, 2714, 2719, 2726, 2732, 2759, 2761, 2776, 2780,\n",
    "        2817, 2818, 2829, 2837, 2857, 2858, 2884, 2899, 2902, 2905, 2911,\n",
    "        2939, 2975, 2977, 2986, 3007, 3009, 3018, 3024, 3038, 3066, 3087,\n",
    "        3098, 3107, 3117, 3122, 3139, 3157, 3161, 3164, 3217, 3223, 3233,\n",
    "        3263, 3265, 3271, 3290, 3295, 3307, 3313, 3317, 3321, 3382, 3384,\n",
    "        3388, 3400, 3409, 3412, 3419, 3423, 3449, 3470, 3487, 3488, 3503,\n",
    "        3509, 3511, 3539, 3562, 3626, 3637, 3654, 3662, 3663, 3668, 3671,\n",
    "        3688, 3689, 3695, 3710, 3726, 3743, 3744, 3782, 3791, 3794, 3808,\n",
    "        3809, 3841, 3849, 3874, 3910, 3912, 3925, 3945, 3950, 3958, 3959,\n",
    "        3962, 3964, 3967, 3978, 3993, 4009, 4010, 4055, 4057, 4085, 4089,\n",
    "        4096, 4099, 4107, 4112, 4129, 4135, 4151, 4155, 4196, 4209, 4216,\n",
    "        4234, 4236, 4251, 4267, 4283, 4317, 4326, 4335\n",
    "]"
   ]
  },
  {
   "cell_type": "code",
   "execution_count": 3,
   "metadata": {},
   "outputs": [],
   "source": [
    "X_train = []\n",
    "X_valid = []\n",
    "for i in range(len(fingerprints)):\n",
    "    if i in valid_ids:\n",
    "        X_valid.append(fingerprints[i])\n",
    "    else:\n",
    "        X_train.append(fingerprints[i])\n",
    "X_train = np.array(X_train)\n",
    "X_valid = np.array(X_valid)"
   ]
  },
  {
   "cell_type": "markdown",
   "metadata": {},
   "source": [
    "Collecting the lables from the supplier"
   ]
  },
  {
   "cell_type": "code",
   "execution_count": 4,
   "metadata": {},
   "outputs": [],
   "source": [
    "y_train, y_valid, i = [], [], 0\n",
    "for mol in supplier:\n",
    "    if mol.GetProp(\"Ames test categorisation\") == \"mutagen\":\n",
    "        if i in valid_ids:\n",
    "            y_valid.append(1)\n",
    "        else:\n",
    "            y_train.append(1)\n",
    "    else:\n",
    "        if i in valid_ids:\n",
    "            y_valid.append(0)\n",
    "        else:\n",
    "            y_train.append(0)\n",
    "    i+=1\n",
    "    \n",
    "y_train = np.array(y_train)\n",
    "y_valid = np.array(y_valid)"
   ]
  },
  {
   "cell_type": "markdown",
   "metadata": {},
   "source": [
    "## Optimizing Model's Architecture\n",
    "\n",
    "Using the Bayesian Inference"
   ]
  },
  {
   "cell_type": "code",
   "execution_count": 79,
   "metadata": {},
   "outputs": [],
   "source": [
    "from keras import backend as k\n",
    "from keras.models import Sequential\n",
    "from keras.layers import Activation, Dropout\n",
    "from keras.layers.core import Dense\n",
    "from keras.optimizers import SGD, Adam\n",
    "\n",
    "from sklearn.metrics import roc_auc_score\n",
    "\n",
    "import time\n",
    "\n",
    "from bayes_opt import BayesianOptimization"
   ]
  },
  {
   "cell_type": "markdown",
   "metadata": {},
   "source": [
    "Here we set the our search space as well as the substitution function"
   ]
  },
  {
   "cell_type": "code",
   "execution_count": 115,
   "metadata": {},
   "outputs": [],
   "source": [
    "param_reference = {'init': ['lecun_uniform', 'he_uniform'],\n",
    "             'activation': ['relu', 'sigmoid', 'selu'],\n",
    "              'optimizer': [SGD, Adam]\n",
    "                  }\n",
    "\n",
    "search_space = {'units': (5, 2048), # discrete\n",
    "                'activation': (0, 2), # categorical\n",
    "                'optimizer': (0, 2), # categorical\n",
    "                'lr': (.00001, .2), # continuous\n",
    "                'n_layers': (2, 15), # discrete\n",
    "                'epochs': (5, 30), # discrete\n",
    "                'batch_size': (1, 200), # discrete\n",
    "                'momentum': (0.001, 0.5), # continuous\n",
    "                'init': (0, 1), # categorical\n",
    "                'dropout_rate': (0.0001, 0.9) # continuous\n",
    "               }\n",
    "\n",
    "\n",
    "\n",
    "input_dim = X_valid.shape[1]\n",
    "def train_evaluate_and_auc(units, activation, optimizer, lr, n_layers, epochs, batch_size, momentum, init, dropout_rate):\n",
    "    # handle categorical\n",
    "    activation = param_reference['activation'][int(round(activation))]\n",
    "    optimizer = param_reference['optimizer'][int(round(optimizer))]\n",
    "    init = param_reference['init'][int(round(init))]\n",
    "    # handle discrete\n",
    "    units = int(round(units))\n",
    "    n_layers = int(round(n_layers))\n",
    "    epochs = int(round(epochs))\n",
    "    batch_size = int(round(batch_size))\n",
    "    \n",
    "    # build classifier with corresponding hyperparameters\n",
    "    keras.backend.clear_session()\n",
    "    classifier = Sequential()\n",
    "    classifier.add(\n",
    "        Dense(units=units, input_dim=input_dim, activation=activation, kernel_initializer=init) # input layer\n",
    "    )\n",
    "    # Create an arbitrary number of Hidden Layers\n",
    "    for n in range(n_layers):\n",
    "        classifier.add(Dense(units=units, activation=activation))\n",
    "        classifier.add(Dropout(dropout_rate))\n",
    "    classifier.add(Dense(units=1, activation='sigmoid'))     # Output Layer\n",
    "    if optimizer == SGD:\n",
    "        optimizer = SGD(learning_rate=lr, momentum=momentum)\n",
    "    else:\n",
    "        optimizer = Adam(learning_rate=lr)\n",
    "    classifier.compile(loss='binary_crossentropy', optimizer=optimizer, metrics=['accuracy'])\n",
    "    # FIXME: adjust epochs and batch size\n",
    "    classifier.fit(X_train, y_train, batch_size=batch_size, epochs=epochs, verbose=0)\n",
    "    return roc_auc_score(y_valid, classifier.predict(X_valid))"
   ]
  },
  {
   "cell_type": "markdown",
   "metadata": {},
   "source": [
    "run and time the Bayesian optimization process."
   ]
  },
  {
   "cell_type": "code",
   "execution_count": 57,
   "metadata": {
    "scrolled": false
   },
   "outputs": [
    {
     "name": "stdout",
     "output_type": "stream",
     "text": [
      "|   iter    |  target   | activa... | batch_... | dropou... |  epochs   |   init    |    lr     | momentum  | n_layers  | optimizer |   units   |\n",
      "-------------------------------------------------------------------------------------------------------------------------------------------------\n",
      "| \u001b[0m 1       \u001b[0m | \u001b[0m 0.7511  \u001b[0m | \u001b[0m 0.5488  \u001b[0m | \u001b[0m 38.61   \u001b[0m | \u001b[0m 0.5822  \u001b[0m | \u001b[0m 15.45   \u001b[0m | \u001b[0m 0.4237  \u001b[0m | \u001b[0m 0.006813\u001b[0m | \u001b[0m 0.375   \u001b[0m | \u001b[0m 4.675   \u001b[0m | \u001b[0m 0.9637  \u001b[0m | \u001b[0m 22.25   \u001b[0m |\n",
      "| \u001b[95m 2       \u001b[0m | \u001b[95m 0.7748  \u001b[0m | \u001b[95m 0.7917  \u001b[0m | \u001b[95m 31.16   \u001b[0m | \u001b[95m 0.5544  \u001b[0m | \u001b[95m 19.26   \u001b[0m | \u001b[95m 0.07104 \u001b[0m | \u001b[95m 0.001784\u001b[0m | \u001b[95m 0.2081  \u001b[0m | \u001b[95m 4.498   \u001b[0m | \u001b[95m 0.7782  \u001b[0m | \u001b[95m 44.15   \u001b[0m |\n",
      "| \u001b[95m 3       \u001b[0m | \u001b[95m 0.7762  \u001b[0m | \u001b[95m 0.9786  \u001b[0m | \u001b[95m 41.97   \u001b[0m | \u001b[95m 0.4692  \u001b[0m | \u001b[95m 17.81   \u001b[0m | \u001b[95m 0.1183  \u001b[0m | \u001b[95m 0.006759\u001b[0m | \u001b[95m 0.2573  \u001b[0m | \u001b[95m 4.834   \u001b[0m | \u001b[95m 0.5218  \u001b[0m | \u001b[95m 23.66   \u001b[0m |\n",
      "| \u001b[95m 4       \u001b[0m | \u001b[95m 0.8575  \u001b[0m | \u001b[95m 0.2646  \u001b[0m | \u001b[95m 40.97   \u001b[0m | \u001b[95m 0.4649  \u001b[0m | \u001b[95m 15.68   \u001b[0m | \u001b[95m 0.01879 \u001b[0m | \u001b[95m 0.006559\u001b[0m | \u001b[95m 0.4448  \u001b[0m | \u001b[95m 3.851   \u001b[0m | \u001b[95m 0.9437  \u001b[0m | \u001b[95m 35.68   \u001b[0m |\n",
      "| \u001b[0m 5       \u001b[0m | \u001b[0m 0.6349  \u001b[0m | \u001b[0m 0.3595  \u001b[0m | \u001b[0m 27.48   \u001b[0m | \u001b[0m 0.6581  \u001b[0m | \u001b[0m 10.6    \u001b[0m | \u001b[0m 0.6668  \u001b[0m | \u001b[0m 0.007036\u001b[0m | \u001b[0m 0.2842  \u001b[0m | \u001b[0m 2.387   \u001b[0m | \u001b[0m 0.3154  \u001b[0m | \u001b[0m 21.37   \u001b[0m |\n",
      "| \u001b[0m 6       \u001b[0m | \u001b[0m 0.4971  \u001b[0m | \u001b[0m 1.0     \u001b[0m | \u001b[0m 50.0    \u001b[0m | \u001b[0m 0.9     \u001b[0m | \u001b[0m 10.0    \u001b[0m | \u001b[0m 1.0     \u001b[0m | \u001b[0m 0.001   \u001b[0m | \u001b[0m 0.2     \u001b[0m | \u001b[0m 5.0     \u001b[0m | \u001b[0m 1.0     \u001b[0m | \u001b[0m 50.0    \u001b[0m |\n",
      "| \u001b[95m 7       \u001b[0m | \u001b[95m 0.8772  \u001b[0m | \u001b[95m 0.0     \u001b[0m | \u001b[95m 10.0    \u001b[0m | \u001b[95m 0.1     \u001b[0m | \u001b[95m 10.0    \u001b[0m | \u001b[95m 0.0     \u001b[0m | \u001b[95m 0.01    \u001b[0m | \u001b[95m 0.6     \u001b[0m | \u001b[95m 2.0     \u001b[0m | \u001b[95m 1.0     \u001b[0m | \u001b[95m 50.0    \u001b[0m |\n",
      "| \u001b[0m 8       \u001b[0m | \u001b[0m 0.8545  \u001b[0m | \u001b[0m 0.0     \u001b[0m | \u001b[0m 50.0    \u001b[0m | \u001b[0m 0.1     \u001b[0m | \u001b[0m 10.0    \u001b[0m | \u001b[0m 0.0     \u001b[0m | \u001b[0m 0.01    \u001b[0m | \u001b[0m 0.6     \u001b[0m | \u001b[0m 2.0     \u001b[0m | \u001b[0m 1.0     \u001b[0m | \u001b[0m 5.0     \u001b[0m |\n",
      "| \u001b[0m 9       \u001b[0m | \u001b[0m 0.7862  \u001b[0m | \u001b[0m 0.0     \u001b[0m | \u001b[0m 10.0    \u001b[0m | \u001b[0m 0.1     \u001b[0m | \u001b[0m 20.0    \u001b[0m | \u001b[0m 0.0     \u001b[0m | \u001b[0m 0.01    \u001b[0m | \u001b[0m 0.6     \u001b[0m | \u001b[0m 5.0     \u001b[0m | \u001b[0m 1.0     \u001b[0m | \u001b[0m 5.0     \u001b[0m |\n",
      "| \u001b[0m 10      \u001b[0m | \u001b[0m 0.8695  \u001b[0m | \u001b[0m 0.0     \u001b[0m | \u001b[0m 10.0    \u001b[0m | \u001b[0m 0.1     \u001b[0m | \u001b[0m 20.0    \u001b[0m | \u001b[0m 0.0     \u001b[0m | \u001b[0m 0.01    \u001b[0m | \u001b[0m 0.6     \u001b[0m | \u001b[0m 5.0     \u001b[0m | \u001b[0m 1.0     \u001b[0m | \u001b[0m 35.14   \u001b[0m |\n",
      "| \u001b[0m 11      \u001b[0m | \u001b[0m 0.7339  \u001b[0m | \u001b[0m 0.0     \u001b[0m | \u001b[0m 10.0    \u001b[0m | \u001b[0m 0.9     \u001b[0m | \u001b[0m 20.0    \u001b[0m | \u001b[0m 1.0     \u001b[0m | \u001b[0m 0.01    \u001b[0m | \u001b[0m 0.6     \u001b[0m | \u001b[0m 2.0     \u001b[0m | \u001b[0m 1.0     \u001b[0m | \u001b[0m 50.0    \u001b[0m |\n",
      "| \u001b[0m 12      \u001b[0m | \u001b[0m 0.6234  \u001b[0m | \u001b[0m 0.0     \u001b[0m | \u001b[0m 50.0    \u001b[0m | \u001b[0m 0.9     \u001b[0m | \u001b[0m 20.0    \u001b[0m | \u001b[0m 1.0     \u001b[0m | \u001b[0m 0.001   \u001b[0m | \u001b[0m 0.6     \u001b[0m | \u001b[0m 2.0     \u001b[0m | \u001b[0m 1.0     \u001b[0m | \u001b[0m 5.0     \u001b[0m |\n",
      "| \u001b[0m 13      \u001b[0m | \u001b[0m 0.7798  \u001b[0m | \u001b[0m 0.0     \u001b[0m | \u001b[0m 10.0    \u001b[0m | \u001b[0m 0.1     \u001b[0m | \u001b[0m 10.0    \u001b[0m | \u001b[0m 0.0     \u001b[0m | \u001b[0m 0.001   \u001b[0m | \u001b[0m 0.6     \u001b[0m | \u001b[0m 5.0     \u001b[0m | \u001b[0m 1.0     \u001b[0m | \u001b[0m 5.0     \u001b[0m |\n",
      "| \u001b[0m 14      \u001b[0m | \u001b[0m 0.8314  \u001b[0m | \u001b[0m 0.0     \u001b[0m | \u001b[0m 50.0    \u001b[0m | \u001b[0m 0.1     \u001b[0m | \u001b[0m 10.0    \u001b[0m | \u001b[0m 0.0     \u001b[0m | \u001b[0m 0.001   \u001b[0m | \u001b[0m 0.6     \u001b[0m | \u001b[0m 5.0     \u001b[0m | \u001b[0m 1.0     \u001b[0m | \u001b[0m 24.91   \u001b[0m |\n",
      "| \u001b[0m 15      \u001b[0m | \u001b[0m 0.4791  \u001b[0m | \u001b[0m 1.0     \u001b[0m | \u001b[0m 10.0    \u001b[0m | \u001b[0m 0.9     \u001b[0m | \u001b[0m 10.0    \u001b[0m | \u001b[0m 1.0     \u001b[0m | \u001b[0m 0.01    \u001b[0m | \u001b[0m 0.2     \u001b[0m | \u001b[0m 5.0     \u001b[0m | \u001b[0m 0.0     \u001b[0m | \u001b[0m 38.05   \u001b[0m |\n",
      "=================================================================================================================================================\n",
      "{'target': 0.8771664270037085, 'params': {'activation': 0.0, 'batch_size': 10.0, 'dropout_rate': 0.1, 'epochs': 10.0, 'init': 0.0, 'lr': 0.01, 'momentum': 0.6, 'n_layers': 2.0, 'optimizer': 1.0, 'units': 50.0}}\n"
     ]
    }
   ],
   "source": [
    "start_time = time.ctime()\n",
    "optimization = BayesianOptimization(f=train_evaluate_and_auc, pbounds=search_space, random_state=0)\n",
    "optimization.maximize(init_points=10, n_iter=30)\n",
    "print(\"Bayesian Optimization took {}\".format(time.ctime() - start_time))\n",
    "\n",
    "print(optimization.max)\n",
    "# for i, res in enumerate(optimization.res):\n",
    "#     print(\"Iteration {}: \\n\\t{}\".format(i, res))"
   ]
  },
  {
   "cell_type": "markdown",
   "metadata": {},
   "source": [
    "### Set of best hyperparameters\n",
    "\n",
    "Because the optimization treats all hyperparameters in a continuous way, let's convert them into a interpretable way."
   ]
  },
  {
   "cell_type": "code",
   "execution_count": 100,
   "metadata": {},
   "outputs": [],
   "source": [
    "import re\n",
    "def convert_to_interpretable_dict(optimization_max):\n",
    "    \"\"\" Returns an interpretable dictionary given the a single dictionary from the Bayesian Optimization object above\n",
    "    \"\"\"\n",
    "    interpretable_dict = {}\n",
    "    interpretable_dict['AUC'] = optimization_max['target']\n",
    "    interpretable_dict['activation'] = param_reference['activation'][int(round(optimization_max['params']['activation']))] # categorical\n",
    "    interpretable_dict['batch_size'] = int(round(optimization_max['params']['batch_size']))\n",
    "    interpretable_dict['dropout_rate'] = optimization_max['params']['dropout_rate']\n",
    "    interpretable_dict['epochs'] = int(round(optimization_max['params']['epochs']))\n",
    "    interpretable_dict['init'] = param_reference['init'][int(round(optimization_max['params']['init']))] # categorical\n",
    "    interpretable_dict['lr'] = optimization_max['params']['lr']\n",
    "    interpretable_dict['momentum'] = optimization_max['params']['momentum']\n",
    "    interpretable_dict['n_layers'] = int(round(optimization_max['params']['n_layers']))\n",
    "    interpretable_dict['optimizer'] = re.findall(\"[A-Z|a-z]+\\'\", str(param_reference['optimizer'][int(round(optimization_max['params']['optimizer']))]))[0][:-1] # categorical\n",
    "    interpretable_dict['units'] = int(round(optimization_max['params']['units']))\n",
    "    return interpretable_dict"
   ]
  },
  {
   "cell_type": "markdown",
   "metadata": {},
   "source": [
    "Apply a pretty output "
   ]
  },
  {
   "cell_type": "code",
   "execution_count": 103,
   "metadata": {},
   "outputs": [
    {
     "data": {
      "text/html": [
       "<style  type=\"text/css\" >\n",
       "</style><table id=\"T_4514db08_e9de_11e9_8557_8c8590c1c1c8\" ><caption>Results of Bayesian Optimization: best set of hyperparameters</caption><thead>    <tr>        <th class=\"blank level0\" ></th>        <th class=\"col_heading level0 col0\" >AUC</th>        <th class=\"col_heading level0 col1\" >activation</th>        <th class=\"col_heading level0 col2\" >batch_size</th>        <th class=\"col_heading level0 col3\" >dropout_rate</th>        <th class=\"col_heading level0 col4\" >epochs</th>        <th class=\"col_heading level0 col5\" >init</th>        <th class=\"col_heading level0 col6\" >lr</th>        <th class=\"col_heading level0 col7\" >momentum</th>        <th class=\"col_heading level0 col8\" >n_layers</th>        <th class=\"col_heading level0 col9\" >optimizer</th>        <th class=\"col_heading level0 col10\" >units</th>    </tr></thead><tbody>\n",
       "                <tr>\n",
       "                        <th id=\"T_4514db08_e9de_11e9_8557_8c8590c1c1c8level0_row0\" class=\"row_heading level0 row0\" >Best</th>\n",
       "                        <td id=\"T_4514db08_e9de_11e9_8557_8c8590c1c1c8row0_col0\" class=\"data row0 col0\" >0.877166</td>\n",
       "                        <td id=\"T_4514db08_e9de_11e9_8557_8c8590c1c1c8row0_col1\" class=\"data row0 col1\" >relu</td>\n",
       "                        <td id=\"T_4514db08_e9de_11e9_8557_8c8590c1c1c8row0_col2\" class=\"data row0 col2\" >10</td>\n",
       "                        <td id=\"T_4514db08_e9de_11e9_8557_8c8590c1c1c8row0_col3\" class=\"data row0 col3\" >0.1</td>\n",
       "                        <td id=\"T_4514db08_e9de_11e9_8557_8c8590c1c1c8row0_col4\" class=\"data row0 col4\" >10</td>\n",
       "                        <td id=\"T_4514db08_e9de_11e9_8557_8c8590c1c1c8row0_col5\" class=\"data row0 col5\" >lecun_uniform</td>\n",
       "                        <td id=\"T_4514db08_e9de_11e9_8557_8c8590c1c1c8row0_col6\" class=\"data row0 col6\" >0.01</td>\n",
       "                        <td id=\"T_4514db08_e9de_11e9_8557_8c8590c1c1c8row0_col7\" class=\"data row0 col7\" >0.6</td>\n",
       "                        <td id=\"T_4514db08_e9de_11e9_8557_8c8590c1c1c8row0_col8\" class=\"data row0 col8\" >2</td>\n",
       "                        <td id=\"T_4514db08_e9de_11e9_8557_8c8590c1c1c8row0_col9\" class=\"data row0 col9\" >Adam</td>\n",
       "                        <td id=\"T_4514db08_e9de_11e9_8557_8c8590c1c1c8row0_col10\" class=\"data row0 col10\" >50</td>\n",
       "            </tr>\n",
       "    </tbody></table>"
      ],
      "text/plain": [
       "<pandas.io.formats.style.Styler at 0x14c473400>"
      ]
     },
     "execution_count": 103,
     "metadata": {},
     "output_type": "execute_result"
    }
   ],
   "source": [
    "import pandas as pd\n",
    "\n",
    "interpretable_dict = convert_to_interpretable_dict(optimization.max)\n",
    "pd.DataFrame.from_dict(interpretable_dict, orient='index', columns=['Best']).T.style.set_caption(\"Results of Bayesian Optimization: best set of hyperparameters\")"
   ]
  },
  {
   "cell_type": "markdown",
   "metadata": {},
   "source": [
    "## Running Model on Test set"
   ]
  },
  {
   "cell_type": "markdown",
   "metadata": {},
   "source": [
    "Make sure to specify the `input_shape` instead of usual `input_dim`. <font style=\"font-family: georgia; font-weight: normal; font-size: 16pt\">Keras</font> has updated there Dense constructor."
   ]
  },
  {
   "cell_type": "code",
   "execution_count": 99,
   "metadata": {},
   "outputs": [
    {
     "data": {
      "text/plain": [
       "<keras.callbacks.callbacks.History at 0x15260de48>"
      ]
     },
     "execution_count": 99,
     "metadata": {},
     "output_type": "execute_result"
    }
   ],
   "source": [
    "from keras import backend as k\n",
    "# build model with corresponding hyperparameters\n",
    "k.clear_session()\n",
    "model = Sequential()\n",
    "model.add(\n",
    "    Dense(units=50, input_shape=X_valid[0].shape, activation='relu', kernel_initializer='lecun_uniform') # input layer\n",
    ")\n",
    "# Create an arbitrary number of Hidden Layers\n",
    "for n in range(2):\n",
    "    model.add(Dense(units=50, activation='relu'))\n",
    "    model.add(Dropout(0.1))\n",
    "model.add(Dense(units=1, activation='sigmoid'))     # Output Layer\n",
    "model.compile(loss='binary_crossentropy', optimizer=Adam(learning_rate=0.01), metrics=['accuracy'])\n",
    "# FIXME: adjust epochs and batch size\n",
    "model.fit(X_train, y_train, batch_size=10, epochs=10, verbose=0)"
   ]
  },
  {
   "cell_type": "markdown",
   "metadata": {},
   "source": [
    "### Loading Test set\n",
    "\n",
    "Run the following 2 cells to load the test set, and then will obtain them in `X_test`, `y_test`"
   ]
  },
  {
   "cell_type": "code",
   "execution_count": 187,
   "metadata": {},
   "outputs": [],
   "source": [
    "import csv\n",
    "\n",
    "smiles, y_test = [], []\n",
    "with open('data/test.csv') as f:\n",
    "    csv_reader = csv.reader(f, delimiter=',')\n",
    "    for row in csv_reader:\n",
    "        if row[1] != 'smiles':\n",
    "            # read smiles from the 2nd column\n",
    "            smiles.append(row[1])\n",
    "            # read labels from the 3rd column\n",
    "            y_test.append(row[2])"
   ]
  },
  {
   "cell_type": "code",
   "execution_count": 188,
   "metadata": {},
   "outputs": [],
   "source": [
    "info_dicts, X_test, supplier_test = [], [], []\n",
    "for smile in smiles:\n",
    "    m = Chem.MolFromSmiles(smile)\n",
    "    supplier_test.append(m)\n",
    "    info = {}\n",
    "    bit_vector = AllChem.GetMorganFingerprintAsBitVect(m, 3, nBits=2048, bitInfo=info)\n",
    "    X_test.append(bit_vector)\n",
    "    info_dicts.append(info)\n",
    "    \n",
    "X_test = np.array(X_test)\n",
    "y_test = np.array(y_test, dtype=np.int8)"
   ]
  },
  {
   "cell_type": "markdown",
   "metadata": {},
   "source": [
    "### Plotting test set ROC"
   ]
  },
  {
   "cell_type": "code",
   "execution_count": 82,
   "metadata": {},
   "outputs": [],
   "source": [
    "def plot_roc(fpr, tpr, roc_auc):\n",
    "    plt.figure()\n",
    "    lw = 2\n",
    "    plt.plot(fpr, tpr, color='darkorange',\n",
    "             lw=lw, label='ROC curve (area = %0.2f)' % roc_auc)\n",
    "    plt.plot([0, 1], [0, 1], color='navy', lw=lw, linestyle='--')\n",
    "    plt.xlim([0.0, 1.0])\n",
    "    plt.ylim([0.0, 1.05])\n",
    "    plt.xlabel('False Positive Rate')\n",
    "    plt.ylabel('True Positive Rate')\n",
    "    plt.title('Receiver operating characteristic example')\n",
    "    plt.legend(loc=\"lower right\")\n",
    "    plt.show()"
   ]
  },
  {
   "cell_type": "code",
   "execution_count": 83,
   "metadata": {
    "scrolled": true
   },
   "outputs": [
    {
     "data": {
      "image/png": "[encoded data removed]",
      "text/plain": [
       "<Figure size 432x288 with 1 Axes>"
      ]
     },
     "metadata": {
      "needs_background": "light"
     },
     "output_type": "display_data"
    }
   ],
   "source": [
    "%matplotlib inline\n",
    "from sklearn.metrics import roc_curve, roc_auc_score\n",
    "import matplotlib.pyplot as plt\n",
    "\n",
    "y_test_pred = model.predict(X_test)\n",
    "auc = roc_auc_score(y_test, y_test_pred)\n",
    "fpr, tpr, _ = roc_curve(y_test, y_test_pred)\n",
    "plot_roc(fpr, tpr, auc)"
   ]
  },
  {
   "cell_type": "markdown",
   "metadata": {},
   "source": [
    "### Saving the model\n",
    "\n",
    "For later uses. In order not to overwrite my original model, I generate a random number that gets appended to the end of the model's name."
   ]
  },
  {
   "cell_type": "code",
   "execution_count": 162,
   "metadata": {},
   "outputs": [],
   "source": [
    "import random\n",
    "model.save(\"analysis_best_model/best_model_bayesian_optimization_{}.h5\".format(random.randint(1,9999)))"
   ]
  },
  {
   "cell_type": "markdown",
   "metadata": {},
   "source": [
    "### Load the Model\n",
    "\n",
    "For later uses"
   ]
  },
  {
   "cell_type": "code",
   "execution_count": 7,
   "metadata": {
    "collapsed": true
   },
   "outputs": [
    {
     "name": "stderr",
     "output_type": "stream",
     "text": [
      "Using TensorFlow backend.\n",
      "/Users/kareem/miniconda3/envs/molecules_and_ml/lib/python3.6/site-packages/tensorflow/python/framework/dtypes.py:516: FutureWarning: Passing (type, 1) or '1type' as a synonym of type is deprecated; in a future version of numpy, it will be understood as (type, (1,)) / '(1,)type'.\n",
      "  _np_qint8 = np.dtype([(\"qint8\", np.int8, 1)])\n",
      "/Users/kareem/miniconda3/envs/molecules_and_ml/lib/python3.6/site-packages/tensorflow/python/framework/dtypes.py:517: FutureWarning: Passing (type, 1) or '1type' as a synonym of type is deprecated; in a future version of numpy, it will be understood as (type, (1,)) / '(1,)type'.\n",
      "  _np_quint8 = np.dtype([(\"quint8\", np.uint8, 1)])\n",
      "/Users/kareem/miniconda3/envs/molecules_and_ml/lib/python3.6/site-packages/tensorflow/python/framework/dtypes.py:518: FutureWarning: Passing (type, 1) or '1type' as a synonym of type is deprecated; in a future version of numpy, it will be understood as (type, (1,)) / '(1,)type'.\n",
      "  _np_qint16 = np.dtype([(\"qint16\", np.int16, 1)])\n",
      "/Users/kareem/miniconda3/envs/molecules_and_ml/lib/python3.6/site-packages/tensorflow/python/framework/dtypes.py:519: FutureWarning: Passing (type, 1) or '1type' as a synonym of type is deprecated; in a future version of numpy, it will be understood as (type, (1,)) / '(1,)type'.\n",
      "  _np_quint16 = np.dtype([(\"quint16\", np.uint16, 1)])\n",
      "/Users/kareem/miniconda3/envs/molecules_and_ml/lib/python3.6/site-packages/tensorflow/python/framework/dtypes.py:520: FutureWarning: Passing (type, 1) or '1type' as a synonym of type is deprecated; in a future version of numpy, it will be understood as (type, (1,)) / '(1,)type'.\n",
      "  _np_qint32 = np.dtype([(\"qint32\", np.int32, 1)])\n",
      "/Users/kareem/miniconda3/envs/molecules_and_ml/lib/python3.6/site-packages/tensorflow/python/framework/dtypes.py:525: FutureWarning: Passing (type, 1) or '1type' as a synonym of type is deprecated; in a future version of numpy, it will be understood as (type, (1,)) / '(1,)type'.\n",
      "  np_resource = np.dtype([(\"resource\", np.ubyte, 1)])\n",
      "/Users/kareem/miniconda3/envs/molecules_and_ml/lib/python3.6/site-packages/tensorboard/compat/tensorflow_stub/dtypes.py:541: FutureWarning: Passing (type, 1) or '1type' as a synonym of type is deprecated; in a future version of numpy, it will be understood as (type, (1,)) / '(1,)type'.\n",
      "  _np_qint8 = np.dtype([(\"qint8\", np.int8, 1)])\n",
      "/Users/kareem/miniconda3/envs/molecules_and_ml/lib/python3.6/site-packages/tensorboard/compat/tensorflow_stub/dtypes.py:542: FutureWarning: Passing (type, 1) or '1type' as a synonym of type is deprecated; in a future version of numpy, it will be understood as (type, (1,)) / '(1,)type'.\n",
      "  _np_quint8 = np.dtype([(\"quint8\", np.uint8, 1)])\n",
      "/Users/kareem/miniconda3/envs/molecules_and_ml/lib/python3.6/site-packages/tensorboard/compat/tensorflow_stub/dtypes.py:543: FutureWarning: Passing (type, 1) or '1type' as a synonym of type is deprecated; in a future version of numpy, it will be understood as (type, (1,)) / '(1,)type'.\n",
      "  _np_qint16 = np.dtype([(\"qint16\", np.int16, 1)])\n",
      "/Users/kareem/miniconda3/envs/molecules_and_ml/lib/python3.6/site-packages/tensorboard/compat/tensorflow_stub/dtypes.py:544: FutureWarning: Passing (type, 1) or '1type' as a synonym of type is deprecated; in a future version of numpy, it will be understood as (type, (1,)) / '(1,)type'.\n",
      "  _np_quint16 = np.dtype([(\"quint16\", np.uint16, 1)])\n",
      "/Users/kareem/miniconda3/envs/molecules_and_ml/lib/python3.6/site-packages/tensorboard/compat/tensorflow_stub/dtypes.py:545: FutureWarning: Passing (type, 1) or '1type' as a synonym of type is deprecated; in a future version of numpy, it will be understood as (type, (1,)) / '(1,)type'.\n",
      "  _np_qint32 = np.dtype([(\"qint32\", np.int32, 1)])\n",
      "/Users/kareem/miniconda3/envs/molecules_and_ml/lib/python3.6/site-packages/tensorboard/compat/tensorflow_stub/dtypes.py:550: FutureWarning: Passing (type, 1) or '1type' as a synonym of type is deprecated; in a future version of numpy, it will be understood as (type, (1,)) / '(1,)type'.\n",
      "  np_resource = np.dtype([(\"resource\", np.ubyte, 1)])\n"
     ]
    },
    {
     "name": "stdout",
     "output_type": "stream",
     "text": [
      "WARNING:tensorflow:From /Users/kareem/miniconda3/envs/molecules_and_ml/lib/python3.6/site-packages/tensorflow/python/ops/nn_impl.py:180: add_dispatch_support.<locals>.wrapper (from tensorflow.python.ops.array_ops) is deprecated and will be removed in a future version.\n",
      "Instructions for updating:\n",
      "Use tf.where in 2.0, which has the same broadcast rule as np.where\n",
      "WARNING:tensorflow:From /Users/kareem/miniconda3/envs/molecules_and_ml/lib/python3.6/site-packages/keras/backend/tensorflow_backend.py:422: The name tf.global_variables is deprecated. Please use tf.compat.v1.global_variables instead.\n",
      "\n"
     ]
    }
   ],
   "source": [
    "from keras.models import load_model\n",
    "model = load_model('analysis_best_model/best_model_bayesian_optimization.h5')"
   ]
  },
  {
   "cell_type": "markdown",
   "metadata": {},
   "source": [
    "To see model evaluation, look at the cells above.\n",
    "This was just a sanity check that I'd like to make, to make sure not to load the wrong model. So in order to check that this model has the same weights as the one reported in my last report, I had to load it and then reevaluate it on the test set, and see if I get the same AUC score."
   ]
  },
  {
   "cell_type": "markdown",
   "metadata": {},
   "source": [
    "# Integrated Gradients\n",
    "\n",
    "In the following we provide an implementation for the integrated gradients. Steps of the implementation are:\n",
    "1. Consider a baseline such that the output $F(x^\\prime)=\\bigcirc$ where $x^\\prime$ is the baseline and $\\bigcirc$ is the default class. In our case, we uses the zero-vector that actually signals the absence of any fingerprints.\n",
    "2. Now, interpolate a series of images, increasing in intensity ($\\alpha$), between the baseline image and the original (target) image. In another word, define a function $\\gamma(\\alpha) \\rightarrow [0, 1]$ such that $F(x_i)=1$ and $F(x_i^\\prime)=0$. In our implementation, this is defined as a *lambda* function in python.\n",
    "3. Gradients of the output with respect to these series of interpolated images, when calculated gives us the following\n",
    "\n",
    "$$grad = \\left[ \\begin{array}{rrrrrr}\n",
    "[& 0.0073032 & g_2^1 & ... & g_m^1 &] \\\\\n",
    "[& g_1^2 & g_2^2 & \\cdots & g_m^2 &] \\\\\n",
    "[& \\vdots & \\vdots & \\cdots & \\vdots  \\\\\n",
    "[& g_1^s & g_2^s & \\cdots & g_m^s &] \\\\\n",
    "\\end{array}\\right.\n",
    "\\left. \\begin{array}{rr}\n",
    "\\text{when} & \\alpha=\\frac{1}{s} \\\\\n",
    " & \\alpha=\\frac{2}{s} \\\\\n",
    " & \\vdots \\\\\n",
    " & \\alpha=1 \\\\\n",
    "\\end{array}\\right] \\\n",
    "$$\n",
    "\n",
    "> *FIXME: write out the rest of the steps*\n",
    "\n",
    "4. Our region of interest lies where the slope of the score vs intensity graph doesn't remain stagnant. We call these gradients - *interesting gradients*. I.e. we calculate the gradient for every potentially possible input that lies between the original input $x_i$ and the baseline $x_i^\\prime$. See `t_gradients` in the implementation.\n",
    "\n",
    "5. The integration of these series of gradients give us the Integrated gradients of the image. The result of this step is a vector that has the same dimension as the input. And each element (attribution) in this vector corresponds to one features in the input sample. That's of course is equivalent to taking the average of the interesting gradients.\n",
    "\n",
    "6. We repeat these steps for every sample in our dataset"
   ]
  },
  {
   "cell_type": "markdown",
   "metadata": {},
   "source": [
    "#### Author Implementation\n",
    "\n",
    "In the following cell, I provide the implementation of the integrated gradients that the author provides (<u>not working</u>)."
   ]
  },
  {
   "cell_type": "code",
   "execution_count": null,
   "metadata": {},
   "outputs": [],
   "source": [
    "import tensorflow as tf\n",
    "from keras import backend as keras\n",
    "import numpy as np\n",
    "\n",
    "def integrated_gradients(inp, baseline, label, steps=50):\n",
    "    t_input = input_tensor() # input tensor\n",
    "    t_prediction = prediciton_tensor(label) # output tensor\n",
    "    t_gradients = tf.gradients(t_prediction, t_input)[0] # gradients\n",
    "    path_inputs = [baseline + (i/steps)*(inp-baseline) for i in range(steps)]\n",
    "    grads = run_network(t_gradients, path_inputs)\n",
    "    return (inp-baseline)*np.average(grads, axis=0) # integration"
   ]
  },
  {
   "cell_type": "markdown",
   "metadata": {},
   "source": [
    "#### My Implementation (not working)\n",
    "\n",
    "In the following, I provide my own implementation of the integrated gradients according to my understanding of the math formula in the paper(<u>not working</u>)."
   ]
  },
  {
   "cell_type": "code",
   "execution_count": 182,
   "metadata": {},
   "outputs": [],
   "source": [
    "from keras import backend as k\n",
    "import numpy as np\n",
    "\n",
    "def integrated_gradients(inp, baseline=None, steps=50):\n",
    "    \"\"\"My own implementation of the integrated gradients. I've made this over the formula under section \"Computing\n",
    "    Integrated Gradients\". Returns the a vector of attributions where each element in the vector corresponds to one\n",
    "    value in the input. The attributions vector has the same shape as the input.\n",
    "    @Params\n",
    "    ------\n",
    "    inp:    The target input. i.e. One input sample (numpy.array) (e.g. one image, one molecule).\n",
    "    baseline:      (Optional) The baseline vector - if not provided, the zero-vector is calcualted.\n",
    "    steps:         (Optional), number of steps for integral estimation. = 50 by default\n",
    "\n",
    "    @Returns\n",
    "    -------\n",
    "    Attribution vector\n",
    "    \"\"\"\n",
    "    gradients = []\n",
    "    inp = inp.reshape(1, -1) # original input\n",
    "    if baseline is None:\n",
    "        baseline = np.zeros(inp.shape)\n",
    "    # gamma calculates the path function for a given alpha\n",
    "    gamma = lambda alpha: baseline + float(alpha)/steps*(inp - baseline)\n",
    "\n",
    "    for alpha in range(steps+1):\n",
    "        input_tensor = gamma(alpha).reshape(1, -1) # path input tensor\n",
    "        output_tensor = model.predict(input_tensor) # output tensor\n",
    "        gradient = k.gradients(model.output, model.input)[0]\n",
    "        # run the session\n",
    "        sess = k.get_session()\n",
    "        results = sess.run(gradient, feed_dict={model.output: output_tensor, model.input: input_tensor})[0]\n",
    "        gradients.append(results)\n",
    "\n",
    "    gradients = np.array(gradients)\n",
    "    return (inp-baseline) * np.average(gradients, axis=0)"
   ]
  },
  {
   "cell_type": "markdown",
   "metadata": {},
   "source": [
    "To prove the correctness of the method try\n",
    "\n",
    "$$F(x)-F(x^\\prime)=\\sum_{i=1}^m a_i$$\n",
    "\n",
    "Where $a_i$ the $i^{th}$ element in the attribution vector $a = [a_1, a_2, ..., a_m]$"
   ]
  },
  {
   "cell_type": "code",
   "execution_count": 183,
   "metadata": {},
   "outputs": [
    {
     "data": {
      "text/plain": [
       "-0.11709215719019994"
      ]
     },
     "execution_count": 183,
     "metadata": {},
     "output_type": "execute_result"
    }
   ],
   "source": [
    "attributions = integrated_gradients(X_test[0])\n",
    "np.sum(attributions)"
   ]
  },
  {
   "cell_type": "code",
   "execution_count": 184,
   "metadata": {},
   "outputs": [
    {
     "data": {
      "text/plain": [
       "array([[-0.11717556]], dtype=float32)"
      ]
     },
     "execution_count": 184,
     "metadata": {},
     "output_type": "execute_result"
    }
   ],
   "source": [
    "model.predict(X_test[0].reshape(1, -1)) - model.predict(baseline.reshape(1, -1))"
   ]
  },
  {
   "cell_type": "markdown",
   "metadata": {},
   "source": [
    "Prove that gamma is working $\\gamma(x):R^d \\rightarrow [0, 1]$  such that\n",
    "\n",
    "$$\\begin{align}\n",
    "\\gamma(x_i) = 1 &\\qquad \\text{when} &  x_i &=x \\\\\n",
    "\\gamma(x_i) = 0 &\\qquad \\text{when} & x_i &= baseline \\\\\n",
    "\\end{align}$$"
   ]
  },
  {
   "cell_type": "code",
   "execution_count": 141,
   "metadata": {
    "scrolled": false
   },
   "outputs": [
    {
     "name": "stdout",
     "output_type": "stream",
     "text": [
      "Is gamma equal to input when alpha=1?\n",
      "[ True  True  True ...  True  True False]\n",
      "Is gamma equal to baseline when alpha=0?\n",
      "[ True  True  True ...  True  True  True]\n",
      "Is gamma equal to baseline when alpha=1?\n",
      "[ True  True  True ...  True  True False]\n",
      "Is gamma equal to input when alpha=0?\n",
      "[False False False ... False False False]\n"
     ]
    }
   ],
   "source": [
    "gamma = lambda alpha: baseline + float(alpha)/steps*(inp - baseline)\n",
    "inp = X_test[478]\n",
    "baseline = np.zeros(shape=inp.shape)\n",
    "steps = 50\n",
    "\n",
    "print(\"Is gamma equal to input when alpha=1?\")\n",
    "print(gamma(1) == inp)\n",
    "print(\"Is gamma equal to baseline when alpha=0?\")\n",
    "print(gamma(0) == baseline)\n",
    "print(\"Is gamma equal to baseline when alpha=1?\")\n",
    "print(gamma(1) == baseline)\n",
    "print(\"Is gamma equal to input when alpha=0?\")\n",
    "print(gamma(0) == input)"
   ]
  },
  {
   "cell_type": "code",
   "execution_count": null,
   "metadata": {},
   "outputs": [],
   "source": [
    "attributions = np.array([integrated_gradients(sample) for sample in X_test])\n",
    "attributions.shape"
   ]
  },
  {
   "cell_type": "markdown",
   "metadata": {},
   "source": [
    "## Using GitHub Implemention\n",
    "\n",
    "Just for the sake of visualization, I'm using this package. However, once my implementation is successfully working, I will change it.\n",
    "**Update 09.10.2019**: my implementation works now, so you can skip the following cells."
   ]
  },
  {
   "cell_type": "code",
   "execution_count": 125,
   "metadata": {
    "collapsed": true
   },
   "outputs": [
    {
     "name": "stdout",
     "output_type": "stream",
     "text": [
      "Evaluated output channel (0-based index): All\n",
      "Building gradient functions\n",
      "Progress: 100.0%\n",
      "Done.\n"
     ]
    },
    {
     "name": "stderr",
     "output_type": "stream",
     "text": [
      "/Users/kareem/miniconda3/envs/molecules_and_ml/lib/python3.6/site-packages/keras/engine/sequential.py:111: UserWarning: `Sequential.model` is deprecated. `Sequential` is a subclass of `Model`, you can just use your `Sequential` instance directly.\n",
      "  warnings.warn('`Sequential.model` is deprecated. '\n"
     ]
    },
    {
     "data": {
      "text/plain": [
       "(2048,)"
      ]
     },
     "execution_count": 125,
     "metadata": {},
     "output_type": "execute_result"
    }
   ],
   "source": [
    "from modules.IntegratedGradients import integrated_gradients as IG\n",
    "ig = IG(model)"
   ]
  },
  {
   "cell_type": "code",
   "execution_count": 163,
   "metadata": {},
   "outputs": [],
   "source": [
    "attributions = np.array([ig.explain(inp, num_steps=500) for inp in X_test])"
   ]
  },
  {
   "cell_type": "markdown",
   "metadata": {},
   "source": [
    "Testing the correctness of the implementation"
   ]
  },
  {
   "cell_type": "code",
   "execution_count": 164,
   "metadata": {},
   "outputs": [
    {
     "data": {
      "text/plain": [
       "-0.006888923740014433"
      ]
     },
     "execution_count": 164,
     "metadata": {},
     "output_type": "execute_result"
    }
   ],
   "source": [
    "np.sum(attributions[1])"
   ]
  },
  {
   "cell_type": "code",
   "execution_count": 165,
   "metadata": {},
   "outputs": [
    {
     "name": "stdout",
     "output_type": "stream",
     "text": [
      "[[-0.00696187]]\n"
     ]
    }
   ],
   "source": [
    "model.predict(X_test[1].reshape(1, -1)) - model.predict(baseline.reshape(1, -1))"
   ]
  },
  {
   "cell_type": "markdown",
   "metadata": {},
   "source": [
    "Close enough too, and therefore equivalently correct 👍😉!"
   ]
  },
  {
   "cell_type": "markdown",
   "metadata": {},
   "source": [
    "### Trying out another baseline\n",
    "\n",
    "We want to understand the importance of choosing a baseline when using the integrated gradients. In that regard, we'll try out a new gradient where the most occuring fingerprints are. "
   ]
  },
  {
   "cell_type": "code",
   "execution_count": 353,
   "metadata": {},
   "outputs": [],
   "source": [
    "info_dicts = np.array(info_dicts)"
   ]
  },
  {
   "cell_type": "code",
   "execution_count": 344,
   "metadata": {
    "scrolled": true
   },
   "outputs": [
    {
     "data": {
      "text/plain": [
       "1803"
      ]
     },
     "execution_count": 344,
     "metadata": {},
     "output_type": "execute_result"
    }
   ],
   "source": [
    "np.argmax(np.sum(X_test, axis=1))"
   ]
  },
  {
   "cell_type": "markdown",
   "metadata": {},
   "source": [
    "Molecule apparently has many fingerprints. Let's see how it looks like."
   ]
  },
  {
   "cell_type": "code",
   "execution_count": 345,
   "metadata": {},
   "outputs": [
    {
     "data": {
      "image/png": "[encoded data removed]",
      "text/plain": [
       "<PIL.Image.Image image mode=RGBA size=400x400 at 0x175D73D30>"
      ]
     },
     "execution_count": 345,
     "metadata": {},
     "output_type": "execute_result"
    }
   ],
   "source": [
    "mol_high_fps = supplier_test[1803]\n",
    "Draw.MolToImage(mol_high_fps, size=(400, 400))"
   ]
  },
  {
   "cell_type": "code",
   "execution_count": 347,
   "metadata": {},
   "outputs": [
    {
     "data": {
      "text/plain": [
       "234"
      ]
     },
     "execution_count": 347,
     "metadata": {},
     "output_type": "execute_result"
    }
   ],
   "source": [
    "len(info_dicts[1803])"
   ]
  },
  {
   "cell_type": "markdown",
   "metadata": {},
   "source": [
    "so this molecule here has $234$ different fingerprints. We can check by seeing the length of dictionaries inside `info_dicts`"
   ]
  },
  {
   "cell_type": "code",
   "execution_count": 352,
   "metadata": {},
   "outputs": [
    {
     "data": {
      "text/plain": [
       "1803"
      ]
     },
     "execution_count": 352,
     "metadata": {},
     "output_type": "execute_result"
    }
   ],
   "source": [
    "mylen = np.vectorize(len)\n",
    "np.argmax(mylen(np.array(info_dicts)))"
   ]
  },
  {
   "cell_type": "markdown",
   "metadata": {},
   "source": [
    "According to the size of the dictionary, this is indeed the largest dictionary.\n",
    "\n",
    "Following are all the indices of those molecules that have present fingerprints at the beginning."
   ]
  },
  {
   "cell_type": "code",
   "execution_count": 365,
   "metadata": {},
   "outputs": [
    {
     "data": {
      "text/plain": [
       "array([ 163,  184,  454,  485,  489,  695,  956, 1038, 1247, 1281, 1282,\n",
       "       1302, 1352, 1541, 1577, 1846, 1988, 2159, 2367, 2741, 2755, 2773,\n",
       "       2811, 2959, 3055, 3258])"
      ]
     },
     "execution_count": 365,
     "metadata": {},
     "output_type": "execute_result"
    }
   ],
   "source": [
    "indices_fp_at_0 = []\n",
    "for i in range(len(X_test)):\n",
    "    if X_test[i][0] == 1:\n",
    "        indices_fp_at_0.append(i)\n",
    "np.array(indices_fp_at_0)"
   ]
  },
  {
   "cell_type": "code",
   "execution_count": 369,
   "metadata": {
    "scrolled": true
   },
   "outputs": [
    {
     "data": {
      "text/plain": [
       "{0: ((37, 3),),\n",
       " 30: ((5, 3),),\n",
       " 34: ((11, 2),),\n",
       " 45: ((35, 2),),\n",
       " 121: ((28, 2),),\n",
       " 122: ((2, 3),),\n",
       " 140: ((32, 2),),\n",
       " 147: ((15, 3),),\n",
       " 202: ((11, 1), (15, 1)),\n",
       " 249: ((1, 2),),\n",
       " 285: ((6, 3),),\n",
       " 298: ((6, 2),),\n",
       " 314: ((9, 1), (19, 1)),\n",
       " 352: ((6, 1),),\n",
       " 361: ((14, 1),),\n",
       " 495: ((2, 2),),\n",
       " 505: ((27, 2),),\n",
       " 522: ((39, 3),),\n",
       " 550: ((37, 2),),\n",
       " 560: ((31, 1),),\n",
       " 587: ((8, 2),),\n",
       " 637: ((13, 3),),\n",
       " 650: ((9, 0), (19, 0), (25, 0)),\n",
       " 656: ((39, 0),),\n",
       " 679: ((26, 1),),\n",
       " 687: ((39, 2),),\n",
       " 694: ((21, 2),),\n",
       " 695: ((1, 0), (28, 0)),\n",
       " 722: ((37, 1),),\n",
       " 756: ((8, 3),),\n",
       " 773: ((11, 3),),\n",
       " 807: ((12, 0), (16, 0), (22, 0), (23, 0), (36, 0)),\n",
       " 841: ((0, 1),),\n",
       " 842: ((26, 2),),\n",
       " 875: ((14, 3),),\n",
       " 881: ((32, 0),),\n",
       " 882: ((28, 3),),\n",
       " 897: ((17, 3),),\n",
       " 926: ((20, 0), (26, 0), (30, 0)),\n",
       " 940: ((20, 1),),\n",
       " 973: ((18, 2),),\n",
       " 974: ((35, 3),),\n",
       " 984: ((5, 2),),\n",
       " 1017: ((24, 1),),\n",
       " 1019: ((27, 0), (29, 0), (31, 0), (35, 0), (37, 0), (31, 3)),\n",
       " 1028: ((30, 2),),\n",
       " 1039: ((4, 2),),\n",
       " 1041: ((20, 3),),\n",
       " 1057: ((0, 0), (24, 0), (33, 0), (34, 0), (38, 0)),\n",
       " 1060: ((21, 0),),\n",
       " 1070: ((13, 2),),\n",
       " 1085: ((7, 2),),\n",
       " 1088: ((4, 1),),\n",
       " 1154: ((22, 1),),\n",
       " 1163: ((33, 1), (34, 1)),\n",
       " 1204: ((10, 2), (17, 2)),\n",
       " 1229: ((21, 3),),\n",
       " 1257: ((36, 1),),\n",
       " 1263: ((18, 3),),\n",
       " 1292: ((30, 1),),\n",
       " 1309: ((38, 1),),\n",
       " 1341: ((32, 1),),\n",
       " 1368: ((29, 3),),\n",
       " 1380: ((2, 0),\n",
       "  (6, 0),\n",
       "  (7, 0),\n",
       "  (8, 0),\n",
       "  (10, 0),\n",
       "  (11, 0),\n",
       "  (13, 0),\n",
       "  (14, 0),\n",
       "  (15, 0),\n",
       "  (17, 0),\n",
       "  (18, 0)),\n",
       " 1381: ((28, 1),),\n",
       " 1410: ((3, 2),),\n",
       " 1476: ((8, 1), (18, 1)),\n",
       " 1484: ((23, 1),),\n",
       " 1485: ((27, 3),),\n",
       " 1487: ((35, 1),),\n",
       " 1509: ((29, 1),),\n",
       " 1536: ((1, 1),),\n",
       " 1597: ((15, 2),),\n",
       " 1602: ((12, 1), (16, 1)),\n",
       " 1628: ((21, 1),),\n",
       " 1648: ((13, 1),),\n",
       " 1721: ((27, 1),),\n",
       " 1733: ((23, 2),),\n",
       " 1747: ((7, 1), (10, 1), (17, 1)),\n",
       " 1750: ((3, 1), (5, 1)),\n",
       " 1776: ((30, 3),),\n",
       " 1783: ((31, 2),),\n",
       " 1789: ((20, 2),),\n",
       " 1815: ((14, 2),),\n",
       " 1873: ((3, 0), (4, 0), (5, 0)),\n",
       " 1879: ((10, 3),),\n",
       " 1910: ((7, 3),),\n",
       " 1917: ((25, 1),),\n",
       " 1921: ((39, 1),),\n",
       " 1970: ((2, 1),),\n",
       " 1988: ((29, 2),),\n",
       " 2030: ((26, 3),),\n",
       " 2032: ((4, 3),),\n",
       " 2041: ((3, 3),)}"
      ]
     },
     "execution_count": 369,
     "metadata": {},
     "output_type": "execute_result"
    }
   ],
   "source": [
    "info_dicts[163]"
   ]
  },
  {
   "cell_type": "code",
   "execution_count": 370,
   "metadata": {
    "scrolled": true
   },
   "outputs": [
    {
     "data": {
      "text/plain": [
       "{0: ((3, 3),),\n",
       " 80: ((5, 0),),\n",
       " 216: ((7, 3), (20, 3)),\n",
       " 221: ((13, 3), (14, 3)),\n",
       " 226: ((4, 3),),\n",
       " 235: ((2, 2), (22, 2)),\n",
       " 310: ((3, 2), (21, 2)),\n",
       " 352: ((13, 1), (14, 1)),\n",
       " 371: ((9, 2), (18, 2)),\n",
       " 460: ((8, 2), (19, 2)),\n",
       " 471: ((12, 3), (15, 3)),\n",
       " 673: ((7, 2), (20, 2)),\n",
       " 690: ((5, 2),),\n",
       " 757: ((8, 3), (19, 3)),\n",
       " 824: ((1, 3),),\n",
       " 880: ((6, 2),),\n",
       " 882: ((5, 3),),\n",
       " 935: ((6, 0),),\n",
       " 984: ((12, 2), (15, 2)),\n",
       " 1019: ((7, 0), (20, 0)),\n",
       " 1027: ((8, 1), (19, 1)),\n",
       " 1057: ((0, 0),),\n",
       " 1088: ((10, 1), (11, 1), (16, 1), (17, 1)),\n",
       " 1094: ((6, 1),),\n",
       " 1199: ((10, 2), (11, 2), (16, 2), (17, 2)),\n",
       " 1268: ((2, 3),),\n",
       " 1279: ((10, 3), (17, 3)),\n",
       " 1297: ((13, 2), (14, 2)),\n",
       " 1321: ((11, 3), (16, 3)),\n",
       " 1380: ((1, 0), (4, 0), (8, 0), (13, 0), (14, 0), (19, 0)),\n",
       " 1593: ((9, 3), (18, 3)),\n",
       " 1683: ((4, 2),),\n",
       " 1722: ((0, 1),),\n",
       " 1750: ((2, 1), (3, 1), (9, 1), (12, 1), (15, 1), (18, 1), (21, 1), (22, 1)),\n",
       " 1754: ((4, 1),),\n",
       " 1765: ((5, 1),),\n",
       " 1823: ((1, 1),),\n",
       " 1837: ((6, 3),),\n",
       " 1873: ((2, 0),\n",
       "  (3, 0),\n",
       "  (9, 0),\n",
       "  (10, 0),\n",
       "  (11, 0),\n",
       "  (12, 0),\n",
       "  (15, 0),\n",
       "  (16, 0),\n",
       "  (17, 0),\n",
       "  (18, 0),\n",
       "  (21, 0),\n",
       "  (22, 0)),\n",
       " 1920: ((1, 2),),\n",
       " 1980: ((7, 1), (20, 1))}"
      ]
     },
     "execution_count": 370,
     "metadata": {},
     "output_type": "execute_result"
    }
   ],
   "source": [
    "info_dicts[184]"
   ]
  },
  {
   "cell_type": "markdown",
   "metadata": {},
   "source": [
    "That's the fingerprint set at position one in the bit vector for molecule $163$."
   ]
  },
  {
   "cell_type": "code",
   "execution_count": 376,
   "metadata": {
    "scrolled": true
   },
   "outputs": [
    {
     "data": {
      "image/svg+xml": [
       "<svg baseProfile=\"full\" height=\"150px\" version=\"1.1\" width=\"150px\" xml:space=\"preserve\" xmlns=\"http://www.w3.org/2000/svg\" xmlns:rdkit=\"http://www.rdkit.org/xml\" xmlns:xlink=\"http://www.w3.org/1999/xlink\">\n",
       "<rect height=\"150\" style=\"opacity:1.0;fill:#FFFFFF;stroke:none\" width=\"150\" x=\"0\" y=\"0\"> </rect>\n",
       "<ellipse cx=\"101.241\" cy=\"64.5185\" rx=\"5.2682\" ry=\"5.2682\" style=\"fill:#CCCCCC;fill-rule:evenodd;stroke:#CCCCCC;stroke-width:2px;stroke-linecap:butt;stroke-linejoin:miter;stroke-opacity:1\"/>\n",
       "<ellipse cx=\"91.0619\" cy=\"40.224\" rx=\"5.2682\" ry=\"5.2682\" style=\"fill:#9999E5;fill-rule:evenodd;stroke:#9999E5;stroke-width:2px;stroke-linecap:butt;stroke-linejoin:miter;stroke-opacity:1\"/>\n",
       "<ellipse cx=\"64.9324\" cy=\"36.8924\" rx=\"5.2682\" ry=\"5.2682\" style=\"fill:#CCCCCC;fill-rule:evenodd;stroke:#CCCCCC;stroke-width:2px;stroke-linecap:butt;stroke-linejoin:miter;stroke-opacity:1\"/>\n",
       "<ellipse cx=\"85.2915\" cy=\"85.4815\" rx=\"5.2682\" ry=\"5.2682\" style=\"fill:#CCCCCC;fill-rule:evenodd;stroke:#CCCCCC;stroke-width:2px;stroke-linecap:butt;stroke-linejoin:miter;stroke-opacity:1\"/>\n",
       "<ellipse cx=\"48.9825\" cy=\"57.8555\" rx=\"5.2682\" ry=\"5.2682\" style=\"fill:#CCCCCC;fill-rule:evenodd;stroke:#CCCCCC;stroke-width:2px;stroke-linecap:butt;stroke-linejoin:miter;stroke-opacity:1\"/>\n",
       "<ellipse cx=\"59.1621\" cy=\"82.15\" rx=\"5.2682\" ry=\"5.2682\" style=\"fill:#CCCCCC;fill-rule:evenodd;stroke:#CCCCCC;stroke-width:2px;stroke-linecap:butt;stroke-linejoin:miter;stroke-opacity:1\"/>\n",
       "<path d=\"M 92.1308,114.166 81.5713,128.045\" style=\"fill:none;fill-rule:evenodd;stroke:#E5E5E5;stroke-width:4px;stroke-linecap:butt;stroke-linejoin:miter;stroke-opacity:1\"/>\n",
       "<path d=\"M 99.2763,110.261 119.55,112.846\" style=\"fill:none;fill-rule:evenodd;stroke:#E5E5E5;stroke-width:4px;stroke-linecap:butt;stroke-linejoin:miter;stroke-opacity:1\"/>\n",
       "<path d=\"M 93.6316,105.386 89.4616,95.4337\" style=\"fill:none;fill-rule:evenodd;stroke:#0000FF;stroke-width:2px;stroke-linecap:butt;stroke-linejoin:miter;stroke-opacity:1\"/>\n",
       "<path d=\"M 89.4616,95.4337 85.2915,85.4815\" style=\"fill:none;fill-rule:evenodd;stroke:#000000;stroke-width:2px;stroke-linecap:butt;stroke-linejoin:miter;stroke-opacity:1\"/>\n",
       "<path d=\"M 14.513,34.6196 21.0135,50.1338\" style=\"fill:none;fill-rule:evenodd;stroke:#E5E5E5;stroke-width:4px;stroke-linecap:butt;stroke-linejoin:miter;stroke-opacity:1\"/>\n",
       "<path d=\"M 26.9534,55.0468 37.9679,56.4511\" style=\"fill:none;fill-rule:evenodd;stroke:#FF0000;stroke-width:2px;stroke-linecap:butt;stroke-linejoin:miter;stroke-opacity:1\"/>\n",
       "<path d=\"M 37.9679,56.4511 48.9825,57.8555\" style=\"fill:none;fill-rule:evenodd;stroke:#000000;stroke-width:2px;stroke-linecap:butt;stroke-linejoin:miter;stroke-opacity:1\"/>\n",
       "<path d=\"M 101.241,64.5185 91.0619,40.224\" style=\"fill:none;fill-rule:evenodd;stroke:#000000;stroke-width:2px;stroke-linecap:butt;stroke-linejoin:miter;stroke-opacity:1\"/>\n",
       "<path d=\"M 101.241,64.5185 85.2915,85.4815\" style=\"fill:none;fill-rule:evenodd;stroke:#000000;stroke-width:2px;stroke-linecap:butt;stroke-linejoin:miter;stroke-opacity:1\"/>\n",
       "<path d=\"M 101.241,64.5185 110.353,65.6803\" style=\"fill:none;fill-rule:evenodd;stroke:#000000;stroke-width:2px;stroke-linecap:butt;stroke-linejoin:miter;stroke-opacity:1\"/>\n",
       "<path d=\"M 110.353,65.6803 119.465,66.842\" style=\"fill:none;fill-rule:evenodd;stroke:#FF0000;stroke-width:2px;stroke-linecap:butt;stroke-linejoin:miter;stroke-opacity:1\"/>\n",
       "<path d=\"M 91.0619,40.224 107.012,19.2609\" style=\"fill:none;fill-rule:evenodd;stroke:#000000;stroke-width:2px;stroke-linecap:butt;stroke-linejoin:miter;stroke-opacity:1\"/>\n",
       "<path d=\"M 91.0619,40.224 80.0473,38.8196\" style=\"fill:none;fill-rule:evenodd;stroke:#000000;stroke-width:2px;stroke-linecap:butt;stroke-linejoin:miter;stroke-opacity:1\"/>\n",
       "<path d=\"M 80.0473,38.8196 69.0327,37.4152\" style=\"fill:none;fill-rule:evenodd;stroke:#FF0000;stroke-width:2px;stroke-linecap:butt;stroke-linejoin:miter;stroke-opacity:1\"/>\n",
       "<path d=\"M 61.5921,41.2826 55.2873,49.569\" style=\"fill:none;fill-rule:evenodd;stroke:#FF0000;stroke-width:2px;stroke-linecap:butt;stroke-linejoin:miter;stroke-opacity:1\"/>\n",
       "<path d=\"M 55.2873,49.569 48.9825,57.8555\" style=\"fill:none;fill-rule:evenodd;stroke:#000000;stroke-width:2px;stroke-linecap:butt;stroke-linejoin:miter;stroke-opacity:1\"/>\n",
       "<path d=\"M 85.2915,85.4815 59.1621,82.15\" style=\"fill:none;fill-rule:evenodd;stroke:#000000;stroke-width:2px;stroke-linecap:butt;stroke-linejoin:miter;stroke-opacity:1\"/>\n",
       "<path d=\"M 48.9825,57.8555 59.1621,82.15\" style=\"fill:none;fill-rule:evenodd;stroke:#000000;stroke-width:2px;stroke-linecap:butt;stroke-linejoin:miter;stroke-opacity:1\"/>\n",
       "<text style=\"font-size:8px;font-style:normal;font-weight:normal;fill-opacity:1;stroke:none;font-family:sans-serif;text-anchor:start;fill:#0000FF\" x=\"91.6659\" y=\"114.166\"><tspan>N</tspan></text>\n",
       "<text style=\"font-size:8px;font-style:normal;font-weight:normal;fill-opacity:1;stroke:none;font-family:sans-serif;text-anchor:start;fill:#7F7F7F\" x=\"77.471\" y=\"135.129\"><tspan>*</tspan></text>\n",
       "<text style=\"font-size:8px;font-style:normal;font-weight:normal;fill-opacity:1;stroke:none;font-family:sans-serif;text-anchor:start;fill:#7F7F7F\" x=\"119.55\" y=\"117.498\"><tspan>*</tspan></text>\n",
       "<text style=\"font-size:8px;font-style:normal;font-weight:normal;fill-opacity:1;stroke:none;font-family:sans-serif;text-anchor:start;fill:#7F7F7F\" x=\"6.81818\" y=\"34.6196\"><tspan>*H</tspan></text>\n",
       "<text style=\"font-size:8px;font-style:normal;font-weight:normal;fill-opacity:1;stroke:none;font-family:sans-serif;text-anchor:start;fill:#FF0000\" x=\"18.7528\" y=\"58.9141\"><tspan>O</tspan></text>\n",
       "<text style=\"font-size:8px;font-style:normal;font-weight:normal;fill-opacity:1;stroke:none;font-family:sans-serif;text-anchor:start;fill:#FF0000\" x=\"60.8321\" y=\"41.2826\"><tspan>O</tspan></text>\n",
       "<text style=\"font-size:8px;font-style:normal;font-weight:normal;fill-opacity:1;stroke:none;font-family:sans-serif;text-anchor:start;fill:#FF0000\" x=\"119.465\" y=\"72.2402\"><tspan>OH</tspan></text>\n",
       "</svg>"
      ],
      "text/plain": [
       "<IPython.core.display.SVG object>"
      ]
     },
     "metadata": {},
     "output_type": "display_data"
    }
   ],
   "source": [
    "display(SVG(Draw.DrawMorganBit(supplier_test[163], 0, info_dicts[163])))"
   ]
  },
  {
   "cell_type": "code",
   "execution_count": 377,
   "metadata": {},
   "outputs": [
    {
     "data": {
      "image/svg+xml": [
       "<svg baseProfile=\"full\" height=\"150px\" version=\"1.1\" width=\"150px\" xml:space=\"preserve\" xmlns=\"http://www.w3.org/2000/svg\" xmlns:rdkit=\"http://www.rdkit.org/xml\" xmlns:xlink=\"http://www.w3.org/1999/xlink\">\n",
       "<rect height=\"150\" style=\"opacity:1.0;fill:#FFFFFF;stroke:none\" width=\"150\" x=\"0\" y=\"0\"> </rect>\n",
       "<ellipse cx=\"114.206\" cy=\"89.5698\" rx=\"5.01671\" ry=\"5.01671\" style=\"fill:#CCCCCC;fill-rule:evenodd;stroke:#CCCCCC;stroke-width:2px;stroke-linecap:butt;stroke-linejoin:miter;stroke-opacity:1\"/>\n",
       "<ellipse cx=\"50.243\" cy=\"49.9287\" rx=\"5.01671\" ry=\"5.01671\" style=\"fill:#E5E533;fill-rule:evenodd;stroke:#E5E533;stroke-width:2px;stroke-linecap:butt;stroke-linejoin:miter;stroke-opacity:1\"/>\n",
       "<ellipse cx=\"71.564\" cy=\"63.1424\" rx=\"5.01671\" ry=\"5.01671\" style=\"fill:#9999E5;fill-rule:evenodd;stroke:#9999E5;stroke-width:2px;stroke-linecap:butt;stroke-linejoin:miter;stroke-opacity:1\"/>\n",
       "<ellipse cx=\"70.7811\" cy=\"88.2137\" rx=\"5.01671\" ry=\"5.01671\" style=\"fill:#E5E533;fill-rule:evenodd;stroke:#E5E533;stroke-width:2px;stroke-linecap:butt;stroke-linejoin:miter;stroke-opacity:1\"/>\n",
       "<ellipse cx=\"28.1391\" cy=\"61.7863\" rx=\"5.01671\" ry=\"5.01671\" style=\"fill:#E5E533;fill-rule:evenodd;stroke:#E5E533;stroke-width:2px;stroke-linecap:butt;stroke-linejoin:miter;stroke-opacity:1\"/>\n",
       "<ellipse cx=\"48.6772\" cy=\"100.071\" rx=\"5.01671\" ry=\"5.01671\" style=\"fill:#E5E533;fill-rule:evenodd;stroke:#E5E533;stroke-width:2px;stroke-linecap:butt;stroke-linejoin:miter;stroke-opacity:1\"/>\n",
       "<ellipse cx=\"27.3562\" cy=\"86.8576\" rx=\"5.01671\" ry=\"5.01671\" style=\"fill:#E5E533;fill-rule:evenodd;stroke:#E5E533;stroke-width:2px;stroke-linecap:butt;stroke-linejoin:miter;stroke-opacity:1\"/>\n",
       "<path d=\"M 117.829,89.6829 137.325,90.2917\" style=\"fill:none;fill-rule:evenodd;stroke:#E5E5E5;stroke-width:4px;stroke-linecap:butt;stroke-linejoin:miter;stroke-opacity:1\"/>\n",
       "<path d=\"M 116.797,85.3892 125.467,71.3989\" style=\"fill:none;fill-rule:evenodd;stroke:#E5E5E5;stroke-width:4px;stroke-linecap:butt;stroke-linejoin:miter;stroke-opacity:1\"/>\n",
       "<path d=\"M 110.582,91.5136 101.342,96.4705\" style=\"fill:none;fill-rule:evenodd;stroke:#0000FF;stroke-width:2px;stroke-linecap:butt;stroke-linejoin:miter;stroke-opacity:1\"/>\n",
       "<path d=\"M 101.342,96.4705 92.102,101.427\" style=\"fill:none;fill-rule:evenodd;stroke:#000000;stroke-width:2px;stroke-linecap:butt;stroke-linejoin:miter;stroke-opacity:1\"/>\n",
       "<path d=\"M 50.243,49.9287 71.564,63.1424\" style=\"fill:none;fill-rule:evenodd;stroke:#000000;stroke-width:2px;stroke-linecap:butt;stroke-linejoin:miter;stroke-opacity:1\"/>\n",
       "<path d=\"M 50.7984,56.1749 65.7231,65.4245\" style=\"fill:none;fill-rule:evenodd;stroke:#000000;stroke-width:2px;stroke-linecap:butt;stroke-linejoin:miter;stroke-opacity:1;stroke-dasharray:6,6\"/>\n",
       "<path d=\"M 50.243,49.9287 28.1391,61.7863\" style=\"fill:none;fill-rule:evenodd;stroke:#000000;stroke-width:2px;stroke-linecap:butt;stroke-linejoin:miter;stroke-opacity:1\"/>\n",
       "<path d=\"M 49.299,56.1281 33.8263,64.4284\" style=\"fill:none;fill-rule:evenodd;stroke:#000000;stroke-width:2px;stroke-linecap:butt;stroke-linejoin:miter;stroke-opacity:1;stroke-dasharray:6,6\"/>\n",
       "<path d=\"M 71.564,63.1424 70.7811,88.2137\" style=\"fill:none;fill-rule:evenodd;stroke:#000000;stroke-width:2px;stroke-linecap:butt;stroke-linejoin:miter;stroke-opacity:1\"/>\n",
       "<path d=\"M 66.4323,66.7465 65.8842,84.2964\" style=\"fill:none;fill-rule:evenodd;stroke:#000000;stroke-width:2px;stroke-linecap:butt;stroke-linejoin:miter;stroke-opacity:1;stroke-dasharray:6,6\"/>\n",
       "<path d=\"M 70.7811,88.2137 92.102,101.427\" style=\"fill:none;fill-rule:evenodd;stroke:#000000;stroke-width:2px;stroke-linecap:butt;stroke-linejoin:miter;stroke-opacity:1\"/>\n",
       "<path d=\"M 70.7811,88.2137 48.6772,100.071\" style=\"fill:none;fill-rule:evenodd;stroke:#000000;stroke-width:2px;stroke-linecap:butt;stroke-linejoin:miter;stroke-opacity:1\"/>\n",
       "<path d=\"M 65.0939,85.5716 49.6212,93.8719\" style=\"fill:none;fill-rule:evenodd;stroke:#000000;stroke-width:2px;stroke-linecap:butt;stroke-linejoin:miter;stroke-opacity:1;stroke-dasharray:6,6\"/>\n",
       "<path d=\"M 28.1391,61.7863 6.81818,48.5726\" style=\"fill:none;fill-rule:evenodd;stroke:#000000;stroke-width:2px;stroke-linecap:butt;stroke-linejoin:miter;stroke-opacity:1\"/>\n",
       "<path d=\"M 28.1391,61.7863 27.3562,86.8576\" style=\"fill:none;fill-rule:evenodd;stroke:#000000;stroke-width:2px;stroke-linecap:butt;stroke-linejoin:miter;stroke-opacity:1\"/>\n",
       "<path d=\"M 33.036,65.7036 32.4879,83.2535\" style=\"fill:none;fill-rule:evenodd;stroke:#000000;stroke-width:2px;stroke-linecap:butt;stroke-linejoin:miter;stroke-opacity:1;stroke-dasharray:6,6\"/>\n",
       "<path d=\"M 48.6772,100.071 27.3562,86.8576\" style=\"fill:none;fill-rule:evenodd;stroke:#000000;stroke-width:2px;stroke-linecap:butt;stroke-linejoin:miter;stroke-opacity:1\"/>\n",
       "<path d=\"M 48.1218,93.8251 33.1971,84.5755\" style=\"fill:none;fill-rule:evenodd;stroke:#000000;stroke-width:2px;stroke-linecap:butt;stroke-linejoin:miter;stroke-opacity:1;stroke-dasharray:6,6\"/>\n",
       "<text style=\"font-size:8px;font-style:normal;font-weight:normal;fill-opacity:1;stroke:none;font-family:sans-serif;text-anchor:start;fill:#0000FF\" x=\"110.582\" y=\"93.7504\"><tspan>N</tspan></text>\n",
       "<text style=\"font-size:8px;font-style:normal;font-weight:normal;fill-opacity:1;stroke:none;font-family:sans-serif;text-anchor:start;fill:#7F7F7F\" x=\"137.325\" y=\"94.5333\"><tspan>*</tspan></text>\n",
       "<text style=\"font-size:8px;font-style:normal;font-weight:normal;fill-opacity:1;stroke:none;font-family:sans-serif;text-anchor:start;fill:#7F7F7F\" x=\"125.467\" y=\"72.4294\"><tspan>*</tspan></text>\n",
       "</svg>"
      ],
      "text/plain": [
       "<IPython.core.display.SVG object>"
      ]
     },
     "metadata": {},
     "output_type": "display_data"
    }
   ],
   "source": [
    "display(SVG(Draw.DrawMorganBit(supplier_test[184], 0, info_dicts[184])))"
   ]
  },
  {
   "cell_type": "code",
   "execution_count": 380,
   "metadata": {
    "scrolled": true
   },
   "outputs": [
    {
     "data": {
      "image/svg+xml": [
       "<svg baseProfile=\"full\" height=\"150px\" version=\"1.1\" width=\"150px\" xml:space=\"preserve\" xmlns=\"http://www.w3.org/2000/svg\" xmlns:rdkit=\"http://www.rdkit.org/xml\" xmlns:xlink=\"http://www.w3.org/1999/xlink\">\n",
       "<rect height=\"150\" style=\"opacity:1.0;fill:#FFFFFF;stroke:none\" width=\"150\" x=\"0\" y=\"0\"> </rect>\n",
       "<ellipse cx=\"34.0909\" cy=\"69.981\" rx=\"7.93669\" ry=\"7.93669\" style=\"fill:#E5E533;fill-rule:evenodd;stroke:#E5E533;stroke-width:2px;stroke-linecap:butt;stroke-linejoin:miter;stroke-opacity:1\"/>\n",
       "<ellipse cx=\"88.7915\" cy=\"111.6\" rx=\"7.93669\" ry=\"7.93669\" style=\"fill:#E5E533;fill-rule:evenodd;stroke:#E5E533;stroke-width:2px;stroke-linecap:butt;stroke-linejoin:miter;stroke-opacity:1\"/>\n",
       "<ellipse cx=\"97.4847\" cy=\"43.4186\" rx=\"7.93669\" ry=\"7.93669\" style=\"fill:#CCCCCC;fill-rule:evenodd;stroke:#CCCCCC;stroke-width:2px;stroke-linecap:butt;stroke-linejoin:miter;stroke-opacity:1\"/>\n",
       "<ellipse cx=\"73.4557\" cy=\"75\" rx=\"7.93669\" ry=\"7.93669\" style=\"fill:#9999E5;fill-rule:evenodd;stroke:#9999E5;stroke-width:2px;stroke-linecap:butt;stroke-linejoin:miter;stroke-opacity:1\"/>\n",
       "<path d=\"M 13.1505,97.503 34.0909,69.981\" style=\"fill:none;fill-rule:evenodd;stroke:#E5E5E5;stroke-width:4px;stroke-linecap:butt;stroke-linejoin:miter;stroke-opacity:1\"/>\n",
       "<path d=\"M 22.6079,98.1805 37.2661,78.9151\" style=\"fill:none;fill-rule:evenodd;stroke:#E5E5E5;stroke-width:4px;stroke-linecap:butt;stroke-linejoin:miter;stroke-opacity:1;stroke-dasharray:6,6\"/>\n",
       "<path d=\"M 34.0909,69.981 73.4557,75\" style=\"fill:none;fill-rule:evenodd;stroke:#000000;stroke-width:2px;stroke-linecap:butt;stroke-linejoin:miter;stroke-opacity:1\"/>\n",
       "<path d=\"M 38.9918,78.6068 66.5472,82.1201\" style=\"fill:none;fill-rule:evenodd;stroke:#000000;stroke-width:2px;stroke-linecap:butt;stroke-linejoin:miter;stroke-opacity:1;stroke-dasharray:6,6\"/>\n",
       "<path d=\"M 88.7915,111.6 67.8511,139.122\" style=\"fill:none;fill-rule:evenodd;stroke:#E5E5E5;stroke-width:4px;stroke-linecap:butt;stroke-linejoin:miter;stroke-opacity:1\"/>\n",
       "<path d=\"M 91.9667,120.535 77.3085,139.8\" style=\"fill:none;fill-rule:evenodd;stroke:#E5E5E5;stroke-width:4px;stroke-linecap:butt;stroke-linejoin:miter;stroke-opacity:1;stroke-dasharray:6,6\"/>\n",
       "<path d=\"M 88.7915,111.6 125.068,116.226\" style=\"fill:none;fill-rule:evenodd;stroke:#E5E5E5;stroke-width:4px;stroke-linecap:butt;stroke-linejoin:miter;stroke-opacity:1\"/>\n",
       "<path d=\"M 88.7915,111.6 73.4557,75\" style=\"fill:none;fill-rule:evenodd;stroke:#000000;stroke-width:2px;stroke-linecap:butt;stroke-linejoin:miter;stroke-opacity:1\"/>\n",
       "<path d=\"M 79.171,109.178 68.436,83.5572\" style=\"fill:none;fill-rule:evenodd;stroke:#000000;stroke-width:2px;stroke-linecap:butt;stroke-linejoin:miter;stroke-opacity:1;stroke-dasharray:6,6\"/>\n",
       "<path d=\"M 133.761,48.0438 97.4847,43.4186\" style=\"fill:none;fill-rule:evenodd;stroke:#E5E5E5;stroke-width:4px;stroke-linecap:butt;stroke-linejoin:miter;stroke-opacity:1\"/>\n",
       "<path d=\"M 101.145,41.885 88.5802,11.8985\" style=\"fill:none;fill-rule:evenodd;stroke:#E5E5E5;stroke-width:4px;stroke-linecap:butt;stroke-linejoin:miter;stroke-opacity:1\"/>\n",
       "<path d=\"M 93.8246,44.9522 81.2601,14.9657\" style=\"fill:none;fill-rule:evenodd;stroke:#E5E5E5;stroke-width:4px;stroke-linecap:butt;stroke-linejoin:miter;stroke-opacity:1\"/>\n",
       "<path d=\"M 97.4847,43.4186 73.4557,75\" style=\"fill:none;fill-rule:evenodd;stroke:#000000;stroke-width:2px;stroke-linecap:butt;stroke-linejoin:miter;stroke-opacity:1\"/>\n",
       "<text style=\"font-size:13px;font-style:normal;font-weight:normal;fill-opacity:1;stroke:none;font-family:sans-serif;text-anchor:start;fill:#7F7F7F\" x=\"6.97331\" y=\"108.176\"><tspan>*</tspan></text>\n",
       "<text style=\"font-size:13px;font-style:normal;font-weight:normal;fill-opacity:1;stroke:none;font-family:sans-serif;text-anchor:start;fill:#7F7F7F\" x=\"61.6739\" y=\"149.796\"><tspan>*</tspan></text>\n",
       "<text style=\"font-size:13px;font-style:normal;font-weight:normal;fill-opacity:1;stroke:none;font-family:sans-serif;text-anchor:start;fill:#7F7F7F\" x=\"125.068\" y=\"123.233\"><tspan>*</tspan></text>\n",
       "<text style=\"font-size:13px;font-style:normal;font-weight:normal;fill-opacity:1;stroke:none;font-family:sans-serif;text-anchor:start;fill:#7F7F7F\" x=\"133.761\" y=\"55.0515\"><tspan>*</tspan></text>\n",
       "<text style=\"font-size:13px;font-style:normal;font-weight:normal;fill-opacity:1;stroke:none;font-family:sans-serif;text-anchor:start;fill:#7F7F7F\" x=\"79.0603\" y=\"13.4321\"><tspan>*</tspan></text>\n",
       "</svg>"
      ],
      "text/plain": [
       "<IPython.core.display.SVG object>"
      ]
     },
     "metadata": {},
     "output_type": "display_data"
    }
   ],
   "source": [
    "display(SVG(Draw.DrawMorganBit(supplier_test[163], 352, info_dicts[163])))"
   ]
  },
  {
   "cell_type": "code",
   "execution_count": 381,
   "metadata": {
    "scrolled": false
   },
   "outputs": [
    {
     "data": {
      "image/svg+xml": [
       "<svg baseProfile=\"full\" height=\"150px\" version=\"1.1\" width=\"150px\" xml:space=\"preserve\" xmlns=\"http://www.w3.org/2000/svg\" xmlns:rdkit=\"http://www.rdkit.org/xml\" xmlns:xlink=\"http://www.w3.org/1999/xlink\">\n",
       "<rect height=\"150\" style=\"opacity:1.0;fill:#FFFFFF;stroke:none\" width=\"150\" x=\"0\" y=\"0\"> </rect>\n",
       "<ellipse cx=\"56.8503\" cy=\"108.476\" rx=\"7.8768\" ry=\"7.8768\" style=\"fill:#E5E533;fill-rule:evenodd;stroke:#E5E533;stroke-width:2px;stroke-linecap:butt;stroke-linejoin:miter;stroke-opacity:1\"/>\n",
       "<ellipse cx=\"116.962\" cy=\"76.2293\" rx=\"7.8768\" ry=\"7.8768\" style=\"fill:#E5E533;fill-rule:evenodd;stroke:#E5E533;stroke-width:2px;stroke-linecap:butt;stroke-linejoin:miter;stroke-opacity:1\"/>\n",
       "<ellipse cx=\"58.9794\" cy=\"40.2944\" rx=\"7.8768\" ry=\"7.8768\" style=\"fill:#E5E533;fill-rule:evenodd;stroke:#E5E533;stroke-width:2px;stroke-linecap:butt;stroke-linejoin:miter;stroke-opacity:1\"/>\n",
       "<ellipse cx=\"77.5972\" cy=\"75\" rx=\"7.8768\" ry=\"7.8768\" style=\"fill:#9999E5;fill-rule:evenodd;stroke:#9999E5;stroke-width:2px;stroke-linecap:butt;stroke-linejoin:miter;stroke-opacity:1\"/>\n",
       "<path d=\"M 20.5508,107.343 56.8503,108.476\" style=\"fill:none;fill-rule:evenodd;stroke:#E5E5E5;stroke-width:4px;stroke-linecap:butt;stroke-linejoin:miter;stroke-opacity:1\"/>\n",
       "<path d=\"M 56.8503,108.476 72.4028,137.468\" style=\"fill:none;fill-rule:evenodd;stroke:#E5E5E5;stroke-width:4px;stroke-linecap:butt;stroke-linejoin:miter;stroke-opacity:1\"/>\n",
       "<path d=\"M 52.242,116.549 63.1288,136.843\" style=\"fill:none;fill-rule:evenodd;stroke:#E5E5E5;stroke-width:4px;stroke-linecap:butt;stroke-linejoin:miter;stroke-opacity:1;stroke-dasharray:6,6\"/>\n",
       "<path d=\"M 56.8503,108.476 77.5972,75\" style=\"fill:none;fill-rule:evenodd;stroke:#000000;stroke-width:2px;stroke-linecap:butt;stroke-linejoin:miter;stroke-opacity:1\"/>\n",
       "<path d=\"M 66.6576,107.604 81.1804,84.1708\" style=\"fill:none;fill-rule:evenodd;stroke:#000000;stroke-width:2px;stroke-linecap:butt;stroke-linejoin:miter;stroke-opacity:1;stroke-dasharray:6,6\"/>\n",
       "<path d=\"M 132.515,105.221 116.962,76.2293\" style=\"fill:none;fill-rule:evenodd;stroke:#E5E5E5;stroke-width:4px;stroke-linecap:butt;stroke-linejoin:miter;stroke-opacity:1\"/>\n",
       "<path d=\"M 123.241,104.596 112.354,84.3016\" style=\"fill:none;fill-rule:evenodd;stroke:#E5E5E5;stroke-width:4px;stroke-linecap:butt;stroke-linejoin:miter;stroke-opacity:1;stroke-dasharray:6,6\"/>\n",
       "<path d=\"M 116.962,76.2293 77.5972,75\" style=\"fill:none;fill-rule:evenodd;stroke:#000000;stroke-width:2px;stroke-linecap:butt;stroke-linejoin:miter;stroke-opacity:1\"/>\n",
       "<path d=\"M 110.811,83.9179 83.2561,83.0574\" style=\"fill:none;fill-rule:evenodd;stroke:#000000;stroke-width:2px;stroke-linecap:butt;stroke-linejoin:miter;stroke-opacity:1;stroke-dasharray:6,6\"/>\n",
       "<path d=\"M 58.9794,40.2944 76.6611,11.7642\" style=\"fill:none;fill-rule:evenodd;stroke:#E5E5E5;stroke-width:4px;stroke-linecap:butt;stroke-linejoin:miter;stroke-opacity:1\"/>\n",
       "<path d=\"M 54.9364,31.8655 67.3136,11.8943\" style=\"fill:none;fill-rule:evenodd;stroke:#E5E5E5;stroke-width:4px;stroke-linecap:butt;stroke-linejoin:miter;stroke-opacity:1;stroke-dasharray:6,6\"/>\n",
       "<path d=\"M 58.9794,40.2944 22.6799,39.1609\" style=\"fill:none;fill-rule:evenodd;stroke:#E5E5E5;stroke-width:4px;stroke-linecap:butt;stroke-linejoin:miter;stroke-opacity:1\"/>\n",
       "<path d=\"M 53.7804,32.2515 28.3707,31.458\" style=\"fill:none;fill-rule:evenodd;stroke:#E5E5E5;stroke-width:4px;stroke-linecap:butt;stroke-linejoin:miter;stroke-opacity:1;stroke-dasharray:6,6\"/>\n",
       "<path d=\"M 58.9794,40.2944 77.5972,75\" style=\"fill:none;fill-rule:evenodd;stroke:#000000;stroke-width:2px;stroke-linecap:butt;stroke-linejoin:miter;stroke-opacity:1\"/>\n",
       "<text style=\"font-size:13px;font-style:normal;font-weight:normal;fill-opacity:1;stroke:none;font-family:sans-serif;text-anchor:start;fill:#7F7F7F\" x=\"14.4202\" y=\"113.811\"><tspan>*</tspan></text>\n",
       "<text style=\"font-size:13px;font-style:normal;font-weight:normal;fill-opacity:1;stroke:none;font-family:sans-serif;text-anchor:start;fill:#7F7F7F\" x=\"72.4028\" y=\"149.746\"><tspan>*</tspan></text>\n",
       "<text style=\"font-size:13px;font-style:normal;font-weight:normal;fill-opacity:1;stroke:none;font-family:sans-serif;text-anchor:start;fill:#7F7F7F\" x=\"132.515\" y=\"117.499\"><tspan>*</tspan></text>\n",
       "<text style=\"font-size:13px;font-style:normal;font-weight:normal;fill-opacity:1;stroke:none;font-family:sans-serif;text-anchor:start;fill:#7F7F7F\" x=\"76.6611\" y=\"13.3822\"><tspan>*</tspan></text>\n",
       "<text style=\"font-size:13px;font-style:normal;font-weight:normal;fill-opacity:1;stroke:none;font-family:sans-serif;text-anchor:start;fill:#7F7F7F\" x=\"16.5493\" y=\"45.6292\"><tspan>*</tspan></text>\n",
       "</svg>"
      ],
      "text/plain": [
       "<IPython.core.display.SVG object>"
      ]
     },
     "metadata": {},
     "output_type": "display_data"
    }
   ],
   "source": [
    "display(SVG(Draw.DrawMorganBit(supplier_test[184], 352, info_dicts[184])))"
   ]
  },
  {
   "cell_type": "code",
   "execution_count": 382,
   "metadata": {
    "scrolled": true
   },
   "outputs": [
    {
     "data": {
      "image/svg+xml": [
       "<svg baseProfile=\"full\" height=\"150px\" version=\"1.1\" width=\"150px\" xml:space=\"preserve\" xmlns=\"http://www.w3.org/2000/svg\" xmlns:rdkit=\"http://www.rdkit.org/xml\" xmlns:xlink=\"http://www.w3.org/1999/xlink\">\n",
       "<rect height=\"150\" style=\"opacity:1.0;fill:#FFFFFF;stroke:none\" width=\"150\" x=\"0\" y=\"0\"> </rect>\n",
       "<ellipse cx=\"123.967\" cy=\"116.438\" rx=\"4.25845\" ry=\"4.25845\" style=\"fill:#CCCCCC;fill-rule:evenodd;stroke:#CCCCCC;stroke-width:2px;stroke-linecap:butt;stroke-linejoin:miter;stroke-opacity:1\"/>\n",
       "<ellipse cx=\"128.632\" cy=\"79.8544\" rx=\"4.25845\" ry=\"4.25845\" style=\"fill:#CCCCCC;fill-rule:evenodd;stroke:#CCCCCC;stroke-width:2px;stroke-linecap:butt;stroke-linejoin:miter;stroke-opacity:1\"/>\n",
       "<ellipse cx=\"31.2539\" cy=\"86.0277\" rx=\"4.25845\" ry=\"4.25845\" style=\"fill:#E5E533;fill-rule:evenodd;stroke:#E5E533;stroke-width:2px;stroke-linecap:butt;stroke-linejoin:miter;stroke-opacity:1\"/>\n",
       "<ellipse cx=\"35.9182\" cy=\"49.4445\" rx=\"4.25845\" ry=\"4.25845\" style=\"fill:#E5E533;fill-rule:evenodd;stroke:#E5E533;stroke-width:2px;stroke-linecap:butt;stroke-linejoin:miter;stroke-opacity:1\"/>\n",
       "<ellipse cx=\"69.9323\" cy=\"35.1924\" rx=\"4.25845\" ry=\"4.25845\" style=\"fill:#CCCCCC;fill-rule:evenodd;stroke:#CCCCCC;stroke-width:2px;stroke-linecap:butt;stroke-linejoin:miter;stroke-opacity:1\"/>\n",
       "<ellipse cx=\"65.268\" cy=\"71.7755\" rx=\"4.25845\" ry=\"4.25845\" style=\"fill:#CCCCCC;fill-rule:evenodd;stroke:#CCCCCC;stroke-width:2px;stroke-linecap:butt;stroke-linejoin:miter;stroke-opacity:1\"/>\n",
       "<ellipse cx=\"73.4964\" cy=\"91.4136\" rx=\"4.25845\" ry=\"4.25845\" style=\"fill:#9999E5;fill-rule:evenodd;stroke:#9999E5;stroke-width:2px;stroke-linecap:butt;stroke-linejoin:miter;stroke-opacity:1\"/>\n",
       "<ellipse cx=\"94.6177\" cy=\"94.1066\" rx=\"4.25845\" ry=\"4.25845\" style=\"fill:#CCCCCC;fill-rule:evenodd;stroke:#CCCCCC;stroke-width:2px;stroke-linecap:butt;stroke-linejoin:miter;stroke-opacity:1\"/>\n",
       "<ellipse cx=\"78.1608\" cy=\"54.8305\" rx=\"4.25845\" ry=\"4.25845\" style=\"fill:#CCCCCC;fill-rule:evenodd;stroke:#CCCCCC;stroke-width:2px;stroke-linecap:butt;stroke-linejoin:miter;stroke-opacity:1\"/>\n",
       "<ellipse cx=\"44.1467\" cy=\"69.0826\" rx=\"4.25845\" ry=\"4.25845\" style=\"fill:#E5E533;fill-rule:evenodd;stroke:#E5E533;stroke-width:2px;stroke-linecap:butt;stroke-linejoin:miter;stroke-opacity:1\"/>\n",
       "<ellipse cx=\"102.846\" cy=\"113.745\" rx=\"4.25845\" ry=\"4.25845\" style=\"fill:#CCCCCC;fill-rule:evenodd;stroke:#CCCCCC;stroke-width:2px;stroke-linecap:butt;stroke-linejoin:miter;stroke-opacity:1\"/>\n",
       "<ellipse cx=\"107.511\" cy=\"77.1615\" rx=\"4.25845\" ry=\"4.25845\" style=\"fill:#CCCCCC;fill-rule:evenodd;stroke:#CCCCCC;stroke-width:2px;stroke-linecap:butt;stroke-linejoin:miter;stroke-opacity:1\"/>\n",
       "<path d=\"M 123.967,116.438 134.16,103.041\" style=\"fill:none;fill-rule:evenodd;stroke:#E5E5E5;stroke-width:4px;stroke-linecap:butt;stroke-linejoin:miter;stroke-opacity:1\"/>\n",
       "<path d=\"M 123.967,116.438 130.709,132.527\" style=\"fill:none;fill-rule:evenodd;stroke:#E5E5E5;stroke-width:4px;stroke-linecap:butt;stroke-linejoin:miter;stroke-opacity:1\"/>\n",
       "<path d=\"M 123.967,116.438 102.846,113.745\" style=\"fill:none;fill-rule:evenodd;stroke:#000000;stroke-width:2px;stroke-linecap:butt;stroke-linejoin:miter;stroke-opacity:1\"/>\n",
       "<path d=\"M 135.373,95.9438 128.632,79.8544\" style=\"fill:none;fill-rule:evenodd;stroke:#E5E5E5;stroke-width:4px;stroke-linecap:butt;stroke-linejoin:miter;stroke-opacity:1\"/>\n",
       "<path d=\"M 128.632,79.8544 139.867,65.0874\" style=\"fill:none;fill-rule:evenodd;stroke:#E5E5E5;stroke-width:4px;stroke-linecap:butt;stroke-linejoin:miter;stroke-opacity:1\"/>\n",
       "<path d=\"M 128.632,79.8544 119.728,78.7192\" style=\"fill:none;fill-rule:evenodd;stroke:#000000;stroke-width:2px;stroke-linecap:butt;stroke-linejoin:miter;stroke-opacity:1\"/>\n",
       "<path d=\"M 119.728,78.7192 110.825,77.5841\" style=\"fill:none;fill-rule:evenodd;stroke:#FF0000;stroke-width:2px;stroke-linecap:butt;stroke-linejoin:miter;stroke-opacity:1\"/>\n",
       "<path d=\"M 11.7898,83.546 31.2539,86.0277\" style=\"fill:none;fill-rule:evenodd;stroke:#E5E5E5;stroke-width:4px;stroke-linecap:butt;stroke-linejoin:miter;stroke-opacity:1\"/>\n",
       "<path d=\"M 14.1708,88.1425 27.7957,89.8797\" style=\"fill:none;fill-rule:evenodd;stroke:#E5E5E5;stroke-width:4px;stroke-linecap:butt;stroke-linejoin:miter;stroke-opacity:1;stroke-dasharray:6,6\"/>\n",
       "<path d=\"M 31.2539,86.0277 37.9954,102.117\" style=\"fill:none;fill-rule:evenodd;stroke:#E5E5E5;stroke-width:4px;stroke-linecap:butt;stroke-linejoin:miter;stroke-opacity:1\"/>\n",
       "<path d=\"M 31.2539,86.0277 44.1467,69.0826\" style=\"fill:none;fill-rule:evenodd;stroke:#000000;stroke-width:2px;stroke-linecap:butt;stroke-linejoin:miter;stroke-opacity:1\"/>\n",
       "<path d=\"M 29.7988,80.9073 38.8237,69.0458\" style=\"fill:none;fill-rule:evenodd;stroke:#000000;stroke-width:2px;stroke-linecap:butt;stroke-linejoin:miter;stroke-opacity:1;stroke-dasharray:6,6\"/>\n",
       "<path d=\"M 35.9182,49.4445 16.4541,46.9629\" style=\"fill:none;fill-rule:evenodd;stroke:#E5E5E5;stroke-width:4px;stroke-linecap:butt;stroke-linejoin:miter;stroke-opacity:1\"/>\n",
       "<path d=\"M 33.5372,44.848 19.9123,43.1109\" style=\"fill:none;fill-rule:evenodd;stroke:#E5E5E5;stroke-width:4px;stroke-linecap:butt;stroke-linejoin:miter;stroke-opacity:1;stroke-dasharray:6,6\"/>\n",
       "<path d=\"M 35.9182,49.4445 47.1538,34.6775\" style=\"fill:none;fill-rule:evenodd;stroke:#E5E5E5;stroke-width:4px;stroke-linecap:butt;stroke-linejoin:miter;stroke-opacity:1\"/>\n",
       "<path d=\"M 35.9182,49.4445 44.1467,69.0826\" style=\"fill:none;fill-rule:evenodd;stroke:#000000;stroke-width:2px;stroke-linecap:butt;stroke-linejoin:miter;stroke-opacity:1\"/>\n",
       "<path d=\"M 41.0801,50.7445 46.84,64.4912\" style=\"fill:none;fill-rule:evenodd;stroke:#000000;stroke-width:2px;stroke-linecap:butt;stroke-linejoin:miter;stroke-opacity:1;stroke-dasharray:6,6\"/>\n",
       "<path d=\"M 50.4682,32.7107 69.9323,35.1924\" style=\"fill:none;fill-rule:evenodd;stroke:#E5E5E5;stroke-width:4px;stroke-linecap:butt;stroke-linejoin:miter;stroke-opacity:1\"/>\n",
       "<path d=\"M 69.9323,35.1924 69.0862,17.4731\" style=\"fill:none;fill-rule:evenodd;stroke:#E5E5E5;stroke-width:4px;stroke-linecap:butt;stroke-linejoin:miter;stroke-opacity:1\"/>\n",
       "<path d=\"M 69.9323,35.1924 89.0437,30.8736\" style=\"fill:none;fill-rule:evenodd;stroke:#E5E5E5;stroke-width:4px;stroke-linecap:butt;stroke-linejoin:miter;stroke-opacity:1\"/>\n",
       "<path d=\"M 69.9323,35.1924 78.1608,54.8305\" style=\"fill:none;fill-rule:evenodd;stroke:#000000;stroke-width:2px;stroke-linecap:butt;stroke-linejoin:miter;stroke-opacity:1\"/>\n",
       "<path d=\"M 65.268,71.7755 68.6387,79.8202\" style=\"fill:none;fill-rule:evenodd;stroke:#000000;stroke-width:2px;stroke-linecap:butt;stroke-linejoin:miter;stroke-opacity:1\"/>\n",
       "<path d=\"M 68.6387,79.8202 72.0095,87.8649\" style=\"fill:none;fill-rule:evenodd;stroke:#FF0000;stroke-width:2px;stroke-linecap:butt;stroke-linejoin:miter;stroke-opacity:1\"/>\n",
       "<path d=\"M 65.268,71.7755 78.1608,54.8305\" style=\"fill:none;fill-rule:evenodd;stroke:#000000;stroke-width:2px;stroke-linecap:butt;stroke-linejoin:miter;stroke-opacity:1\"/>\n",
       "<path d=\"M 65.268,71.7755 44.1467,69.0826\" style=\"fill:none;fill-rule:evenodd;stroke:#000000;stroke-width:2px;stroke-linecap:butt;stroke-linejoin:miter;stroke-opacity:1\"/>\n",
       "<path d=\"M 76.8108,91.8362 85.7143,92.9714\" style=\"fill:none;fill-rule:evenodd;stroke:#FF0000;stroke-width:2px;stroke-linecap:butt;stroke-linejoin:miter;stroke-opacity:1\"/>\n",
       "<path d=\"M 85.7143,92.9714 94.6177,94.1066\" style=\"fill:none;fill-rule:evenodd;stroke:#000000;stroke-width:2px;stroke-linecap:butt;stroke-linejoin:miter;stroke-opacity:1\"/>\n",
       "<path d=\"M 94.6177,94.1066 102.846,113.745\" style=\"fill:none;fill-rule:evenodd;stroke:#000000;stroke-width:2px;stroke-linecap:butt;stroke-linejoin:miter;stroke-opacity:1\"/>\n",
       "<path d=\"M 94.6177,94.1066 99.7141,87.4084\" style=\"fill:none;fill-rule:evenodd;stroke:#000000;stroke-width:2px;stroke-linecap:butt;stroke-linejoin:miter;stroke-opacity:1\"/>\n",
       "<path d=\"M 99.7141,87.4084 104.81,80.7102\" style=\"fill:none;fill-rule:evenodd;stroke:#FF0000;stroke-width:2px;stroke-linecap:butt;stroke-linejoin:miter;stroke-opacity:1\"/>\n",
       "<text style=\"font-size:7px;font-style:normal;font-weight:normal;fill-opacity:1;stroke:none;font-family:sans-serif;text-anchor:start;fill:#7F7F7F\" x=\"132.127\" y=\"103.041\"><tspan>*H</tspan></text>\n",
       "<text style=\"font-size:7px;font-style:normal;font-weight:normal;fill-opacity:1;stroke:none;font-family:sans-serif;text-anchor:start;fill:#7F7F7F\" x=\"139.867\" y=\"66.4581\"><tspan>*</tspan></text>\n",
       "<text style=\"font-size:7px;font-style:normal;font-weight:normal;fill-opacity:1;stroke:none;font-family:sans-serif;text-anchor:start;fill:#7F7F7F\" x=\"8.47538\" y=\"86.8834\"><tspan>*</tspan></text>\n",
       "<text style=\"font-size:7px;font-style:normal;font-weight:normal;fill-opacity:1;stroke:none;font-family:sans-serif;text-anchor:start;fill:#7F7F7F\" x=\"37.8251\" y=\"109.214\"><tspan>*</tspan></text>\n",
       "<text style=\"font-size:7px;font-style:normal;font-weight:normal;fill-opacity:1;stroke:none;font-family:sans-serif;text-anchor:start;fill:#7F7F7F\" x=\"13.1397\" y=\"50.3003\"><tspan>*</tspan></text>\n",
       "<text style=\"font-size:7px;font-style:normal;font-weight:normal;fill-opacity:1;stroke:none;font-family:sans-serif;text-anchor:start;fill:#7F7F7F\" x=\"47.1538\" y=\"36.0482\"><tspan>*</tspan></text>\n",
       "<text style=\"font-size:7px;font-style:normal;font-weight:normal;fill-opacity:1;stroke:none;font-family:sans-serif;text-anchor:start;fill:#7F7F7F\" x=\"67.2595\" y=\"17.4731\"><tspan>*</tspan></text>\n",
       "<text style=\"font-size:7px;font-style:normal;font-weight:normal;fill-opacity:1;stroke:none;font-family:sans-serif;text-anchor:start;fill:#7F7F7F\" x=\"89.0437\" y=\"34.0478\"><tspan>*</tspan></text>\n",
       "<text style=\"font-size:7px;font-style:normal;font-weight:normal;fill-opacity:1;stroke:none;font-family:sans-serif;text-anchor:start;fill:#7F7F7F\" x=\"130.539\" y=\"139.624\"><tspan>*</tspan></text>\n",
       "<text style=\"font-size:7px;font-style:normal;font-weight:normal;fill-opacity:1;stroke:none;font-family:sans-serif;text-anchor:start;fill:#FF0000\" x=\"70.182\" y=\"94.9623\"><tspan>O</tspan></text>\n",
       "<text style=\"font-size:7px;font-style:normal;font-weight:normal;fill-opacity:1;stroke:none;font-family:sans-serif;text-anchor:start;fill:#FF0000\" x=\"104.196\" y=\"80.7102\"><tspan>O</tspan></text>\n",
       "</svg>"
      ],
      "text/plain": [
       "<IPython.core.display.SVG object>"
      ]
     },
     "metadata": {},
     "output_type": "display_data"
    }
   ],
   "source": [
    "display(SVG(Draw.DrawMorganBit(supplier_test[163], 882, info_dicts[163])))"
   ]
  },
  {
   "cell_type": "code",
   "execution_count": 383,
   "metadata": {
    "scrolled": true
   },
   "outputs": [
    {
     "data": {
      "image/svg+xml": [
       "<svg baseProfile=\"full\" height=\"150px\" version=\"1.1\" width=\"150px\" xml:space=\"preserve\" xmlns=\"http://www.w3.org/2000/svg\" xmlns:rdkit=\"http://www.rdkit.org/xml\" xmlns:xlink=\"http://www.w3.org/1999/xlink\">\n",
       "<rect height=\"150\" style=\"opacity:1.0;fill:#FFFFFF;stroke:none\" width=\"150\" x=\"0\" y=\"0\"> </rect>\n",
       "<ellipse cx=\"28.2128\" cy=\"58.0105\" rx=\"4.46167\" ry=\"4.46167\" style=\"fill:#E5E533;fill-rule:evenodd;stroke:#E5E533;stroke-width:2px;stroke-linecap:butt;stroke-linejoin:miter;stroke-opacity:1\"/>\n",
       "<ellipse cx=\"129.694\" cy=\"94.6583\" rx=\"4.46167\" ry=\"4.46167\" style=\"fill:#E5E533;fill-rule:evenodd;stroke:#E5E533;stroke-width:2px;stroke-linecap:butt;stroke-linejoin:miter;stroke-opacity:1\"/>\n",
       "<ellipse cx=\"108.602\" cy=\"55.3417\" rx=\"4.46167\" ry=\"4.46167\" style=\"fill:#E5E533;fill-rule:evenodd;stroke:#E5E533;stroke-width:2px;stroke-linecap:butt;stroke-linejoin:miter;stroke-opacity:1\"/>\n",
       "<ellipse cx=\"7.85816\" cy=\"90.8536\" rx=\"4.46167\" ry=\"4.46167\" style=\"fill:#E5E533;fill-rule:evenodd;stroke:#E5E533;stroke-width:2px;stroke-linecap:butt;stroke-linejoin:miter;stroke-opacity:1\"/>\n",
       "<ellipse cx=\"46.4785\" cy=\"92.0597\" rx=\"4.46167\" ry=\"4.46167\" style=\"fill:#E5E533;fill-rule:evenodd;stroke:#E5E533;stroke-width:2px;stroke-linecap:butt;stroke-linejoin:miter;stroke-opacity:1\"/>\n",
       "<ellipse cx=\"65.4405\" cy=\"103.811\" rx=\"4.46167\" ry=\"4.46167\" style=\"fill:#9999E5;fill-rule:evenodd;stroke:#9999E5;stroke-width:2px;stroke-linecap:butt;stroke-linejoin:miter;stroke-opacity:1\"/>\n",
       "<ellipse cx=\"85.0988\" cy=\"93.2657\" rx=\"4.46167\" ry=\"4.46167\" style=\"fill:#CCCCCC;fill-rule:evenodd;stroke:#CCCCCC;stroke-width:2px;stroke-linecap:butt;stroke-linejoin:miter;stroke-opacity:1\"/>\n",
       "<ellipse cx=\"47.1748\" cy=\"69.7622\" rx=\"4.46167\" ry=\"4.46167\" style=\"fill:#E5E533;fill-rule:evenodd;stroke:#E5E533;stroke-width:2px;stroke-linecap:butt;stroke-linejoin:miter;stroke-opacity:1\"/>\n",
       "<ellipse cx=\"26.8202\" cy=\"102.605\" rx=\"4.46167\" ry=\"4.46167\" style=\"fill:#E5E533;fill-rule:evenodd;stroke:#E5E533;stroke-width:2px;stroke-linecap:butt;stroke-linejoin:miter;stroke-opacity:1\"/>\n",
       "<ellipse cx=\"107.396\" cy=\"93.962\" rx=\"4.46167\" ry=\"4.46167\" style=\"fill:#CCCCCC;fill-rule:evenodd;stroke:#CCCCCC;stroke-width:2px;stroke-linecap:butt;stroke-linejoin:miter;stroke-opacity:1\"/>\n",
       "<ellipse cx=\"96.8506\" cy=\"74.3037\" rx=\"4.46167\" ry=\"4.46167\" style=\"fill:#CCCCCC;fill-rule:evenodd;stroke:#CCCCCC;stroke-width:2px;stroke-linecap:butt;stroke-linejoin:miter;stroke-opacity:1\"/>\n",
       "<path d=\"M 10.2907,67.6247 28.2128,58.0105\" style=\"fill:none;fill-rule:evenodd;stroke:#E5E5E5;stroke-width:4px;stroke-linecap:butt;stroke-linejoin:miter;stroke-opacity:1\"/>\n",
       "<path d=\"M 15.0882,70.1143 27.6336,63.3843\" style=\"fill:none;fill-rule:evenodd;stroke:#E5E5E5;stroke-width:4px;stroke-linecap:butt;stroke-linejoin:miter;stroke-opacity:1;stroke-dasharray:6,6\"/>\n",
       "<path d=\"M 8.43836,72.2742 7.85816,90.8536\" style=\"fill:none;fill-rule:evenodd;stroke:#E5E5E5;stroke-width:4px;stroke-linecap:butt;stroke-linejoin:miter;stroke-opacity:1\"/>\n",
       "<path d=\"M 12.8108,75.2004 12.4047,88.206\" style=\"fill:none;fill-rule:evenodd;stroke:#E5E5E5;stroke-width:4px;stroke-linecap:butt;stroke-linejoin:miter;stroke-opacity:1;stroke-dasharray:6,6\"/>\n",
       "<path d=\"M 28.2128,58.0105 47.1748,69.7622\" style=\"fill:none;fill-rule:evenodd;stroke:#000000;stroke-width:2px;stroke-linecap:butt;stroke-linejoin:miter;stroke-opacity:1\"/>\n",
       "<path d=\"M 28.7067,63.5656 41.9802,71.7918\" style=\"fill:none;fill-rule:evenodd;stroke:#000000;stroke-width:2px;stroke-linecap:butt;stroke-linejoin:miter;stroke-opacity:1;stroke-dasharray:6,6\"/>\n",
       "<path d=\"M 129.694,94.6583 138.503,111.08\" style=\"fill:none;fill-rule:evenodd;stroke:#E5E5E5;stroke-width:4px;stroke-linecap:butt;stroke-linejoin:miter;stroke-opacity:1\"/>\n",
       "<path d=\"M 134.947,95.0124 141.113,106.508\" style=\"fill:none;fill-rule:evenodd;stroke:#E5E5E5;stroke-width:4px;stroke-linecap:butt;stroke-linejoin:miter;stroke-opacity:1;stroke-dasharray:6,6\"/>\n",
       "<path d=\"M 129.694,94.6583 139.709,78.4979\" style=\"fill:none;fill-rule:evenodd;stroke:#E5E5E5;stroke-width:4px;stroke-linecap:butt;stroke-linejoin:miter;stroke-opacity:1\"/>\n",
       "<path d=\"M 134.989,94.5846 141.999,83.2723\" style=\"fill:none;fill-rule:evenodd;stroke:#E5E5E5;stroke-width:4px;stroke-linecap:butt;stroke-linejoin:miter;stroke-opacity:1;stroke-dasharray:6,6\"/>\n",
       "<path d=\"M 129.694,94.6583 107.396,93.962\" style=\"fill:none;fill-rule:evenodd;stroke:#000000;stroke-width:2px;stroke-linecap:butt;stroke-linejoin:miter;stroke-opacity:1\"/>\n",
       "<path d=\"M 99.7929,38.92 108.602,55.3417\" style=\"fill:none;fill-rule:evenodd;stroke:#E5E5E5;stroke-width:4px;stroke-linecap:butt;stroke-linejoin:miter;stroke-opacity:1\"/>\n",
       "<path d=\"M 105.046,39.2741 111.213,50.7693\" style=\"fill:none;fill-rule:evenodd;stroke:#E5E5E5;stroke-width:4px;stroke-linecap:butt;stroke-linejoin:miter;stroke-opacity:1;stroke-dasharray:6,6\"/>\n",
       "<path d=\"M 108.602,55.3417 129.164,55.9838\" style=\"fill:none;fill-rule:evenodd;stroke:#E5E5E5;stroke-width:4px;stroke-linecap:butt;stroke-linejoin:miter;stroke-opacity:1\"/>\n",
       "<path d=\"M 111.826,50.9785 126.219,51.428\" style=\"fill:none;fill-rule:evenodd;stroke:#E5E5E5;stroke-width:4px;stroke-linecap:butt;stroke-linejoin:miter;stroke-opacity:1;stroke-dasharray:6,6\"/>\n",
       "<path d=\"M 108.602,55.3417 96.8506,74.3037\" style=\"fill:none;fill-rule:evenodd;stroke:#000000;stroke-width:2px;stroke-linecap:butt;stroke-linejoin:miter;stroke-opacity:1\"/>\n",
       "<path d=\"M 7.85816,90.8536 26.8202,102.605\" style=\"fill:none;fill-rule:evenodd;stroke:#000000;stroke-width:2px;stroke-linecap:butt;stroke-linejoin:miter;stroke-opacity:1\"/>\n",
       "<path d=\"M 13.0528,88.824 26.3262,97.0502\" style=\"fill:none;fill-rule:evenodd;stroke:#000000;stroke-width:2px;stroke-linecap:butt;stroke-linejoin:miter;stroke-opacity:1;stroke-dasharray:6,6\"/>\n",
       "<path d=\"M 46.4785,92.0597 65.4405,103.811\" style=\"fill:none;fill-rule:evenodd;stroke:#000000;stroke-width:2px;stroke-linecap:butt;stroke-linejoin:miter;stroke-opacity:1\"/>\n",
       "<path d=\"M 46.4785,92.0597 47.1748,69.7622\" style=\"fill:none;fill-rule:evenodd;stroke:#000000;stroke-width:2px;stroke-linecap:butt;stroke-linejoin:miter;stroke-opacity:1\"/>\n",
       "<path d=\"M 42.1235,88.5758 42.6109,72.9676\" style=\"fill:none;fill-rule:evenodd;stroke:#000000;stroke-width:2px;stroke-linecap:butt;stroke-linejoin:miter;stroke-opacity:1;stroke-dasharray:6,6\"/>\n",
       "<path d=\"M 46.4785,92.0597 26.8202,102.605\" style=\"fill:none;fill-rule:evenodd;stroke:#000000;stroke-width:2px;stroke-linecap:butt;stroke-linejoin:miter;stroke-opacity:1\"/>\n",
       "<path d=\"M 41.4206,89.7099 27.6598,97.0919\" style=\"fill:none;fill-rule:evenodd;stroke:#000000;stroke-width:2px;stroke-linecap:butt;stroke-linejoin:miter;stroke-opacity:1;stroke-dasharray:6,6\"/>\n",
       "<path d=\"M 65.4405,103.811 73.6584,99.403\" style=\"fill:none;fill-rule:evenodd;stroke:#000000;stroke-width:2px;stroke-linecap:butt;stroke-linejoin:miter;stroke-opacity:1\"/>\n",
       "<path d=\"M 73.6584,99.403 81.8762,94.9945\" style=\"fill:none;fill-rule:evenodd;stroke:#0000FF;stroke-width:2px;stroke-linecap:butt;stroke-linejoin:miter;stroke-opacity:1\"/>\n",
       "<path d=\"M 88.3215,93.3663 97.8589,93.6642\" style=\"fill:none;fill-rule:evenodd;stroke:#0000FF;stroke-width:2px;stroke-linecap:butt;stroke-linejoin:miter;stroke-opacity:1\"/>\n",
       "<path d=\"M 97.8589,93.6642 107.396,93.962\" style=\"fill:none;fill-rule:evenodd;stroke:#000000;stroke-width:2px;stroke-linecap:butt;stroke-linejoin:miter;stroke-opacity:1\"/>\n",
       "<path d=\"M 87.4031,89.5477 92.1269,81.9257\" style=\"fill:none;fill-rule:evenodd;stroke:#0000FF;stroke-width:2px;stroke-linecap:butt;stroke-linejoin:miter;stroke-opacity:1\"/>\n",
       "<path d=\"M 92.1269,81.9257 96.8506,74.3037\" style=\"fill:none;fill-rule:evenodd;stroke:#000000;stroke-width:2px;stroke-linecap:butt;stroke-linejoin:miter;stroke-opacity:1\"/>\n",
       "<path d=\"M 107.396,93.962 96.8506,74.3037\" style=\"fill:none;fill-rule:evenodd;stroke:#000000;stroke-width:2px;stroke-linecap:butt;stroke-linejoin:miter;stroke-opacity:1\"/>\n",
       "<text style=\"font-size:7px;font-style:normal;font-weight:normal;fill-opacity:1;stroke:none;font-family:sans-serif;text-anchor:start;fill:#7F7F7F\" x=\"6.81818\" y=\"72.2742\"><tspan>*</tspan></text>\n",
       "<text style=\"font-size:7px;font-style:normal;font-weight:normal;fill-opacity:1;stroke:none;font-family:sans-serif;text-anchor:start;fill:#7F7F7F\" x=\"138.503\" y=\"118.035\"><tspan>*</tspan></text>\n",
       "<text style=\"font-size:7px;font-style:normal;font-weight:normal;fill-opacity:1;stroke:none;font-family:sans-serif;text-anchor:start;fill:#7F7F7F\" x=\"96.3204\" y=\"39.4014\"><tspan>*</tspan></text>\n",
       "<text style=\"font-size:7px;font-style:normal;font-weight:normal;fill-opacity:1;stroke:none;font-family:sans-serif;text-anchor:start;fill:#7F7F7F\" x=\"139.709\" y=\"79.4144\"><tspan>*</tspan></text>\n",
       "<text style=\"font-size:7px;font-style:normal;font-weight:normal;fill-opacity:1;stroke:none;font-family:sans-serif;text-anchor:start;fill:#7F7F7F\" x=\"129.164\" y=\"59.756\"><tspan>*</tspan></text>\n",
       "<text style=\"font-size:7px;font-style:normal;font-weight:normal;fill-opacity:1;stroke:none;font-family:sans-serif;text-anchor:start;fill:#0000FF\" x=\"81.8762\" y=\"96.9838\"><tspan>N</tspan></text>\n",
       "</svg>"
      ],
      "text/plain": [
       "<IPython.core.display.SVG object>"
      ]
     },
     "metadata": {},
     "output_type": "display_data"
    }
   ],
   "source": [
    "display(SVG(Draw.DrawMorganBit(supplier_test[184], 882, info_dicts[184])))"
   ]
  },
  {
   "cell_type": "markdown",
   "metadata": {},
   "source": [
    "One more example"
   ]
  },
  {
   "cell_type": "code",
   "execution_count": 384,
   "metadata": {
    "scrolled": true
   },
   "outputs": [
    {
     "data": {
      "image/svg+xml": [
       "<svg baseProfile=\"full\" height=\"150px\" version=\"1.1\" width=\"150px\" xml:space=\"preserve\" xmlns=\"http://www.w3.org/2000/svg\" xmlns:rdkit=\"http://www.rdkit.org/xml\" xmlns:xlink=\"http://www.w3.org/1999/xlink\">\n",
       "<rect height=\"150\" style=\"opacity:1.0;fill:#FFFFFF;stroke:none\" width=\"150\" x=\"0\" y=\"0\"> </rect>\n",
       "<ellipse cx=\"92.289\" cy=\"70.2903\" rx=\"14.8952\" ry=\"14.8952\" style=\"fill:#9999E5;fill-rule:evenodd;stroke:#9999E5;stroke-width:2px;stroke-linecap:butt;stroke-linejoin:miter;stroke-opacity:1\"/>\n",
       "<path d=\"M 92.289,70.2903 21.9137,61.3174\" style=\"fill:none;fill-rule:evenodd;stroke:#E5E5E5;stroke-width:4px;stroke-linecap:butt;stroke-linejoin:miter;stroke-opacity:1\"/>\n",
       "<path d=\"M 92.289,70.2903 133.883,15.6232\" style=\"fill:none;fill-rule:evenodd;stroke:#E5E5E5;stroke-width:4px;stroke-linecap:butt;stroke-linejoin:miter;stroke-opacity:1\"/>\n",
       "<path d=\"M 92.289,70.2903 117.928,131.48\" style=\"fill:none;fill-rule:evenodd;stroke:#E5E5E5;stroke-width:4px;stroke-linecap:butt;stroke-linejoin:miter;stroke-opacity:1\"/>\n",
       "<text style=\"font-size:15px;font-style:normal;font-weight:normal;fill-opacity:1;stroke:none;font-family:sans-serif;text-anchor:start;fill:#7F7F7F\" x=\"14.9089\" y=\"68.3709\"><tspan>*</tspan></text>\n",
       "<text style=\"font-size:15px;font-style:normal;font-weight:normal;fill-opacity:1;stroke:none;font-family:sans-serif;text-anchor:start;fill:#7F7F7F\" x=\"133.883\" y=\"18.52\"><tspan>*</tspan></text>\n",
       "<text style=\"font-size:15px;font-style:normal;font-weight:normal;fill-opacity:1;stroke:none;font-family:sans-serif;text-anchor:start;fill:#7F7F7F\" x=\"117.568\" y=\"146.48\"><tspan>*</tspan></text>\n",
       "</svg>"
      ],
      "text/plain": [
       "<IPython.core.display.SVG object>"
      ]
     },
     "metadata": {},
     "output_type": "display_data"
    }
   ],
   "source": [
    "display(SVG(Draw.DrawMorganBit(supplier_test[163], 1019, info_dicts[163])))"
   ]
  },
  {
   "cell_type": "code",
   "execution_count": 385,
   "metadata": {
    "scrolled": false
   },
   "outputs": [
    {
     "data": {
      "image/svg+xml": [
       "<svg baseProfile=\"full\" height=\"150px\" version=\"1.1\" width=\"150px\" xml:space=\"preserve\" xmlns=\"http://www.w3.org/2000/svg\" xmlns:rdkit=\"http://www.rdkit.org/xml\" xmlns:xlink=\"http://www.w3.org/1999/xlink\">\n",
       "<rect height=\"150\" style=\"opacity:1.0;fill:#FFFFFF;stroke:none\" width=\"150\" x=\"0\" y=\"0\"> </rect>\n",
       "<ellipse cx=\"75\" cy=\"100.085\" rx=\"11.8046\" ry=\"11.8046\" style=\"fill:#9999E5;fill-rule:evenodd;stroke:#9999E5;stroke-width:2px;stroke-linecap:butt;stroke-linejoin:miter;stroke-opacity:1\"/>\n",
       "<path d=\"M 51.6922,56.6364 75,100.085\" style=\"fill:none;fill-rule:evenodd;stroke:#E5E5E5;stroke-width:4px;stroke-linecap:butt;stroke-linejoin:miter;stroke-opacity:1\"/>\n",
       "<path d=\"M 75,100.085 20.5996,98.3858\" style=\"fill:none;fill-rule:evenodd;stroke:#E5E5E5;stroke-width:4px;stroke-linecap:butt;stroke-linejoin:miter;stroke-opacity:1\"/>\n",
       "<path d=\"M 75,100.085 129.4,101.783\" style=\"fill:none;fill-rule:evenodd;stroke:#E5E5E5;stroke-width:4px;stroke-linecap:butt;stroke-linejoin:miter;stroke-opacity:1\"/>\n",
       "<text style=\"font-size:19px;font-style:normal;font-weight:normal;fill-opacity:1;stroke:none;font-family:sans-serif;text-anchor:start;fill:#7F7F7F\" x=\"42.5045\" y=\"57.9102\"><tspan>*</tspan></text>\n",
       "<text style=\"font-size:19px;font-style:normal;font-weight:normal;fill-opacity:1;stroke:none;font-family:sans-serif;text-anchor:start;fill:#7F7F7F\" x=\"11.412\" y=\"108.08\"><tspan>*</tspan></text>\n",
       "<text style=\"font-size:19px;font-style:normal;font-weight:normal;fill-opacity:1;stroke:none;font-family:sans-serif;text-anchor:start;fill:#7F7F7F\" x=\"129.4\" y=\"111.764\"><tspan>*</tspan></text>\n",
       "</svg>"
      ],
      "text/plain": [
       "<IPython.core.display.SVG object>"
      ]
     },
     "metadata": {},
     "output_type": "display_data"
    }
   ],
   "source": [
    "display(SVG(Draw.DrawMorganBit(supplier_test[184], 1019, info_dicts[184])))"
   ]
  },
  {
   "cell_type": "code",
   "execution_count": 386,
   "metadata": {
    "scrolled": true
   },
   "outputs": [
    {
     "data": {
      "image/svg+xml": [
       "<svg baseProfile=\"full\" height=\"150px\" version=\"1.1\" width=\"150px\" xml:space=\"preserve\" xmlns=\"http://www.w3.org/2000/svg\" xmlns:rdkit=\"http://www.rdkit.org/xml\" xmlns:xlink=\"http://www.w3.org/1999/xlink\">\n",
       "<rect height=\"150\" style=\"opacity:1.0;fill:#FFFFFF;stroke:none\" width=\"150\" x=\"0\" y=\"0\"> </rect>\n",
       "<ellipse cx=\"92.289\" cy=\"70.2903\" rx=\"14.8952\" ry=\"14.8952\" style=\"fill:#9999E5;fill-rule:evenodd;stroke:#9999E5;stroke-width:2px;stroke-linecap:butt;stroke-linejoin:miter;stroke-opacity:1\"/>\n",
       "<path d=\"M 117.928,131.48 92.289,70.2903\" style=\"fill:none;fill-rule:evenodd;stroke:#E5E5E5;stroke-width:4px;stroke-linecap:butt;stroke-linejoin:miter;stroke-opacity:1\"/>\n",
       "<path d=\"M 92.289,70.2903 21.9137,61.3174\" style=\"fill:none;fill-rule:evenodd;stroke:#E5E5E5;stroke-width:4px;stroke-linecap:butt;stroke-linejoin:miter;stroke-opacity:1\"/>\n",
       "<path d=\"M 79.8488,83.7199 30.5861,77.4389\" style=\"fill:none;fill-rule:evenodd;stroke:#E5E5E5;stroke-width:4px;stroke-linecap:butt;stroke-linejoin:miter;stroke-opacity:1;stroke-dasharray:6,6\"/>\n",
       "<path d=\"M 92.289,70.2903 133.883,15.6232\" style=\"fill:none;fill-rule:evenodd;stroke:#E5E5E5;stroke-width:4px;stroke-linecap:butt;stroke-linejoin:miter;stroke-opacity:1\"/>\n",
       "<path d=\"M 110.382,71.1095 139.498,32.8426\" style=\"fill:none;fill-rule:evenodd;stroke:#E5E5E5;stroke-width:4px;stroke-linecap:butt;stroke-linejoin:miter;stroke-opacity:1;stroke-dasharray:6,6\"/>\n",
       "<text style=\"font-size:14px;font-style:normal;font-weight:normal;fill-opacity:1;stroke:none;font-family:sans-serif;text-anchor:start;fill:#7F7F7F\" x=\"117.568\" y=\"146.48\"><tspan>*</tspan></text>\n",
       "<text style=\"font-size:14px;font-style:normal;font-weight:normal;fill-opacity:1;stroke:none;font-family:sans-serif;text-anchor:start;fill:#7F7F7F\" x=\"14.9089\" y=\"68.3709\"><tspan>*</tspan></text>\n",
       "<text style=\"font-size:14px;font-style:normal;font-weight:normal;fill-opacity:1;stroke:none;font-family:sans-serif;text-anchor:start;fill:#7F7F7F\" x=\"133.883\" y=\"18.52\"><tspan>*</tspan></text>\n",
       "</svg>"
      ],
      "text/plain": [
       "<IPython.core.display.SVG object>"
      ]
     },
     "metadata": {},
     "output_type": "display_data"
    }
   ],
   "source": [
    "display(SVG(Draw.DrawMorganBit(supplier_test[163], 1380, info_dicts[163])))"
   ]
  },
  {
   "cell_type": "code",
   "execution_count": 387,
   "metadata": {
    "scrolled": true
   },
   "outputs": [
    {
     "data": {
      "image/svg+xml": [
       "<svg baseProfile=\"full\" height=\"150px\" version=\"1.1\" width=\"150px\" xml:space=\"preserve\" xmlns=\"http://www.w3.org/2000/svg\" xmlns:rdkit=\"http://www.rdkit.org/xml\" xmlns:xlink=\"http://www.w3.org/1999/xlink\">\n",
       "<rect height=\"150\" style=\"opacity:1.0;fill:#FFFFFF;stroke:none\" width=\"150\" x=\"0\" y=\"0\"> </rect>\n",
       "<ellipse cx=\"73.9581\" cy=\"59.2199\" rx=\"13.3524\" ry=\"13.3524\" style=\"fill:#9999E5;fill-rule:evenodd;stroke:#9999E5;stroke-width:2px;stroke-linecap:butt;stroke-linejoin:miter;stroke-opacity:1\"/>\n",
       "<path d=\"M 20.7129,26.2211 73.9581,59.2199\" style=\"fill:none;fill-rule:evenodd;stroke:#E5E5E5;stroke-width:4px;stroke-linecap:butt;stroke-linejoin:miter;stroke-opacity:1\"/>\n",
       "<path d=\"M 73.9581,59.2199 129.287,29.5387\" style=\"fill:none;fill-rule:evenodd;stroke:#E5E5E5;stroke-width:4px;stroke-linecap:butt;stroke-linejoin:miter;stroke-opacity:1\"/>\n",
       "<path d=\"M 75.9454,43.0015 114.676,22.2246\" style=\"fill:none;fill-rule:evenodd;stroke:#E5E5E5;stroke-width:4px;stroke-linecap:butt;stroke-linejoin:miter;stroke-opacity:1;stroke-dasharray:6,6\"/>\n",
       "<path d=\"M 73.9581,59.2199 72.1085,118.449\" style=\"fill:none;fill-rule:evenodd;stroke:#E5E5E5;stroke-width:4px;stroke-linecap:butt;stroke-linejoin:miter;stroke-opacity:1\"/>\n",
       "<path d=\"M 60.3347,67.6876 59.04,109.148\" style=\"fill:none;fill-rule:evenodd;stroke:#E5E5E5;stroke-width:4px;stroke-linecap:butt;stroke-linejoin:miter;stroke-opacity:1;stroke-dasharray:6,6\"/>\n",
       "<text style=\"font-size:15px;font-style:normal;font-weight:normal;fill-opacity:1;stroke:none;font-family:sans-serif;text-anchor:start;fill:#7F7F7F\" x=\"13.7081\" y=\"31.5505\"><tspan>*</tspan></text>\n",
       "<text style=\"font-size:15px;font-style:normal;font-weight:normal;fill-opacity:1;stroke:none;font-family:sans-serif;text-anchor:start;fill:#7F7F7F\" x=\"129.287\" y=\"35.1598\"><tspan>*</tspan></text>\n",
       "<text style=\"font-size:15px;font-style:normal;font-weight:normal;fill-opacity:1;stroke:none;font-family:sans-serif;text-anchor:start;fill:#7F7F7F\" x=\"68.3718\" y=\"133.449\"><tspan>*</tspan></text>\n",
       "</svg>"
      ],
      "text/plain": [
       "<IPython.core.display.SVG object>"
      ]
     },
     "metadata": {},
     "output_type": "display_data"
    }
   ],
   "source": [
    "display(SVG(Draw.DrawMorganBit(supplier_test[184], 1380, info_dicts[184])))"
   ]
  },
  {
   "cell_type": "markdown",
   "metadata": {},
   "source": [
    "Here we can see that the all bits in one column refer to the same fingerprint, so in order to find the most common figerprint, we just have to find the column with the highest $1$s."
   ]
  },
  {
   "cell_type": "code",
   "execution_count": 409,
   "metadata": {},
   "outputs": [
    {
     "data": {
      "text/plain": [
       "1380"
      ]
     },
     "execution_count": 409,
     "metadata": {},
     "output_type": "execute_result"
    }
   ],
   "source": [
    "np.argmax(np.sum(X_test, axis=0))"
   ]
  },
  {
   "cell_type": "code",
   "execution_count": 415,
   "metadata": {},
   "outputs": [
    {
     "data": {
      "text/plain": [
       "array([1, 1, 1, ..., 1, 1, 0])"
      ]
     },
     "execution_count": 415,
     "metadata": {},
     "output_type": "execute_result"
    }
   ],
   "source": [
    "column_with_high_fps = X_test[:, 1380]\n",
    "column_with_high_fps"
   ]
  },
  {
   "cell_type": "markdown",
   "metadata": {},
   "source": [
    "And $1380$th column is the most frequent fingerprint"
   ]
  },
  {
   "cell_type": "code",
   "execution_count": 416,
   "metadata": {},
   "outputs": [
    {
     "data": {
      "text/plain": [
       "2542"
      ]
     },
     "execution_count": 416,
     "metadata": {},
     "output_type": "execute_result"
    }
   ],
   "source": [
    "np.count_nonzero(column_with_high_fps)"
   ]
  },
  {
   "cell_type": "markdown",
   "metadata": {},
   "source": [
    "This fingerprint is present in $2542$ molecules of the entire dataset. To make a quick sanity chekc let's find out whether there are other columns that have as many ones."
   ]
  },
  {
   "cell_type": "code",
   "execution_count": 423,
   "metadata": {},
   "outputs": [
    {
     "data": {
      "text/plain": [
       "array([  57,   26,   50,   23,   32,   27,   34,   32,   35,  216,   54,\n",
       "         66,   24,   40,   31,   43,   19,   85,   22,   36,   39,   53,\n",
       "         57,   50,   29,   25,   35,   42,   24,   99,   27,   33,   39,\n",
       "         64,   55,   27,   53,   20,   85,  109,   24,   41,   26,   71,\n",
       "         43,   33,   25,   38,   30,   53,  213,   11,   51,   48,   29,\n",
       "        145,   23,   62,   26,   30,   34,   26,   18,   76,   37,   12,\n",
       "         33,   29,   22,   87,   29,   81,  205,   30,   22,   71,   35,\n",
       "         45,   30,   83,   45,  392,   46,  119,   14,  453,   40,   71,\n",
       "        285,   35,   51,   43,   30,   41,   22,   26,   24,   19, 2013,\n",
       "         24])"
      ]
     },
     "execution_count": 423,
     "metadata": {},
     "output_type": "execute_result"
    }
   ],
   "source": [
    "import random\n",
    "\n",
    "myCounts = []\n",
    "for i in range(100):\n",
    "    random_index = random.randint(0, 2048)\n",
    "    myCounts.append(np.count_nonzero(X_test[:, random_index]))\n",
    "np.array(myCounts)"
   ]
  },
  {
   "cell_type": "markdown",
   "metadata": {},
   "source": [
    "So it looks like, we've successfully got the column with highest number of ones.\n",
    "\n",
    "While thinking about this issue it occurred to me that it's doesn't make any difference what column has the highest fingerprints because that's not what we're looking. What we want to to construct is a baseline that has the most frequent number in the column."
   ]
  },
  {
   "cell_type": "code",
   "execution_count": null,
   "metadata": {},
   "outputs": [],
   "source": [
    "a = np.array([1,2,3,1,2,1,1,1,3,2,2,1])\n",
    "counts = np.bincount(a)\n",
    "print(np.argmax(counts))"
   ]
  },
  {
   "cell_type": "markdown",
   "metadata": {},
   "source": [
    "## Visualizing the Attribution\n",
    "\n",
    "apparently what needs to be done here is to replace the `DataStructs.TanimotoSimilarity` with the my own attribution score that I get, in order to visualize the attribution correctly. However, I still don't know what type of function that is.\n",
    "\n",
    "Additionally, I should provide the zero-vector for the reference fingerprints.\n",
    "\n",
    "In the following I'd like to demonstrate the functionality of similarity. So I'm going to draw one molecule and then another one, and then plot the similarity between the two. These are two random molecules that don't belong to the dataset I have. It's just for demonstration purposes."
   ]
  },
  {
   "cell_type": "code",
   "execution_count": 267,
   "metadata": {},
   "outputs": [
    {
     "data": {
      "image/png": "[encoded data removed]",
      "text/plain": [
       "<PIL.Image.Image image mode=RGBA size=400x400 at 0x173C79390>"
      ]
     },
     "execution_count": 267,
     "metadata": {},
     "output_type": "execute_result"
    }
   ],
   "source": [
    "Draw.MolToImage(mol, size=(400, 400))"
   ]
  },
  {
   "cell_type": "markdown",
   "metadata": {},
   "source": [
    "Pay attention that the following cell overwrites `refmol` which isn't desired, because I always use the name `refmol` for the target molecule."
   ]
  },
  {
   "cell_type": "code",
   "execution_count": 270,
   "metadata": {},
   "outputs": [
    {
     "data": {
      "image/png": "[encoded data removed]",
      "text/plain": [
       "<PIL.Image.Image image mode=RGBA size=400x400 at 0x173C78E10>"
      ]
     },
     "execution_count": 270,
     "metadata": {},
     "output_type": "execute_result"
    }
   ],
   "source": [
    "refmol = Chem.MolFromSmiles('CCCN(CCCCN1CCN(c2ccccc2OC)CC1)Cc1ccc2ccccc2c1')\n",
    "Draw.MolToImage(refmol, size=(400, 400))"
   ]
  },
  {
   "cell_type": "code",
   "execution_count": 271,
   "metadata": {},
   "outputs": [
    {
     "data": {
      "image/png": "[encoded data removed]",
      "text/plain": [
       "<Figure size 180x180 with 1 Axes>"
      ]
     },
     "metadata": {
      "needs_background": "light"
     },
     "output_type": "display_data"
    }
   ],
   "source": [
    "from rdkit import Chem\n",
    "from rdkit.Chem import Draw\n",
    "from rdkit.Chem.Draw import SimilarityMaps\n",
    "from rdkit import DataStructs\n",
    "\n",
    "mol = Chem.MolFromSmiles('COc1cccc2cc(C(=O)NCCCCN3CCN(c4cccc5nccnc54)CC3)oc21', )\n",
    "refmol = Chem.MolFromSmiles('CCCN(CCCCN1CCN(c2ccccc2OC)CC1)Cc1ccc2ccccc2c1')\n",
    "\n",
    "# fig, maxweight = SimilarityMaps.GetSimilarityMapForFingerprint(refmol, mol, lambda m, idx: SimilarityMaps.GetMorganFingerprint(m, atomId=idx, radius=3, fpType='count', nBits=2048),\n",
    "#                                                                metric=DataStructs.TanimotoSimilarity)\n",
    "fig, maxweight = SimilarityMaps.GetSimilarityMapForFingerprint(refmol, mol, lambda m, idx: SimilarityMaps.GetMorganFingerprint(m, atomId=idx, radius=3, fpType='count', nBits=2048),\n",
    "                                                               metric=DataStructs.TanimotoSimilarity)"
   ]
  },
  {
   "cell_type": "markdown",
   "metadata": {},
   "source": [
    "I just noticed one tiny problem while I plotting, which is that the second argument in the previous function should be the reference molecule.\n",
    "\n",
    "No we'll try to do the same for our first molecule and its fingerprints. So let's view the info dictionary for the first molecule in the test set."
   ]
  },
  {
   "cell_type": "code",
   "execution_count": 197,
   "metadata": {
    "scrolled": false
   },
   "outputs": [
    {
     "data": {
      "text/plain": [
       "{290: ((29, 3), (18, 3)),\n",
       " 314: ((0, 1), (9, 1), (20, 1), (28, 1), (38, 1), (46, 1)),\n",
       " 331: ((11, 3), (36, 3)),\n",
       " 504: ((1, 3), (37, 3)),\n",
       " 525: ((8, 1), (19, 1), (27, 1), (37, 1), (45, 1), (1, 1)),\n",
       " 650: ((0, 0), (9, 0), (20, 0), (28, 0), (38, 0), (46, 0)),\n",
       " 747: ((14, 3), (33, 3)),\n",
       " 764: ((16, 2), (31, 2)),\n",
       " 776: ((15, 2), (32, 2)),\n",
       " 826: ((10, 3), (47, 3)),\n",
       " 909: ((6, 3), (3, 3), (2, 3), (22, 3), (25, 3), (40, 3), (43, 3), (39, 3)),\n",
       " 917: ((8, 2), (19, 2), (27, 2), (45, 2)),\n",
       " 1013: ((7, 3), (21, 3), (26, 3), (44, 3)),\n",
       " 1067: ((13, 3), (34, 3)),\n",
       " 1088: ((4, 1), (5, 1), (23, 1), (24, 1), (41, 1), (42, 1)),\n",
       " 1099: ((49, 3), (48, 3)),\n",
       " 1107: ((19, 3), (27, 3)),\n",
       " 1114: ((16, 0), (31, 0)),\n",
       " 1191: ((17, 3), (30, 3)),\n",
       " 1199: ((4, 2), (5, 2), (23, 2), (24, 2), (41, 2), (42, 2), (10, 2), (47, 2)),\n",
       " 1230: ((8, 3), (45, 3)),\n",
       " 1276: ((49, 2), (48, 2)),\n",
       " 1308: ((11, 2), (36, 2)),\n",
       " 1314: ((18, 2), (29, 2)),\n",
       " 1357: ((33, 1),\n",
       "  (11, 1),\n",
       "  (14, 1),\n",
       "  (2, 1),\n",
       "  (7, 1),\n",
       "  (21, 1),\n",
       "  (26, 1),\n",
       "  (36, 1),\n",
       "  (39, 1),\n",
       "  (44, 1)),\n",
       " 1380: ((1, 0),\n",
       "  (2, 0),\n",
       "  (7, 0),\n",
       "  (8, 0),\n",
       "  (10, 0),\n",
       "  (11, 0),\n",
       "  (14, 0),\n",
       "  (15, 0),\n",
       "  (17, 0),\n",
       "  (18, 0),\n",
       "  (19, 0),\n",
       "  (21, 0),\n",
       "  (26, 0),\n",
       "  (27, 0),\n",
       "  (29, 0),\n",
       "  (30, 0),\n",
       "  (32, 0),\n",
       "  (33, 0),\n",
       "  (36, 0),\n",
       "  (37, 0),\n",
       "  (39, 0),\n",
       "  (44, 0),\n",
       "  (45, 0),\n",
       "  (47, 0),\n",
       "  (48, 0),\n",
       "  (49, 0)),\n",
       " 1431: ((17, 2), (30, 2)),\n",
       " 1491: ((12, 3), (35, 3)),\n",
       " 1530: ((15, 1), (17, 1), (30, 1), (32, 1)),\n",
       " 1569: ((14, 2), (33, 2)),\n",
       " 1573: ((3, 2), (6, 2), (22, 2), (25, 2), (40, 2), (43, 2)),\n",
       " 1643: ((15, 3), (32, 3)),\n",
       " 1689: ((7, 2), (2, 2), (21, 2), (26, 2), (39, 2), (44, 2)),\n",
       " 1733: ((34, 2), (12, 2), (13, 2), (35, 2)),\n",
       " 1745: ((16, 1), (31, 1)),\n",
       " 1750: ((3, 1),\n",
       "  (6, 1),\n",
       "  (12, 1),\n",
       "  (13, 1),\n",
       "  (22, 1),\n",
       "  (25, 1),\n",
       "  (34, 1),\n",
       "  (35, 1),\n",
       "  (40, 1),\n",
       "  (43, 1)),\n",
       " 1846: ((1, 2), (37, 2)),\n",
       " 1873: ((3, 0),\n",
       "  (4, 0),\n",
       "  (5, 0),\n",
       "  (6, 0),\n",
       "  (12, 0),\n",
       "  (13, 0),\n",
       "  (22, 0),\n",
       "  (23, 0),\n",
       "  (24, 0),\n",
       "  (25, 0),\n",
       "  (34, 0),\n",
       "  (35, 0),\n",
       "  (40, 0),\n",
       "  (41, 0),\n",
       "  (42, 0),\n",
       "  (43, 0)),\n",
       " 1925: ((16, 3), (31, 3)),\n",
       " 1984: ((10, 1), (49, 1), (18, 1), (29, 1), (48, 1), (47, 1)),\n",
       " 2013: ((4, 3), (5, 3), (23, 3), (24, 3), (41, 3), (42, 3))}"
      ]
     },
     "execution_count": 197,
     "metadata": {},
     "output_type": "execute_result"
    }
   ],
   "source": [
    "info_dicts[0]"
   ]
  },
  {
   "cell_type": "markdown",
   "metadata": {},
   "source": [
    "Focusing on bit $290$<br>\n",
    "\n",
    "```\n",
    "290: ((29, 3), (18, 3))\n",
    "```\n",
    "\n",
    "that was set twice. Once by $29$ with radius $3$, and once atom $18$ and radius $3$\n",
    "\n",
    "Here I reconstruct the fingerprint by converting it to type `<class 'rdkit.Chem.rdchem.Mol'>`."
   ]
  },
  {
   "cell_type": "code",
   "execution_count": 282,
   "metadata": {
    "scrolled": true
   },
   "outputs": [],
   "source": [
    "from rdkit.Chem import AllChem\n",
    "from matplotlib import pyplot as plt\n",
    "from rdkit.Chem import Draw\n",
    "\n",
    "# 1st fingerprint of 1st molecule\n",
    "refmol = supplier_test[0]\n",
    "env = Chem.FindAtomEnvironmentOfRadiusN(refmol, 3, 29)\n",
    "amap={}\n",
    "fp = Chem.PathToSubmol(refmol, env, atomMap=amap)"
   ]
  },
  {
   "cell_type": "code",
   "execution_count": 281,
   "metadata": {},
   "outputs": [],
   "source": [
    "# 1st fingerprint of 1st molecule by different setting\n",
    "env2 = Chem.FindAtomEnvironmentOfRadiusN(refmol, 3, 18)\n",
    "amap2={}\n",
    "fp2 = Chem.PathToSubmol(refmol, env, atomMap=amap)"
   ]
  },
  {
   "cell_type": "markdown",
   "metadata": {},
   "source": [
    "We plot the original molecule "
   ]
  },
  {
   "cell_type": "code",
   "execution_count": 235,
   "metadata": {},
   "outputs": [
    {
     "data": {
      "image/png": "[encoded data removed]",
      "text/plain": [
       "<PIL.Image.Image image mode=RGBA size=400x400 at 0x119F2FE48>"
      ]
     },
     "execution_count": 235,
     "metadata": {},
     "output_type": "execute_result"
    }
   ],
   "source": [
    "Draw.MolToImage(refmol, size=(400, 400))"
   ]
  },
  {
   "cell_type": "markdown",
   "metadata": {},
   "source": [
    "We plot the fingerprint setting 1"
   ]
  },
  {
   "cell_type": "code",
   "execution_count": 278,
   "metadata": {},
   "outputs": [
    {
     "data": {
      "image/png": "[encoded data removed]",
      "text/plain": [
       "<PIL.Image.Image image mode=RGBA size=200x200 at 0x1734A8E48>"
      ]
     },
     "execution_count": 278,
     "metadata": {},
     "output_type": "execute_result"
    }
   ],
   "source": [
    "Draw.MolToImage(fp, size=(200, 200), kekulize=False)"
   ]
  },
  {
   "cell_type": "markdown",
   "metadata": {},
   "source": [
    "Another convenient way is to highlight the fingerprint using `DrawMorganBit`. The following the same fingerprint setting, but just drawn differently."
   ]
  },
  {
   "cell_type": "code",
   "execution_count": 279,
   "metadata": {},
   "outputs": [
    {
     "data": {
      "image/svg+xml": [
       "<svg baseProfile=\"full\" height=\"150px\" version=\"1.1\" width=\"150px\" xml:space=\"preserve\" xmlns=\"http://www.w3.org/2000/svg\" xmlns:rdkit=\"http://www.rdkit.org/xml\" xmlns:xlink=\"http://www.w3.org/1999/xlink\">\n",
       "<rect height=\"150\" style=\"opacity:1.0;fill:#FFFFFF;stroke:none\" width=\"150\" x=\"0\" y=\"0\"> </rect>\n",
       "<ellipse cx=\"41.2787\" cy=\"115.624\" rx=\"3.93329\" ry=\"3.93329\" style=\"fill:#E5E533;fill-rule:evenodd;stroke:#E5E533;stroke-width:2px;stroke-linecap:butt;stroke-linejoin:miter;stroke-opacity:1\"/>\n",
       "<ellipse cx=\"59.2449\" cy=\"123.623\" rx=\"3.93329\" ry=\"3.93329\" style=\"fill:#E5E533;fill-rule:evenodd;stroke:#E5E533;stroke-width:2px;stroke-linecap:butt;stroke-linejoin:miter;stroke-opacity:1\"/>\n",
       "<ellipse cx=\"121.141\" cy=\"96.0653\" rx=\"3.93329\" ry=\"3.93329\" style=\"fill:#E5E533;fill-rule:evenodd;stroke:#E5E533;stroke-width:2px;stroke-linecap:butt;stroke-linejoin:miter;stroke-opacity:1\"/>\n",
       "<ellipse cx=\"92.0708\" cy=\"109.008\" rx=\"3.93329\" ry=\"3.93329\" style=\"fill:#E5E533;fill-rule:evenodd;stroke:#E5E533;stroke-width:2px;stroke-linecap:butt;stroke-linejoin:miter;stroke-opacity:1\"/>\n",
       "<ellipse cx=\"92.0708\" cy=\"40.8815\" rx=\"3.93329\" ry=\"3.93329\" style=\"fill:#E5E533;fill-rule:evenodd;stroke:#E5E533;stroke-width:2px;stroke-linecap:butt;stroke-linejoin:miter;stroke-opacity:1\"/>\n",
       "<ellipse cx=\"62.5711\" cy=\"23.8498\" rx=\"3.93329\" ry=\"3.93329\" style=\"fill:#E5E533;fill-rule:evenodd;stroke:#E5E533;stroke-width:2px;stroke-linecap:butt;stroke-linejoin:miter;stroke-opacity:1\"/>\n",
       "<ellipse cx=\"62.5711\" cy=\"57.9131\" rx=\"3.93329\" ry=\"3.93329\" style=\"fill:#E5E533;fill-rule:evenodd;stroke:#E5E533;stroke-width:2px;stroke-linecap:butt;stroke-linejoin:miter;stroke-opacity:1\"/>\n",
       "<ellipse cx=\"72.4043\" cy=\"74.9448\" rx=\"3.93329\" ry=\"3.93329\" style=\"fill:#9999E5;fill-rule:evenodd;stroke:#9999E5;stroke-width:2px;stroke-linecap:butt;stroke-linejoin:miter;stroke-opacity:1\"/>\n",
       "<ellipse cx=\"62.5711\" cy=\"91.9764\" rx=\"3.93329\" ry=\"3.93329\" style=\"fill:#E5E533;fill-rule:evenodd;stroke:#E5E533;stroke-width:2px;stroke-linecap:butt;stroke-linejoin:miter;stroke-opacity:1\"/>\n",
       "<ellipse cx=\"92.0708\" cy=\"74.9448\" rx=\"3.93329\" ry=\"3.93329\" style=\"fill:#E5E533;fill-rule:evenodd;stroke:#E5E533;stroke-width:2px;stroke-linecap:butt;stroke-linejoin:miter;stroke-opacity:1\"/>\n",
       "<ellipse cx=\"72.4043\" cy=\"40.8815\" rx=\"3.93329\" ry=\"3.93329\" style=\"fill:#E5E533;fill-rule:evenodd;stroke:#E5E533;stroke-width:2px;stroke-linecap:butt;stroke-linejoin:miter;stroke-opacity:1\"/>\n",
       "<ellipse cx=\"43.3344\" cy=\"96.0653\" rx=\"3.93329\" ry=\"3.93329\" style=\"fill:#E5E533;fill-rule:evenodd;stroke:#E5E533;stroke-width:2px;stroke-linecap:butt;stroke-linejoin:miter;stroke-opacity:1\"/>\n",
       "<ellipse cx=\"72.4043\" cy=\"109.008\" rx=\"3.93329\" ry=\"3.93329\" style=\"fill:#E5E533;fill-rule:evenodd;stroke:#E5E533;stroke-width:2px;stroke-linecap:butt;stroke-linejoin:miter;stroke-opacity:1\"/>\n",
       "<ellipse cx=\"101.904\" cy=\"91.9764\" rx=\"3.93329\" ry=\"3.93329\" style=\"fill:#E5E533;fill-rule:evenodd;stroke:#E5E533;stroke-width:2px;stroke-linecap:butt;stroke-linejoin:miter;stroke-opacity:1\"/>\n",
       "<ellipse cx=\"101.904\" cy=\"57.9131\" rx=\"3.93329\" ry=\"3.93329\" style=\"fill:#E5E533;fill-rule:evenodd;stroke:#E5E533;stroke-width:2px;stroke-linecap:butt;stroke-linejoin:miter;stroke-opacity:1\"/>\n",
       "<path d=\"M 41.2787,115.624 59.2449,123.623\" style=\"fill:none;fill-rule:evenodd;stroke:#E5E5E5;stroke-width:4px;stroke-linecap:butt;stroke-linejoin:miter;stroke-opacity:1\"/>\n",
       "<path d=\"M 45.5734,113.231 58.1498,118.83\" style=\"fill:none;fill-rule:evenodd;stroke:#E5E5E5;stroke-width:4px;stroke-linecap:butt;stroke-linejoin:miter;stroke-opacity:1;stroke-dasharray:6,6\"/>\n",
       "<path d=\"M 41.2787,115.624 26.8989,126.072\" style=\"fill:none;fill-rule:evenodd;stroke:#E5E5E5;stroke-width:4px;stroke-linecap:butt;stroke-linejoin:miter;stroke-opacity:1\"/>\n",
       "<path d=\"M 41.4337,120.373 31.3678,127.687\" style=\"fill:none;fill-rule:evenodd;stroke:#E5E5E5;stroke-width:4px;stroke-linecap:butt;stroke-linejoin:miter;stroke-opacity:1;stroke-dasharray:6,6\"/>\n",
       "<path d=\"M 41.2787,115.624 42.1343,107.484\" style=\"fill:none;fill-rule:evenodd;stroke:#000000;stroke-width:2px;stroke-linecap:butt;stroke-linejoin:miter;stroke-opacity:1\"/>\n",
       "<path d=\"M 42.1343,107.484 42.9899,99.3431\" style=\"fill:none;fill-rule:evenodd;stroke:#0000FF;stroke-width:2px;stroke-linecap:butt;stroke-linejoin:miter;stroke-opacity:1\"/>\n",
       "<path d=\"M 45.4471,113.593 46.046,107.895\" style=\"fill:none;fill-rule:evenodd;stroke:#000000;stroke-width:2px;stroke-linecap:butt;stroke-linejoin:miter;stroke-opacity:1;stroke-dasharray:6,6\"/>\n",
       "<path d=\"M 46.046,107.895 46.645,102.196\" style=\"fill:none;fill-rule:evenodd;stroke:#0000FF;stroke-width:2px;stroke-linecap:butt;stroke-linejoin:miter;stroke-opacity:1;stroke-dasharray:6,6\"/>\n",
       "<path d=\"M 59.2449,123.623 60.9561,139.904\" style=\"fill:none;fill-rule:evenodd;stroke:#E5E5E5;stroke-width:4px;stroke-linecap:butt;stroke-linejoin:miter;stroke-opacity:1\"/>\n",
       "<path d=\"M 55.5898,126.476 56.7877,137.873\" style=\"fill:none;fill-rule:evenodd;stroke:#E5E5E5;stroke-width:4px;stroke-linecap:butt;stroke-linejoin:miter;stroke-opacity:1;stroke-dasharray:6,6\"/>\n",
       "<path d=\"M 59.2449,123.623 72.4043,109.008\" style=\"fill:none;fill-rule:evenodd;stroke:#000000;stroke-width:2px;stroke-linecap:butt;stroke-linejoin:miter;stroke-opacity:1\"/>\n",
       "<path d=\"M 58.2958,118.799 67.5074,108.568\" style=\"fill:none;fill-rule:evenodd;stroke:#000000;stroke-width:2px;stroke-linecap:butt;stroke-linejoin:miter;stroke-opacity:1;stroke-dasharray:6,6\"/>\n",
       "<path d=\"M 122.852,112.346 121.485,99.3431\" style=\"fill:none;fill-rule:evenodd;stroke:#E5E5E5;stroke-width:4px;stroke-linecap:butt;stroke-linejoin:miter;stroke-opacity:1\"/>\n",
       "<path d=\"M 118.735,110.807 117.778,101.705\" style=\"fill:none;fill-rule:evenodd;stroke:#E5E5E5;stroke-width:4px;stroke-linecap:butt;stroke-linejoin:miter;stroke-opacity:1;stroke-dasharray:6,6\"/>\n",
       "<path d=\"M 115.459,94.8576 108.681,93.417\" style=\"fill:none;fill-rule:evenodd;stroke:#0000FF;stroke-width:2px;stroke-linecap:butt;stroke-linejoin:miter;stroke-opacity:1\"/>\n",
       "<path d=\"M 108.681,93.417 101.904,91.9764\" style=\"fill:none;fill-rule:evenodd;stroke:#000000;stroke-width:2px;stroke-linecap:butt;stroke-linejoin:miter;stroke-opacity:1\"/>\n",
       "<path d=\"M 112.608,98.2727 107.864,97.2643\" style=\"fill:none;fill-rule:evenodd;stroke:#0000FF;stroke-width:2px;stroke-linecap:butt;stroke-linejoin:miter;stroke-opacity:1;stroke-dasharray:6,6\"/>\n",
       "<path d=\"M 107.864,97.2643 103.119,96.2559\" style=\"fill:none;fill-rule:evenodd;stroke:#000000;stroke-width:2px;stroke-linecap:butt;stroke-linejoin:miter;stroke-opacity:1;stroke-dasharray:6,6\"/>\n",
       "<path d=\"M 92.0708,109.008 103.7,121.923\" style=\"fill:none;fill-rule:evenodd;stroke:#E5E5E5;stroke-width:4px;stroke-linecap:butt;stroke-linejoin:miter;stroke-opacity:1\"/>\n",
       "<path d=\"M 90.8921,113.577 99.0322,122.618\" style=\"fill:none;fill-rule:evenodd;stroke:#E5E5E5;stroke-width:4px;stroke-linecap:butt;stroke-linejoin:miter;stroke-opacity:1;stroke-dasharray:6,6\"/>\n",
       "<path d=\"M 92.0708,109.008 72.4043,109.008\" style=\"fill:none;fill-rule:evenodd;stroke:#000000;stroke-width:2px;stroke-linecap:butt;stroke-linejoin:miter;stroke-opacity:1\"/>\n",
       "<path d=\"M 89.1208,105.075 75.3543,105.075\" style=\"fill:none;fill-rule:evenodd;stroke:#000000;stroke-width:2px;stroke-linecap:butt;stroke-linejoin:miter;stroke-opacity:1;stroke-dasharray:6,6\"/>\n",
       "<path d=\"M 92.0708,109.008 101.904,91.9764\" style=\"fill:none;fill-rule:evenodd;stroke:#000000;stroke-width:2px;stroke-linecap:butt;stroke-linejoin:miter;stroke-opacity:1\"/>\n",
       "<path d=\"M 90.1394,104.487 97.0227,92.5645\" style=\"fill:none;fill-rule:evenodd;stroke:#000000;stroke-width:2px;stroke-linecap:butt;stroke-linejoin:miter;stroke-opacity:1;stroke-dasharray:6,6\"/>\n",
       "<path d=\"M 92.0708,40.8815 100.373,26.501\" style=\"fill:none;fill-rule:evenodd;stroke:#E5E5E5;stroke-width:4px;stroke-linecap:butt;stroke-linejoin:miter;stroke-opacity:1\"/>\n",
       "<path d=\"M 89.9098,36.7578 95.7216,26.6914\" style=\"fill:none;fill-rule:evenodd;stroke:#E5E5E5;stroke-width:4px;stroke-linecap:butt;stroke-linejoin:miter;stroke-opacity:1;stroke-dasharray:6,6\"/>\n",
       "<path d=\"M 92.0708,40.8815 72.4043,40.8815\" style=\"fill:none;fill-rule:evenodd;stroke:#000000;stroke-width:2px;stroke-linecap:butt;stroke-linejoin:miter;stroke-opacity:1\"/>\n",
       "<path d=\"M 89.1208,44.8148 75.3543,44.8148\" style=\"fill:none;fill-rule:evenodd;stroke:#000000;stroke-width:2px;stroke-linecap:butt;stroke-linejoin:miter;stroke-opacity:1;stroke-dasharray:6,6\"/>\n",
       "<path d=\"M 92.0708,40.8815 101.904,57.9131\" style=\"fill:none;fill-rule:evenodd;stroke:#000000;stroke-width:2px;stroke-linecap:butt;stroke-linejoin:miter;stroke-opacity:1\"/>\n",
       "<path d=\"M 90.1394,45.4029 97.0227,57.325\" style=\"fill:none;fill-rule:evenodd;stroke:#000000;stroke-width:2px;stroke-linecap:butt;stroke-linejoin:miter;stroke-opacity:1;stroke-dasharray:6,6\"/>\n",
       "<path d=\"M 70.8737,9.46937 62.5711,23.8498\" style=\"fill:none;fill-rule:evenodd;stroke:#E5E5E5;stroke-width:4px;stroke-linecap:butt;stroke-linejoin:miter;stroke-opacity:1\"/>\n",
       "<path d=\"M 73.0346,13.5931 67.2228,23.6594\" style=\"fill:none;fill-rule:evenodd;stroke:#E5E5E5;stroke-width:4px;stroke-linecap:butt;stroke-linejoin:miter;stroke-opacity:1;stroke-dasharray:6,6\"/>\n",
       "<path d=\"M 62.5711,23.8498 72.4043,40.8815\" style=\"fill:none;fill-rule:evenodd;stroke:#000000;stroke-width:2px;stroke-linecap:butt;stroke-linejoin:miter;stroke-opacity:1\"/>\n",
       "<path d=\"M 67.4524,24.4379 74.3357,36.3601\" style=\"fill:none;fill-rule:evenodd;stroke:#000000;stroke-width:2px;stroke-linecap:butt;stroke-linejoin:miter;stroke-opacity:1;stroke-dasharray:6,6\"/>\n",
       "<path d=\"M 62.5711,57.9131 72.4043,74.9448\" style=\"fill:none;fill-rule:evenodd;stroke:#000000;stroke-width:2px;stroke-linecap:butt;stroke-linejoin:miter;stroke-opacity:1\"/>\n",
       "<path d=\"M 67.4524,58.5012 74.3357,70.4234\" style=\"fill:none;fill-rule:evenodd;stroke:#000000;stroke-width:2px;stroke-linecap:butt;stroke-linejoin:miter;stroke-opacity:1;stroke-dasharray:6,6\"/>\n",
       "<path d=\"M 62.5711,57.9131 72.4043,40.8815\" style=\"fill:none;fill-rule:evenodd;stroke:#000000;stroke-width:2px;stroke-linecap:butt;stroke-linejoin:miter;stroke-opacity:1\"/>\n",
       "<path d=\"M 67.4524,57.325 74.3357,45.4029\" style=\"fill:none;fill-rule:evenodd;stroke:#000000;stroke-width:2px;stroke-linecap:butt;stroke-linejoin:miter;stroke-opacity:1;stroke-dasharray:6,6\"/>\n",
       "<path d=\"M 62.5711,55.9465 54.2685,55.9465\" style=\"fill:none;fill-rule:evenodd;stroke:#000000;stroke-width:2px;stroke-linecap:butt;stroke-linejoin:miter;stroke-opacity:1\"/>\n",
       "<path d=\"M 54.2685,55.9465 45.966,55.9465\" style=\"fill:none;fill-rule:evenodd;stroke:#FF0000;stroke-width:2px;stroke-linecap:butt;stroke-linejoin:miter;stroke-opacity:1\"/>\n",
       "<path d=\"M 62.5711,59.8798 54.2685,59.8798\" style=\"fill:none;fill-rule:evenodd;stroke:#000000;stroke-width:2px;stroke-linecap:butt;stroke-linejoin:miter;stroke-opacity:1\"/>\n",
       "<path d=\"M 54.2685,59.8798 45.966,59.8798\" style=\"fill:none;fill-rule:evenodd;stroke:#FF0000;stroke-width:2px;stroke-linecap:butt;stroke-linejoin:miter;stroke-opacity:1\"/>\n",
       "<path d=\"M 72.4043,74.9448 62.5711,91.9764\" style=\"fill:none;fill-rule:evenodd;stroke:#000000;stroke-width:2px;stroke-linecap:butt;stroke-linejoin:miter;stroke-opacity:1\"/>\n",
       "<path d=\"M 67.523,75.5329 60.6398,87.455\" style=\"fill:none;fill-rule:evenodd;stroke:#000000;stroke-width:2px;stroke-linecap:butt;stroke-linejoin:miter;stroke-opacity:1;stroke-dasharray:6,6\"/>\n",
       "<path d=\"M 72.4043,74.9448 92.0708,74.9448\" style=\"fill:none;fill-rule:evenodd;stroke:#000000;stroke-width:2px;stroke-linecap:butt;stroke-linejoin:miter;stroke-opacity:1\"/>\n",
       "<path d=\"M 75.3543,71.0115 89.1208,71.0115\" style=\"fill:none;fill-rule:evenodd;stroke:#000000;stroke-width:2px;stroke-linecap:butt;stroke-linejoin:miter;stroke-opacity:1;stroke-dasharray:6,6\"/>\n",
       "<path d=\"M 62.5711,91.9764 55.7937,93.417\" style=\"fill:none;fill-rule:evenodd;stroke:#000000;stroke-width:2px;stroke-linecap:butt;stroke-linejoin:miter;stroke-opacity:1\"/>\n",
       "<path d=\"M 55.7937,93.417 49.0164,94.8576\" style=\"fill:none;fill-rule:evenodd;stroke:#0000FF;stroke-width:2px;stroke-linecap:butt;stroke-linejoin:miter;stroke-opacity:1\"/>\n",
       "<path d=\"M 61.3557,96.2559 56.6115,97.2643\" style=\"fill:none;fill-rule:evenodd;stroke:#000000;stroke-width:2px;stroke-linecap:butt;stroke-linejoin:miter;stroke-opacity:1;stroke-dasharray:6,6\"/>\n",
       "<path d=\"M 56.6115,97.2643 51.8673,98.2727\" style=\"fill:none;fill-rule:evenodd;stroke:#0000FF;stroke-width:2px;stroke-linecap:butt;stroke-linejoin:miter;stroke-opacity:1;stroke-dasharray:6,6\"/>\n",
       "<path d=\"M 62.5711,91.9764 72.4043,109.008\" style=\"fill:none;fill-rule:evenodd;stroke:#000000;stroke-width:2px;stroke-linecap:butt;stroke-linejoin:miter;stroke-opacity:1\"/>\n",
       "<path d=\"M 60.6398,96.4978 67.523,108.42\" style=\"fill:none;fill-rule:evenodd;stroke:#000000;stroke-width:2px;stroke-linecap:butt;stroke-linejoin:miter;stroke-opacity:1;stroke-dasharray:6,6\"/>\n",
       "<path d=\"M 92.0708,74.9448 101.904,91.9764\" style=\"fill:none;fill-rule:evenodd;stroke:#000000;stroke-width:2px;stroke-linecap:butt;stroke-linejoin:miter;stroke-opacity:1\"/>\n",
       "<path d=\"M 90.1394,79.4662 97.0227,91.3883\" style=\"fill:none;fill-rule:evenodd;stroke:#000000;stroke-width:2px;stroke-linecap:butt;stroke-linejoin:miter;stroke-opacity:1;stroke-dasharray:6,6\"/>\n",
       "<path d=\"M 92.0708,74.9448 101.904,57.9131\" style=\"fill:none;fill-rule:evenodd;stroke:#000000;stroke-width:2px;stroke-linecap:butt;stroke-linejoin:miter;stroke-opacity:1\"/>\n",
       "<path d=\"M 90.1394,70.4234 97.0227,58.5012\" style=\"fill:none;fill-rule:evenodd;stroke:#000000;stroke-width:2px;stroke-linecap:butt;stroke-linejoin:miter;stroke-opacity:1;stroke-dasharray:6,6\"/>\n",
       "<path d=\"M 101.904,59.8798 110.207,59.8798\" style=\"fill:none;fill-rule:evenodd;stroke:#000000;stroke-width:2px;stroke-linecap:butt;stroke-linejoin:miter;stroke-opacity:1\"/>\n",
       "<path d=\"M 110.207,59.8798 118.509,59.8798\" style=\"fill:none;fill-rule:evenodd;stroke:#FF0000;stroke-width:2px;stroke-linecap:butt;stroke-linejoin:miter;stroke-opacity:1\"/>\n",
       "<path d=\"M 101.904,55.9465 110.207,55.9465\" style=\"fill:none;fill-rule:evenodd;stroke:#000000;stroke-width:2px;stroke-linecap:butt;stroke-linejoin:miter;stroke-opacity:1\"/>\n",
       "<path d=\"M 110.207,55.9465 118.509,55.9465\" style=\"fill:none;fill-rule:evenodd;stroke:#FF0000;stroke-width:2px;stroke-linecap:butt;stroke-linejoin:miter;stroke-opacity:1\"/>\n",
       "<text style=\"font-size:6px;font-style:normal;font-weight:normal;fill-opacity:1;stroke:none;font-family:sans-serif;text-anchor:start;fill:#7F7F7F\" x=\"59.7699\" y=\"146.46\"><tspan>*</tspan></text>\n",
       "<text style=\"font-size:6px;font-style:normal;font-weight:normal;fill-opacity:1;stroke:none;font-family:sans-serif;text-anchor:start;fill:#7F7F7F\" x=\"121.666\" y=\"118.902\"><tspan>*</tspan></text>\n",
       "<text style=\"font-size:6px;font-style:normal;font-weight:normal;fill-opacity:1;stroke:none;font-family:sans-serif;text-anchor:start;fill:#0000FF\" x=\"115.459\" y=\"99.3431\"><tspan>NH</tspan></text>\n",
       "<text style=\"font-size:6px;font-style:normal;font-weight:normal;fill-opacity:1;stroke:none;font-family:sans-serif;text-anchor:start;fill:#7F7F7F\" x=\"103.7\" y=\"126.901\"><tspan>*</tspan></text>\n",
       "<text style=\"font-size:6px;font-style:normal;font-weight:normal;fill-opacity:1;stroke:none;font-family:sans-serif;text-anchor:start;fill:#7F7F7F\" x=\"100.373\" y=\"27.1276\"><tspan>*</tspan></text>\n",
       "<text style=\"font-size:6px;font-style:normal;font-weight:normal;fill-opacity:1;stroke:none;font-family:sans-serif;text-anchor:start;fill:#7F7F7F\" x=\"70.8737\" y=\"10.0959\"><tspan>*</tspan></text>\n",
       "<text style=\"font-size:6px;font-style:normal;font-weight:normal;fill-opacity:1;stroke:none;font-family:sans-serif;text-anchor:start;fill:#7F7F7F\" x=\"23.8375\" y=\"130.461\"><tspan>*</tspan></text>\n",
       "<text style=\"font-size:6px;font-style:normal;font-weight:normal;fill-opacity:1;stroke:none;font-family:sans-serif;text-anchor:start;fill:#FF0000\" x=\"39.8433\" y=\"61.1909\"><tspan>O</tspan></text>\n",
       "<text style=\"font-size:6px;font-style:normal;font-weight:normal;fill-opacity:1;stroke:none;font-family:sans-serif;text-anchor:start;fill:#0000FF\" x=\"37.6525\" y=\"99.3431\"><tspan>NH</tspan></text>\n",
       "<text style=\"font-size:6px;font-style:normal;font-weight:normal;fill-opacity:1;stroke:none;font-family:sans-serif;text-anchor:start;fill:#FF0000\" x=\"118.509\" y=\"61.1909\"><tspan>O</tspan></text>\n",
       "</svg>"
      ],
      "text/plain": [
       "<IPython.core.display.SVG object>"
      ]
     },
     "metadata": {},
     "output_type": "display_data"
    }
   ],
   "source": [
    "display(SVG(Draw.DrawMorganBit(refmol, 290, info_dicts[0], whichExample=0)))"
   ]
  },
  {
   "cell_type": "markdown",
   "metadata": {},
   "source": [
    "And now let's try to plot the environment and see how that's different to the morgan bit."
   ]
  },
  {
   "cell_type": "code",
   "execution_count": 286,
   "metadata": {},
   "outputs": [
    {
     "data": {
      "image/svg+xml": [
       "<svg baseProfile=\"full\" height=\"150px\" version=\"1.1\" width=\"150px\" xml:space=\"preserve\" xmlns=\"http://www.w3.org/2000/svg\" xmlns:rdkit=\"http://www.rdkit.org/xml\" xmlns:xlink=\"http://www.w3.org/1999/xlink\">\n",
       "<rect height=\"150\" style=\"opacity:1.0;fill:#FFFFFF;stroke:none\" width=\"150\" x=\"0\" y=\"0\"> </rect>\n",
       "<ellipse cx=\"41.2787\" cy=\"115.624\" rx=\"3.93329\" ry=\"3.93329\" style=\"fill:#E5E533;fill-rule:evenodd;stroke:#E5E533;stroke-width:2px;stroke-linecap:butt;stroke-linejoin:miter;stroke-opacity:1\"/>\n",
       "<ellipse cx=\"59.2449\" cy=\"123.623\" rx=\"3.93329\" ry=\"3.93329\" style=\"fill:#E5E533;fill-rule:evenodd;stroke:#E5E533;stroke-width:2px;stroke-linecap:butt;stroke-linejoin:miter;stroke-opacity:1\"/>\n",
       "<ellipse cx=\"121.141\" cy=\"96.0653\" rx=\"3.93329\" ry=\"3.93329\" style=\"fill:#E5E533;fill-rule:evenodd;stroke:#E5E533;stroke-width:2px;stroke-linecap:butt;stroke-linejoin:miter;stroke-opacity:1\"/>\n",
       "<ellipse cx=\"92.0708\" cy=\"109.008\" rx=\"3.93329\" ry=\"3.93329\" style=\"fill:#E5E533;fill-rule:evenodd;stroke:#E5E533;stroke-width:2px;stroke-linecap:butt;stroke-linejoin:miter;stroke-opacity:1\"/>\n",
       "<ellipse cx=\"92.0708\" cy=\"40.8815\" rx=\"3.93329\" ry=\"3.93329\" style=\"fill:#E5E533;fill-rule:evenodd;stroke:#E5E533;stroke-width:2px;stroke-linecap:butt;stroke-linejoin:miter;stroke-opacity:1\"/>\n",
       "<ellipse cx=\"62.5711\" cy=\"23.8498\" rx=\"3.93329\" ry=\"3.93329\" style=\"fill:#E5E533;fill-rule:evenodd;stroke:#E5E533;stroke-width:2px;stroke-linecap:butt;stroke-linejoin:miter;stroke-opacity:1\"/>\n",
       "<ellipse cx=\"62.5711\" cy=\"57.9131\" rx=\"3.93329\" ry=\"3.93329\" style=\"fill:#E5E533;fill-rule:evenodd;stroke:#E5E533;stroke-width:2px;stroke-linecap:butt;stroke-linejoin:miter;stroke-opacity:1\"/>\n",
       "<ellipse cx=\"72.4043\" cy=\"74.9448\" rx=\"3.93329\" ry=\"3.93329\" style=\"fill:#9999E5;fill-rule:evenodd;stroke:#9999E5;stroke-width:2px;stroke-linecap:butt;stroke-linejoin:miter;stroke-opacity:1\"/>\n",
       "<ellipse cx=\"62.5711\" cy=\"91.9764\" rx=\"3.93329\" ry=\"3.93329\" style=\"fill:#E5E533;fill-rule:evenodd;stroke:#E5E533;stroke-width:2px;stroke-linecap:butt;stroke-linejoin:miter;stroke-opacity:1\"/>\n",
       "<ellipse cx=\"92.0708\" cy=\"74.9448\" rx=\"3.93329\" ry=\"3.93329\" style=\"fill:#E5E533;fill-rule:evenodd;stroke:#E5E533;stroke-width:2px;stroke-linecap:butt;stroke-linejoin:miter;stroke-opacity:1\"/>\n",
       "<ellipse cx=\"72.4043\" cy=\"40.8815\" rx=\"3.93329\" ry=\"3.93329\" style=\"fill:#E5E533;fill-rule:evenodd;stroke:#E5E533;stroke-width:2px;stroke-linecap:butt;stroke-linejoin:miter;stroke-opacity:1\"/>\n",
       "<ellipse cx=\"43.3344\" cy=\"96.0653\" rx=\"3.93329\" ry=\"3.93329\" style=\"fill:#E5E533;fill-rule:evenodd;stroke:#E5E533;stroke-width:2px;stroke-linecap:butt;stroke-linejoin:miter;stroke-opacity:1\"/>\n",
       "<ellipse cx=\"72.4043\" cy=\"109.008\" rx=\"3.93329\" ry=\"3.93329\" style=\"fill:#E5E533;fill-rule:evenodd;stroke:#E5E533;stroke-width:2px;stroke-linecap:butt;stroke-linejoin:miter;stroke-opacity:1\"/>\n",
       "<ellipse cx=\"101.904\" cy=\"91.9764\" rx=\"3.93329\" ry=\"3.93329\" style=\"fill:#E5E533;fill-rule:evenodd;stroke:#E5E533;stroke-width:2px;stroke-linecap:butt;stroke-linejoin:miter;stroke-opacity:1\"/>\n",
       "<ellipse cx=\"101.904\" cy=\"57.9131\" rx=\"3.93329\" ry=\"3.93329\" style=\"fill:#E5E533;fill-rule:evenodd;stroke:#E5E533;stroke-width:2px;stroke-linecap:butt;stroke-linejoin:miter;stroke-opacity:1\"/>\n",
       "<path d=\"M 41.2787,115.624 59.2449,123.623\" style=\"fill:none;fill-rule:evenodd;stroke:#E5E5E5;stroke-width:4px;stroke-linecap:butt;stroke-linejoin:miter;stroke-opacity:1\"/>\n",
       "<path d=\"M 45.5734,113.231 58.1498,118.83\" style=\"fill:none;fill-rule:evenodd;stroke:#E5E5E5;stroke-width:4px;stroke-linecap:butt;stroke-linejoin:miter;stroke-opacity:1;stroke-dasharray:6,6\"/>\n",
       "<path d=\"M 41.2787,115.624 26.8989,126.072\" style=\"fill:none;fill-rule:evenodd;stroke:#E5E5E5;stroke-width:4px;stroke-linecap:butt;stroke-linejoin:miter;stroke-opacity:1\"/>\n",
       "<path d=\"M 41.4337,120.373 31.3678,127.687\" style=\"fill:none;fill-rule:evenodd;stroke:#E5E5E5;stroke-width:4px;stroke-linecap:butt;stroke-linejoin:miter;stroke-opacity:1;stroke-dasharray:6,6\"/>\n",
       "<path d=\"M 41.2787,115.624 42.1343,107.484\" style=\"fill:none;fill-rule:evenodd;stroke:#000000;stroke-width:2px;stroke-linecap:butt;stroke-linejoin:miter;stroke-opacity:1\"/>\n",
       "<path d=\"M 42.1343,107.484 42.9899,99.3431\" style=\"fill:none;fill-rule:evenodd;stroke:#0000FF;stroke-width:2px;stroke-linecap:butt;stroke-linejoin:miter;stroke-opacity:1\"/>\n",
       "<path d=\"M 45.4471,113.593 46.046,107.895\" style=\"fill:none;fill-rule:evenodd;stroke:#000000;stroke-width:2px;stroke-linecap:butt;stroke-linejoin:miter;stroke-opacity:1;stroke-dasharray:6,6\"/>\n",
       "<path d=\"M 46.046,107.895 46.645,102.196\" style=\"fill:none;fill-rule:evenodd;stroke:#0000FF;stroke-width:2px;stroke-linecap:butt;stroke-linejoin:miter;stroke-opacity:1;stroke-dasharray:6,6\"/>\n",
       "<path d=\"M 59.2449,123.623 60.9561,139.904\" style=\"fill:none;fill-rule:evenodd;stroke:#E5E5E5;stroke-width:4px;stroke-linecap:butt;stroke-linejoin:miter;stroke-opacity:1\"/>\n",
       "<path d=\"M 55.5898,126.476 56.7877,137.873\" style=\"fill:none;fill-rule:evenodd;stroke:#E5E5E5;stroke-width:4px;stroke-linecap:butt;stroke-linejoin:miter;stroke-opacity:1;stroke-dasharray:6,6\"/>\n",
       "<path d=\"M 59.2449,123.623 72.4043,109.008\" style=\"fill:none;fill-rule:evenodd;stroke:#000000;stroke-width:2px;stroke-linecap:butt;stroke-linejoin:miter;stroke-opacity:1\"/>\n",
       "<path d=\"M 58.2958,118.799 67.5074,108.568\" style=\"fill:none;fill-rule:evenodd;stroke:#000000;stroke-width:2px;stroke-linecap:butt;stroke-linejoin:miter;stroke-opacity:1;stroke-dasharray:6,6\"/>\n",
       "<path d=\"M 122.852,112.346 121.485,99.3431\" style=\"fill:none;fill-rule:evenodd;stroke:#E5E5E5;stroke-width:4px;stroke-linecap:butt;stroke-linejoin:miter;stroke-opacity:1\"/>\n",
       "<path d=\"M 118.735,110.807 117.778,101.705\" style=\"fill:none;fill-rule:evenodd;stroke:#E5E5E5;stroke-width:4px;stroke-linecap:butt;stroke-linejoin:miter;stroke-opacity:1;stroke-dasharray:6,6\"/>\n",
       "<path d=\"M 115.459,94.8576 108.681,93.417\" style=\"fill:none;fill-rule:evenodd;stroke:#0000FF;stroke-width:2px;stroke-linecap:butt;stroke-linejoin:miter;stroke-opacity:1\"/>\n",
       "<path d=\"M 108.681,93.417 101.904,91.9764\" style=\"fill:none;fill-rule:evenodd;stroke:#000000;stroke-width:2px;stroke-linecap:butt;stroke-linejoin:miter;stroke-opacity:1\"/>\n",
       "<path d=\"M 112.608,98.2727 107.864,97.2643\" style=\"fill:none;fill-rule:evenodd;stroke:#0000FF;stroke-width:2px;stroke-linecap:butt;stroke-linejoin:miter;stroke-opacity:1;stroke-dasharray:6,6\"/>\n",
       "<path d=\"M 107.864,97.2643 103.119,96.2559\" style=\"fill:none;fill-rule:evenodd;stroke:#000000;stroke-width:2px;stroke-linecap:butt;stroke-linejoin:miter;stroke-opacity:1;stroke-dasharray:6,6\"/>\n",
       "<path d=\"M 92.0708,109.008 103.7,121.923\" style=\"fill:none;fill-rule:evenodd;stroke:#E5E5E5;stroke-width:4px;stroke-linecap:butt;stroke-linejoin:miter;stroke-opacity:1\"/>\n",
       "<path d=\"M 90.8921,113.577 99.0322,122.618\" style=\"fill:none;fill-rule:evenodd;stroke:#E5E5E5;stroke-width:4px;stroke-linecap:butt;stroke-linejoin:miter;stroke-opacity:1;stroke-dasharray:6,6\"/>\n",
       "<path d=\"M 92.0708,109.008 72.4043,109.008\" style=\"fill:none;fill-rule:evenodd;stroke:#000000;stroke-width:2px;stroke-linecap:butt;stroke-linejoin:miter;stroke-opacity:1\"/>\n",
       "<path d=\"M 89.1208,105.075 75.3543,105.075\" style=\"fill:none;fill-rule:evenodd;stroke:#000000;stroke-width:2px;stroke-linecap:butt;stroke-linejoin:miter;stroke-opacity:1;stroke-dasharray:6,6\"/>\n",
       "<path d=\"M 92.0708,109.008 101.904,91.9764\" style=\"fill:none;fill-rule:evenodd;stroke:#000000;stroke-width:2px;stroke-linecap:butt;stroke-linejoin:miter;stroke-opacity:1\"/>\n",
       "<path d=\"M 90.1394,104.487 97.0227,92.5645\" style=\"fill:none;fill-rule:evenodd;stroke:#000000;stroke-width:2px;stroke-linecap:butt;stroke-linejoin:miter;stroke-opacity:1;stroke-dasharray:6,6\"/>\n",
       "<path d=\"M 92.0708,40.8815 100.373,26.501\" style=\"fill:none;fill-rule:evenodd;stroke:#E5E5E5;stroke-width:4px;stroke-linecap:butt;stroke-linejoin:miter;stroke-opacity:1\"/>\n",
       "<path d=\"M 89.9098,36.7578 95.7216,26.6914\" style=\"fill:none;fill-rule:evenodd;stroke:#E5E5E5;stroke-width:4px;stroke-linecap:butt;stroke-linejoin:miter;stroke-opacity:1;stroke-dasharray:6,6\"/>\n",
       "<path d=\"M 92.0708,40.8815 72.4043,40.8815\" style=\"fill:none;fill-rule:evenodd;stroke:#000000;stroke-width:2px;stroke-linecap:butt;stroke-linejoin:miter;stroke-opacity:1\"/>\n",
       "<path d=\"M 89.1208,44.8148 75.3543,44.8148\" style=\"fill:none;fill-rule:evenodd;stroke:#000000;stroke-width:2px;stroke-linecap:butt;stroke-linejoin:miter;stroke-opacity:1;stroke-dasharray:6,6\"/>\n",
       "<path d=\"M 92.0708,40.8815 101.904,57.9131\" style=\"fill:none;fill-rule:evenodd;stroke:#000000;stroke-width:2px;stroke-linecap:butt;stroke-linejoin:miter;stroke-opacity:1\"/>\n",
       "<path d=\"M 90.1394,45.4029 97.0227,57.325\" style=\"fill:none;fill-rule:evenodd;stroke:#000000;stroke-width:2px;stroke-linecap:butt;stroke-linejoin:miter;stroke-opacity:1;stroke-dasharray:6,6\"/>\n",
       "<path d=\"M 70.8737,9.46937 62.5711,23.8498\" style=\"fill:none;fill-rule:evenodd;stroke:#E5E5E5;stroke-width:4px;stroke-linecap:butt;stroke-linejoin:miter;stroke-opacity:1\"/>\n",
       "<path d=\"M 73.0346,13.5931 67.2228,23.6594\" style=\"fill:none;fill-rule:evenodd;stroke:#E5E5E5;stroke-width:4px;stroke-linecap:butt;stroke-linejoin:miter;stroke-opacity:1;stroke-dasharray:6,6\"/>\n",
       "<path d=\"M 62.5711,23.8498 72.4043,40.8815\" style=\"fill:none;fill-rule:evenodd;stroke:#000000;stroke-width:2px;stroke-linecap:butt;stroke-linejoin:miter;stroke-opacity:1\"/>\n",
       "<path d=\"M 67.4524,24.4379 74.3357,36.3601\" style=\"fill:none;fill-rule:evenodd;stroke:#000000;stroke-width:2px;stroke-linecap:butt;stroke-linejoin:miter;stroke-opacity:1;stroke-dasharray:6,6\"/>\n",
       "<path d=\"M 62.5711,57.9131 72.4043,74.9448\" style=\"fill:none;fill-rule:evenodd;stroke:#000000;stroke-width:2px;stroke-linecap:butt;stroke-linejoin:miter;stroke-opacity:1\"/>\n",
       "<path d=\"M 67.4524,58.5012 74.3357,70.4234\" style=\"fill:none;fill-rule:evenodd;stroke:#000000;stroke-width:2px;stroke-linecap:butt;stroke-linejoin:miter;stroke-opacity:1;stroke-dasharray:6,6\"/>\n",
       "<path d=\"M 62.5711,57.9131 72.4043,40.8815\" style=\"fill:none;fill-rule:evenodd;stroke:#000000;stroke-width:2px;stroke-linecap:butt;stroke-linejoin:miter;stroke-opacity:1\"/>\n",
       "<path d=\"M 67.4524,57.325 74.3357,45.4029\" style=\"fill:none;fill-rule:evenodd;stroke:#000000;stroke-width:2px;stroke-linecap:butt;stroke-linejoin:miter;stroke-opacity:1;stroke-dasharray:6,6\"/>\n",
       "<path d=\"M 62.5711,55.9465 54.2685,55.9465\" style=\"fill:none;fill-rule:evenodd;stroke:#000000;stroke-width:2px;stroke-linecap:butt;stroke-linejoin:miter;stroke-opacity:1\"/>\n",
       "<path d=\"M 54.2685,55.9465 45.966,55.9465\" style=\"fill:none;fill-rule:evenodd;stroke:#FF0000;stroke-width:2px;stroke-linecap:butt;stroke-linejoin:miter;stroke-opacity:1\"/>\n",
       "<path d=\"M 62.5711,59.8798 54.2685,59.8798\" style=\"fill:none;fill-rule:evenodd;stroke:#000000;stroke-width:2px;stroke-linecap:butt;stroke-linejoin:miter;stroke-opacity:1\"/>\n",
       "<path d=\"M 54.2685,59.8798 45.966,59.8798\" style=\"fill:none;fill-rule:evenodd;stroke:#FF0000;stroke-width:2px;stroke-linecap:butt;stroke-linejoin:miter;stroke-opacity:1\"/>\n",
       "<path d=\"M 72.4043,74.9448 62.5711,91.9764\" style=\"fill:none;fill-rule:evenodd;stroke:#000000;stroke-width:2px;stroke-linecap:butt;stroke-linejoin:miter;stroke-opacity:1\"/>\n",
       "<path d=\"M 67.523,75.5329 60.6398,87.455\" style=\"fill:none;fill-rule:evenodd;stroke:#000000;stroke-width:2px;stroke-linecap:butt;stroke-linejoin:miter;stroke-opacity:1;stroke-dasharray:6,6\"/>\n",
       "<path d=\"M 72.4043,74.9448 92.0708,74.9448\" style=\"fill:none;fill-rule:evenodd;stroke:#000000;stroke-width:2px;stroke-linecap:butt;stroke-linejoin:miter;stroke-opacity:1\"/>\n",
       "<path d=\"M 75.3543,71.0115 89.1208,71.0115\" style=\"fill:none;fill-rule:evenodd;stroke:#000000;stroke-width:2px;stroke-linecap:butt;stroke-linejoin:miter;stroke-opacity:1;stroke-dasharray:6,6\"/>\n",
       "<path d=\"M 62.5711,91.9764 55.7937,93.417\" style=\"fill:none;fill-rule:evenodd;stroke:#000000;stroke-width:2px;stroke-linecap:butt;stroke-linejoin:miter;stroke-opacity:1\"/>\n",
       "<path d=\"M 55.7937,93.417 49.0164,94.8576\" style=\"fill:none;fill-rule:evenodd;stroke:#0000FF;stroke-width:2px;stroke-linecap:butt;stroke-linejoin:miter;stroke-opacity:1\"/>\n",
       "<path d=\"M 61.3557,96.2559 56.6115,97.2643\" style=\"fill:none;fill-rule:evenodd;stroke:#000000;stroke-width:2px;stroke-linecap:butt;stroke-linejoin:miter;stroke-opacity:1;stroke-dasharray:6,6\"/>\n",
       "<path d=\"M 56.6115,97.2643 51.8673,98.2727\" style=\"fill:none;fill-rule:evenodd;stroke:#0000FF;stroke-width:2px;stroke-linecap:butt;stroke-linejoin:miter;stroke-opacity:1;stroke-dasharray:6,6\"/>\n",
       "<path d=\"M 62.5711,91.9764 72.4043,109.008\" style=\"fill:none;fill-rule:evenodd;stroke:#000000;stroke-width:2px;stroke-linecap:butt;stroke-linejoin:miter;stroke-opacity:1\"/>\n",
       "<path d=\"M 60.6398,96.4978 67.523,108.42\" style=\"fill:none;fill-rule:evenodd;stroke:#000000;stroke-width:2px;stroke-linecap:butt;stroke-linejoin:miter;stroke-opacity:1;stroke-dasharray:6,6\"/>\n",
       "<path d=\"M 92.0708,74.9448 101.904,91.9764\" style=\"fill:none;fill-rule:evenodd;stroke:#000000;stroke-width:2px;stroke-linecap:butt;stroke-linejoin:miter;stroke-opacity:1\"/>\n",
       "<path d=\"M 90.1394,79.4662 97.0227,91.3883\" style=\"fill:none;fill-rule:evenodd;stroke:#000000;stroke-width:2px;stroke-linecap:butt;stroke-linejoin:miter;stroke-opacity:1;stroke-dasharray:6,6\"/>\n",
       "<path d=\"M 92.0708,74.9448 101.904,57.9131\" style=\"fill:none;fill-rule:evenodd;stroke:#000000;stroke-width:2px;stroke-linecap:butt;stroke-linejoin:miter;stroke-opacity:1\"/>\n",
       "<path d=\"M 90.1394,70.4234 97.0227,58.5012\" style=\"fill:none;fill-rule:evenodd;stroke:#000000;stroke-width:2px;stroke-linecap:butt;stroke-linejoin:miter;stroke-opacity:1;stroke-dasharray:6,6\"/>\n",
       "<path d=\"M 101.904,59.8798 110.207,59.8798\" style=\"fill:none;fill-rule:evenodd;stroke:#000000;stroke-width:2px;stroke-linecap:butt;stroke-linejoin:miter;stroke-opacity:1\"/>\n",
       "<path d=\"M 110.207,59.8798 118.509,59.8798\" style=\"fill:none;fill-rule:evenodd;stroke:#FF0000;stroke-width:2px;stroke-linecap:butt;stroke-linejoin:miter;stroke-opacity:1\"/>\n",
       "<path d=\"M 101.904,55.9465 110.207,55.9465\" style=\"fill:none;fill-rule:evenodd;stroke:#000000;stroke-width:2px;stroke-linecap:butt;stroke-linejoin:miter;stroke-opacity:1\"/>\n",
       "<path d=\"M 110.207,55.9465 118.509,55.9465\" style=\"fill:none;fill-rule:evenodd;stroke:#FF0000;stroke-width:2px;stroke-linecap:butt;stroke-linejoin:miter;stroke-opacity:1\"/>\n",
       "<text style=\"font-size:6px;font-style:normal;font-weight:normal;fill-opacity:1;stroke:none;font-family:sans-serif;text-anchor:start;fill:#7F7F7F\" x=\"59.7699\" y=\"146.46\"><tspan>*</tspan></text>\n",
       "<text style=\"font-size:6px;font-style:normal;font-weight:normal;fill-opacity:1;stroke:none;font-family:sans-serif;text-anchor:start;fill:#7F7F7F\" x=\"121.666\" y=\"118.902\"><tspan>*</tspan></text>\n",
       "<text style=\"font-size:6px;font-style:normal;font-weight:normal;fill-opacity:1;stroke:none;font-family:sans-serif;text-anchor:start;fill:#0000FF\" x=\"115.459\" y=\"99.3431\"><tspan>NH</tspan></text>\n",
       "<text style=\"font-size:6px;font-style:normal;font-weight:normal;fill-opacity:1;stroke:none;font-family:sans-serif;text-anchor:start;fill:#7F7F7F\" x=\"103.7\" y=\"126.901\"><tspan>*</tspan></text>\n",
       "<text style=\"font-size:6px;font-style:normal;font-weight:normal;fill-opacity:1;stroke:none;font-family:sans-serif;text-anchor:start;fill:#7F7F7F\" x=\"100.373\" y=\"27.1276\"><tspan>*</tspan></text>\n",
       "<text style=\"font-size:6px;font-style:normal;font-weight:normal;fill-opacity:1;stroke:none;font-family:sans-serif;text-anchor:start;fill:#7F7F7F\" x=\"70.8737\" y=\"10.0959\"><tspan>*</tspan></text>\n",
       "<text style=\"font-size:6px;font-style:normal;font-weight:normal;fill-opacity:1;stroke:none;font-family:sans-serif;text-anchor:start;fill:#7F7F7F\" x=\"23.8375\" y=\"130.461\"><tspan>*</tspan></text>\n",
       "<text style=\"font-size:6px;font-style:normal;font-weight:normal;fill-opacity:1;stroke:none;font-family:sans-serif;text-anchor:start;fill:#FF0000\" x=\"39.8433\" y=\"61.1909\"><tspan>O</tspan></text>\n",
       "<text style=\"font-size:6px;font-style:normal;font-weight:normal;fill-opacity:1;stroke:none;font-family:sans-serif;text-anchor:start;fill:#0000FF\" x=\"37.6525\" y=\"99.3431\"><tspan>NH</tspan></text>\n",
       "<text style=\"font-size:6px;font-style:normal;font-weight:normal;fill-opacity:1;stroke:none;font-family:sans-serif;text-anchor:start;fill:#FF0000\" x=\"118.509\" y=\"61.1909\"><tspan>O</tspan></text>\n",
       "</svg>"
      ],
      "text/plain": [
       "<IPython.core.display.SVG object>"
      ]
     },
     "metadata": {},
     "output_type": "display_data"
    }
   ],
   "source": [
    "display(SVG(Draw.DrawMorganEnv(refmol, 29, 3)))"
   ]
  },
  {
   "cell_type": "markdown",
   "metadata": {},
   "source": [
    "It turns out to be the same thing as the bit itself. \n",
    "\n",
    "And then fingerprint setting 2, which should look identical to 1, and expect both to be substructures of the original molecule."
   ]
  },
  {
   "cell_type": "code",
   "execution_count": 244,
   "metadata": {
    "scrolled": false
   },
   "outputs": [
    {
     "data": {
      "image/png": "[encoded data removed]",
      "text/plain": [
       "<PIL.Image.Image image mode=RGBA size=200x200 at 0x11A088400>"
      ]
     },
     "execution_count": 244,
     "metadata": {},
     "output_type": "execute_result"
    }
   ],
   "source": [
    "Draw.MolToImage(fp2, size=(200, 200), kekulize=False)"
   ]
  },
  {
   "cell_type": "markdown",
   "metadata": {},
   "source": [
    "Literally the same fingerprint setting just rotated, I don't know how this is referred to in chemical terms."
   ]
  },
  {
   "cell_type": "code",
   "execution_count": 280,
   "metadata": {},
   "outputs": [
    {
     "data": {
      "image/svg+xml": [
       "<svg baseProfile=\"full\" height=\"150px\" version=\"1.1\" width=\"150px\" xml:space=\"preserve\" xmlns=\"http://www.w3.org/2000/svg\" xmlns:rdkit=\"http://www.rdkit.org/xml\" xmlns:xlink=\"http://www.w3.org/1999/xlink\">\n",
       "<rect height=\"150\" style=\"opacity:1.0;fill:#FFFFFF;stroke:none\" width=\"150\" x=\"0\" y=\"0\"> </rect>\n",
       "<ellipse cx=\"90.7551\" cy=\"123.623\" rx=\"3.93329\" ry=\"3.93329\" style=\"fill:#E5E533;fill-rule:evenodd;stroke:#E5E533;stroke-width:2px;stroke-linecap:butt;stroke-linejoin:miter;stroke-opacity:1\"/>\n",
       "<ellipse cx=\"108.721\" cy=\"115.624\" rx=\"3.93329\" ry=\"3.93329\" style=\"fill:#E5E533;fill-rule:evenodd;stroke:#E5E533;stroke-width:2px;stroke-linecap:butt;stroke-linejoin:miter;stroke-opacity:1\"/>\n",
       "<ellipse cx=\"57.9292\" cy=\"109.008\" rx=\"3.93329\" ry=\"3.93329\" style=\"fill:#E5E533;fill-rule:evenodd;stroke:#E5E533;stroke-width:2px;stroke-linecap:butt;stroke-linejoin:miter;stroke-opacity:1\"/>\n",
       "<ellipse cx=\"87.4289\" cy=\"23.8498\" rx=\"3.93329\" ry=\"3.93329\" style=\"fill:#E5E533;fill-rule:evenodd;stroke:#E5E533;stroke-width:2px;stroke-linecap:butt;stroke-linejoin:miter;stroke-opacity:1\"/>\n",
       "<ellipse cx=\"57.9292\" cy=\"40.8815\" rx=\"3.93329\" ry=\"3.93329\" style=\"fill:#E5E533;fill-rule:evenodd;stroke:#E5E533;stroke-width:2px;stroke-linecap:butt;stroke-linejoin:miter;stroke-opacity:1\"/>\n",
       "<ellipse cx=\"28.8593\" cy=\"96.0653\" rx=\"3.93329\" ry=\"3.93329\" style=\"fill:#E5E533;fill-rule:evenodd;stroke:#E5E533;stroke-width:2px;stroke-linecap:butt;stroke-linejoin:miter;stroke-opacity:1\"/>\n",
       "<ellipse cx=\"87.4289\" cy=\"91.9764\" rx=\"3.93329\" ry=\"3.93329\" style=\"fill:#E5E533;fill-rule:evenodd;stroke:#E5E533;stroke-width:2px;stroke-linecap:butt;stroke-linejoin:miter;stroke-opacity:1\"/>\n",
       "<ellipse cx=\"77.5957\" cy=\"74.9448\" rx=\"3.93329\" ry=\"3.93329\" style=\"fill:#9999E5;fill-rule:evenodd;stroke:#9999E5;stroke-width:2px;stroke-linecap:butt;stroke-linejoin:miter;stroke-opacity:1\"/>\n",
       "<ellipse cx=\"87.4289\" cy=\"57.9131\" rx=\"3.93329\" ry=\"3.93329\" style=\"fill:#E5E533;fill-rule:evenodd;stroke:#E5E533;stroke-width:2px;stroke-linecap:butt;stroke-linejoin:miter;stroke-opacity:1\"/>\n",
       "<ellipse cx=\"57.9292\" cy=\"74.9448\" rx=\"3.93329\" ry=\"3.93329\" style=\"fill:#E5E533;fill-rule:evenodd;stroke:#E5E533;stroke-width:2px;stroke-linecap:butt;stroke-linejoin:miter;stroke-opacity:1\"/>\n",
       "<ellipse cx=\"106.666\" cy=\"96.0653\" rx=\"3.93329\" ry=\"3.93329\" style=\"fill:#E5E533;fill-rule:evenodd;stroke:#E5E533;stroke-width:2px;stroke-linecap:butt;stroke-linejoin:miter;stroke-opacity:1\"/>\n",
       "<ellipse cx=\"77.5957\" cy=\"109.008\" rx=\"3.93329\" ry=\"3.93329\" style=\"fill:#E5E533;fill-rule:evenodd;stroke:#E5E533;stroke-width:2px;stroke-linecap:butt;stroke-linejoin:miter;stroke-opacity:1\"/>\n",
       "<ellipse cx=\"77.5957\" cy=\"40.8815\" rx=\"3.93329\" ry=\"3.93329\" style=\"fill:#E5E533;fill-rule:evenodd;stroke:#E5E533;stroke-width:2px;stroke-linecap:butt;stroke-linejoin:miter;stroke-opacity:1\"/>\n",
       "<ellipse cx=\"48.096\" cy=\"57.9131\" rx=\"3.93329\" ry=\"3.93329\" style=\"fill:#E5E533;fill-rule:evenodd;stroke:#E5E533;stroke-width:2px;stroke-linecap:butt;stroke-linejoin:miter;stroke-opacity:1\"/>\n",
       "<ellipse cx=\"48.096\" cy=\"91.9764\" rx=\"3.93329\" ry=\"3.93329\" style=\"fill:#E5E533;fill-rule:evenodd;stroke:#E5E533;stroke-width:2px;stroke-linecap:butt;stroke-linejoin:miter;stroke-opacity:1\"/>\n",
       "<path d=\"M 89.0439,139.904 90.7551,123.623\" style=\"fill:none;fill-rule:evenodd;stroke:#E5E5E5;stroke-width:4px;stroke-linecap:butt;stroke-linejoin:miter;stroke-opacity:1\"/>\n",
       "<path d=\"M 93.2123,137.873 94.4102,126.476\" style=\"fill:none;fill-rule:evenodd;stroke:#E5E5E5;stroke-width:4px;stroke-linecap:butt;stroke-linejoin:miter;stroke-opacity:1;stroke-dasharray:6,6\"/>\n",
       "<path d=\"M 90.7551,123.623 108.721,115.624\" style=\"fill:none;fill-rule:evenodd;stroke:#E5E5E5;stroke-width:4px;stroke-linecap:butt;stroke-linejoin:miter;stroke-opacity:1\"/>\n",
       "<path d=\"M 91.8502,118.83 104.427,113.231\" style=\"fill:none;fill-rule:evenodd;stroke:#E5E5E5;stroke-width:4px;stroke-linecap:butt;stroke-linejoin:miter;stroke-opacity:1;stroke-dasharray:6,6\"/>\n",
       "<path d=\"M 90.7551,123.623 77.5957,109.008\" style=\"fill:none;fill-rule:evenodd;stroke:#000000;stroke-width:2px;stroke-linecap:butt;stroke-linejoin:miter;stroke-opacity:1\"/>\n",
       "<path d=\"M 85.8582,124.063 76.6466,113.832\" style=\"fill:none;fill-rule:evenodd;stroke:#000000;stroke-width:2px;stroke-linecap:butt;stroke-linejoin:miter;stroke-opacity:1;stroke-dasharray:6,6\"/>\n",
       "<path d=\"M 108.721,115.624 123.101,126.072\" style=\"fill:none;fill-rule:evenodd;stroke:#E5E5E5;stroke-width:4px;stroke-linecap:butt;stroke-linejoin:miter;stroke-opacity:1\"/>\n",
       "<path d=\"M 108.566,120.373 118.632,127.687\" style=\"fill:none;fill-rule:evenodd;stroke:#E5E5E5;stroke-width:4px;stroke-linecap:butt;stroke-linejoin:miter;stroke-opacity:1;stroke-dasharray:6,6\"/>\n",
       "<path d=\"M 108.721,115.624 107.866,107.484\" style=\"fill:none;fill-rule:evenodd;stroke:#000000;stroke-width:2px;stroke-linecap:butt;stroke-linejoin:miter;stroke-opacity:1\"/>\n",
       "<path d=\"M 107.866,107.484 107.01,99.3431\" style=\"fill:none;fill-rule:evenodd;stroke:#0000FF;stroke-width:2px;stroke-linecap:butt;stroke-linejoin:miter;stroke-opacity:1\"/>\n",
       "<path d=\"M 104.553,113.593 103.954,107.895\" style=\"fill:none;fill-rule:evenodd;stroke:#000000;stroke-width:2px;stroke-linecap:butt;stroke-linejoin:miter;stroke-opacity:1;stroke-dasharray:6,6\"/>\n",
       "<path d=\"M 103.954,107.895 103.355,102.196\" style=\"fill:none;fill-rule:evenodd;stroke:#0000FF;stroke-width:2px;stroke-linecap:butt;stroke-linejoin:miter;stroke-opacity:1;stroke-dasharray:6,6\"/>\n",
       "<path d=\"M 46.3005,121.923 57.9292,109.008\" style=\"fill:none;fill-rule:evenodd;stroke:#E5E5E5;stroke-width:4px;stroke-linecap:butt;stroke-linejoin:miter;stroke-opacity:1\"/>\n",
       "<path d=\"M 50.9678,122.618 59.1079,113.577\" style=\"fill:none;fill-rule:evenodd;stroke:#E5E5E5;stroke-width:4px;stroke-linecap:butt;stroke-linejoin:miter;stroke-opacity:1;stroke-dasharray:6,6\"/>\n",
       "<path d=\"M 57.9292,109.008 77.5957,109.008\" style=\"fill:none;fill-rule:evenodd;stroke:#000000;stroke-width:2px;stroke-linecap:butt;stroke-linejoin:miter;stroke-opacity:1\"/>\n",
       "<path d=\"M 60.8792,105.075 74.6457,105.075\" style=\"fill:none;fill-rule:evenodd;stroke:#000000;stroke-width:2px;stroke-linecap:butt;stroke-linejoin:miter;stroke-opacity:1;stroke-dasharray:6,6\"/>\n",
       "<path d=\"M 57.9292,109.008 48.096,91.9764\" style=\"fill:none;fill-rule:evenodd;stroke:#000000;stroke-width:2px;stroke-linecap:butt;stroke-linejoin:miter;stroke-opacity:1\"/>\n",
       "<path d=\"M 59.8606,104.487 52.9773,92.5645\" style=\"fill:none;fill-rule:evenodd;stroke:#000000;stroke-width:2px;stroke-linecap:butt;stroke-linejoin:miter;stroke-opacity:1;stroke-dasharray:6,6\"/>\n",
       "<path d=\"M 87.4289,23.8498 79.1263,9.46937\" style=\"fill:none;fill-rule:evenodd;stroke:#E5E5E5;stroke-width:4px;stroke-linecap:butt;stroke-linejoin:miter;stroke-opacity:1\"/>\n",
       "<path d=\"M 82.7772,23.6594 76.9654,13.5931\" style=\"fill:none;fill-rule:evenodd;stroke:#E5E5E5;stroke-width:4px;stroke-linecap:butt;stroke-linejoin:miter;stroke-opacity:1;stroke-dasharray:6,6\"/>\n",
       "<path d=\"M 87.4289,23.8498 77.5957,40.8815\" style=\"fill:none;fill-rule:evenodd;stroke:#000000;stroke-width:2px;stroke-linecap:butt;stroke-linejoin:miter;stroke-opacity:1\"/>\n",
       "<path d=\"M 89.3602,28.3712 82.477,40.2934\" style=\"fill:none;fill-rule:evenodd;stroke:#000000;stroke-width:2px;stroke-linecap:butt;stroke-linejoin:miter;stroke-opacity:1;stroke-dasharray:6,6\"/>\n",
       "<path d=\"M 49.6267,26.501 57.9292,40.8815\" style=\"fill:none;fill-rule:evenodd;stroke:#E5E5E5;stroke-width:4px;stroke-linecap:butt;stroke-linejoin:miter;stroke-opacity:1\"/>\n",
       "<path d=\"M 54.2784,26.6914 60.0902,36.7578\" style=\"fill:none;fill-rule:evenodd;stroke:#E5E5E5;stroke-width:4px;stroke-linecap:butt;stroke-linejoin:miter;stroke-opacity:1;stroke-dasharray:6,6\"/>\n",
       "<path d=\"M 57.9292,40.8815 77.5957,40.8815\" style=\"fill:none;fill-rule:evenodd;stroke:#000000;stroke-width:2px;stroke-linecap:butt;stroke-linejoin:miter;stroke-opacity:1\"/>\n",
       "<path d=\"M 60.8792,44.8148 74.6457,44.8148\" style=\"fill:none;fill-rule:evenodd;stroke:#000000;stroke-width:2px;stroke-linecap:butt;stroke-linejoin:miter;stroke-opacity:1;stroke-dasharray:6,6\"/>\n",
       "<path d=\"M 57.9292,40.8815 48.096,57.9131\" style=\"fill:none;fill-rule:evenodd;stroke:#000000;stroke-width:2px;stroke-linecap:butt;stroke-linejoin:miter;stroke-opacity:1\"/>\n",
       "<path d=\"M 59.8606,45.4029 52.9773,57.325\" style=\"fill:none;fill-rule:evenodd;stroke:#000000;stroke-width:2px;stroke-linecap:butt;stroke-linejoin:miter;stroke-opacity:1;stroke-dasharray:6,6\"/>\n",
       "<path d=\"M 28.5148,99.3431 27.1481,112.346\" style=\"fill:none;fill-rule:evenodd;stroke:#E5E5E5;stroke-width:4px;stroke-linecap:butt;stroke-linejoin:miter;stroke-opacity:1\"/>\n",
       "<path d=\"M 32.2215,101.705 31.2648,110.807\" style=\"fill:none;fill-rule:evenodd;stroke:#E5E5E5;stroke-width:4px;stroke-linecap:butt;stroke-linejoin:miter;stroke-opacity:1;stroke-dasharray:6,6\"/>\n",
       "<path d=\"M 34.5412,94.8576 41.3186,93.417\" style=\"fill:none;fill-rule:evenodd;stroke:#0000FF;stroke-width:2px;stroke-linecap:butt;stroke-linejoin:miter;stroke-opacity:1\"/>\n",
       "<path d=\"M 41.3186,93.417 48.096,91.9764\" style=\"fill:none;fill-rule:evenodd;stroke:#000000;stroke-width:2px;stroke-linecap:butt;stroke-linejoin:miter;stroke-opacity:1\"/>\n",
       "<path d=\"M 35.7567,90.5781 40.5008,89.5697\" style=\"fill:none;fill-rule:evenodd;stroke:#0000FF;stroke-width:2px;stroke-linecap:butt;stroke-linejoin:miter;stroke-opacity:1;stroke-dasharray:6,6\"/>\n",
       "<path d=\"M 40.5008,89.5697 45.245,88.5613\" style=\"fill:none;fill-rule:evenodd;stroke:#000000;stroke-width:2px;stroke-linecap:butt;stroke-linejoin:miter;stroke-opacity:1;stroke-dasharray:6,6\"/>\n",
       "<path d=\"M 87.4289,91.9764 77.5957,74.9448\" style=\"fill:none;fill-rule:evenodd;stroke:#000000;stroke-width:2px;stroke-linecap:butt;stroke-linejoin:miter;stroke-opacity:1\"/>\n",
       "<path d=\"M 89.3602,87.455 82.477,75.5329\" style=\"fill:none;fill-rule:evenodd;stroke:#000000;stroke-width:2px;stroke-linecap:butt;stroke-linejoin:miter;stroke-opacity:1;stroke-dasharray:6,6\"/>\n",
       "<path d=\"M 87.4289,91.9764 94.2063,93.417\" style=\"fill:none;fill-rule:evenodd;stroke:#000000;stroke-width:2px;stroke-linecap:butt;stroke-linejoin:miter;stroke-opacity:1\"/>\n",
       "<path d=\"M 94.2063,93.417 100.984,94.8576\" style=\"fill:none;fill-rule:evenodd;stroke:#0000FF;stroke-width:2px;stroke-linecap:butt;stroke-linejoin:miter;stroke-opacity:1\"/>\n",
       "<path d=\"M 88.6443,96.2559 93.3885,97.2643\" style=\"fill:none;fill-rule:evenodd;stroke:#000000;stroke-width:2px;stroke-linecap:butt;stroke-linejoin:miter;stroke-opacity:1;stroke-dasharray:6,6\"/>\n",
       "<path d=\"M 93.3885,97.2643 98.1327,98.2727\" style=\"fill:none;fill-rule:evenodd;stroke:#0000FF;stroke-width:2px;stroke-linecap:butt;stroke-linejoin:miter;stroke-opacity:1;stroke-dasharray:6,6\"/>\n",
       "<path d=\"M 87.4289,91.9764 77.5957,109.008\" style=\"fill:none;fill-rule:evenodd;stroke:#000000;stroke-width:2px;stroke-linecap:butt;stroke-linejoin:miter;stroke-opacity:1\"/>\n",
       "<path d=\"M 82.5476,92.5645 75.6643,104.487\" style=\"fill:none;fill-rule:evenodd;stroke:#000000;stroke-width:2px;stroke-linecap:butt;stroke-linejoin:miter;stroke-opacity:1;stroke-dasharray:6,6\"/>\n",
       "<path d=\"M 77.5957,74.9448 87.4289,57.9131\" style=\"fill:none;fill-rule:evenodd;stroke:#000000;stroke-width:2px;stroke-linecap:butt;stroke-linejoin:miter;stroke-opacity:1\"/>\n",
       "<path d=\"M 82.477,74.3567 89.3602,62.4345\" style=\"fill:none;fill-rule:evenodd;stroke:#000000;stroke-width:2px;stroke-linecap:butt;stroke-linejoin:miter;stroke-opacity:1;stroke-dasharray:6,6\"/>\n",
       "<path d=\"M 77.5957,74.9448 57.9292,74.9448\" style=\"fill:none;fill-rule:evenodd;stroke:#000000;stroke-width:2px;stroke-linecap:butt;stroke-linejoin:miter;stroke-opacity:1\"/>\n",
       "<path d=\"M 74.6457,71.0115 60.8792,71.0115\" style=\"fill:none;fill-rule:evenodd;stroke:#000000;stroke-width:2px;stroke-linecap:butt;stroke-linejoin:miter;stroke-opacity:1;stroke-dasharray:6,6\"/>\n",
       "<path d=\"M 87.4289,59.8798 95.7315,59.8798\" style=\"fill:none;fill-rule:evenodd;stroke:#000000;stroke-width:2px;stroke-linecap:butt;stroke-linejoin:miter;stroke-opacity:1\"/>\n",
       "<path d=\"M 95.7315,59.8798 104.034,59.8798\" style=\"fill:none;fill-rule:evenodd;stroke:#FF0000;stroke-width:2px;stroke-linecap:butt;stroke-linejoin:miter;stroke-opacity:1\"/>\n",
       "<path d=\"M 87.4289,55.9465 95.7315,55.9465\" style=\"fill:none;fill-rule:evenodd;stroke:#000000;stroke-width:2px;stroke-linecap:butt;stroke-linejoin:miter;stroke-opacity:1\"/>\n",
       "<path d=\"M 95.7315,55.9465 104.034,55.9465\" style=\"fill:none;fill-rule:evenodd;stroke:#FF0000;stroke-width:2px;stroke-linecap:butt;stroke-linejoin:miter;stroke-opacity:1\"/>\n",
       "<path d=\"M 87.4289,57.9131 77.5957,40.8815\" style=\"fill:none;fill-rule:evenodd;stroke:#000000;stroke-width:2px;stroke-linecap:butt;stroke-linejoin:miter;stroke-opacity:1\"/>\n",
       "<path d=\"M 82.5476,57.325 75.6643,45.4029\" style=\"fill:none;fill-rule:evenodd;stroke:#000000;stroke-width:2px;stroke-linecap:butt;stroke-linejoin:miter;stroke-opacity:1;stroke-dasharray:6,6\"/>\n",
       "<path d=\"M 57.9292,74.9448 48.096,57.9131\" style=\"fill:none;fill-rule:evenodd;stroke:#000000;stroke-width:2px;stroke-linecap:butt;stroke-linejoin:miter;stroke-opacity:1\"/>\n",
       "<path d=\"M 59.8606,70.4234 52.9773,58.5012\" style=\"fill:none;fill-rule:evenodd;stroke:#000000;stroke-width:2px;stroke-linecap:butt;stroke-linejoin:miter;stroke-opacity:1;stroke-dasharray:6,6\"/>\n",
       "<path d=\"M 57.9292,74.9448 48.096,91.9764\" style=\"fill:none;fill-rule:evenodd;stroke:#000000;stroke-width:2px;stroke-linecap:butt;stroke-linejoin:miter;stroke-opacity:1\"/>\n",
       "<path d=\"M 53.0479,75.5329 46.1646,87.455\" style=\"fill:none;fill-rule:evenodd;stroke:#000000;stroke-width:2px;stroke-linecap:butt;stroke-linejoin:miter;stroke-opacity:1;stroke-dasharray:6,6\"/>\n",
       "<path d=\"M 48.096,55.9465 39.7934,55.9465\" style=\"fill:none;fill-rule:evenodd;stroke:#000000;stroke-width:2px;stroke-linecap:butt;stroke-linejoin:miter;stroke-opacity:1\"/>\n",
       "<path d=\"M 39.7934,55.9465 31.4909,55.9465\" style=\"fill:none;fill-rule:evenodd;stroke:#FF0000;stroke-width:2px;stroke-linecap:butt;stroke-linejoin:miter;stroke-opacity:1\"/>\n",
       "<path d=\"M 48.096,59.8798 39.7934,59.8798\" style=\"fill:none;fill-rule:evenodd;stroke:#000000;stroke-width:2px;stroke-linecap:butt;stroke-linejoin:miter;stroke-opacity:1\"/>\n",
       "<path d=\"M 39.7934,59.8798 31.4909,59.8798\" style=\"fill:none;fill-rule:evenodd;stroke:#FF0000;stroke-width:2px;stroke-linecap:butt;stroke-linejoin:miter;stroke-opacity:1\"/>\n",
       "<text style=\"font-size:6px;font-style:normal;font-weight:normal;fill-opacity:1;stroke:none;font-family:sans-serif;text-anchor:start;fill:#7F7F7F\" x=\"87.1687\" y=\"146.46\"><tspan>*</tspan></text>\n",
       "<text style=\"font-size:6px;font-style:normal;font-weight:normal;fill-opacity:1;stroke:none;font-family:sans-serif;text-anchor:start;fill:#7F7F7F\" x=\"43.2391\" y=\"126.901\"><tspan>*</tspan></text>\n",
       "<text style=\"font-size:6px;font-style:normal;font-weight:normal;fill-opacity:1;stroke:none;font-family:sans-serif;text-anchor:start;fill:#7F7F7F\" x=\"123.101\" y=\"130.461\"><tspan>*</tspan></text>\n",
       "<text style=\"font-size:6px;font-style:normal;font-weight:normal;fill-opacity:1;stroke:none;font-family:sans-serif;text-anchor:start;fill:#7F7F7F\" x=\"76.065\" y=\"10.0959\"><tspan>*</tspan></text>\n",
       "<text style=\"font-size:6px;font-style:normal;font-weight:normal;fill-opacity:1;stroke:none;font-family:sans-serif;text-anchor:start;fill:#7F7F7F\" x=\"46.5653\" y=\"27.1276\"><tspan>*</tspan></text>\n",
       "<text style=\"font-size:6px;font-style:normal;font-weight:normal;fill-opacity:1;stroke:none;font-family:sans-serif;text-anchor:start;fill:#0000FF\" x=\"23.1773\" y=\"99.3431\"><tspan>NH</tspan></text>\n",
       "<text style=\"font-size:6px;font-style:normal;font-weight:normal;fill-opacity:1;stroke:none;font-family:sans-serif;text-anchor:start;fill:#7F7F7F\" x=\"25.2729\" y=\"118.902\"><tspan>*</tspan></text>\n",
       "<text style=\"font-size:6px;font-style:normal;font-weight:normal;fill-opacity:1;stroke:none;font-family:sans-serif;text-anchor:start;fill:#0000FF\" x=\"100.984\" y=\"99.3431\"><tspan>NH</tspan></text>\n",
       "<text style=\"font-size:6px;font-style:normal;font-weight:normal;fill-opacity:1;stroke:none;font-family:sans-serif;text-anchor:start;fill:#FF0000\" x=\"104.034\" y=\"61.1909\"><tspan>O</tspan></text>\n",
       "<text style=\"font-size:6px;font-style:normal;font-weight:normal;fill-opacity:1;stroke:none;font-family:sans-serif;text-anchor:start;fill:#FF0000\" x=\"25.3682\" y=\"61.1909\"><tspan>O</tspan></text>\n",
       "</svg>"
      ],
      "text/plain": [
       "<IPython.core.display.SVG object>"
      ]
     },
     "metadata": {},
     "output_type": "display_data"
    }
   ],
   "source": [
    "display(SVG(Draw.DrawMorganBit(refmol, 290, info_dicts[0], whichExample=1)))"
   ]
  },
  {
   "cell_type": "markdown",
   "metadata": {},
   "source": [
    "Again how the environment is no different to the fingerprints."
   ]
  },
  {
   "cell_type": "code",
   "execution_count": 285,
   "metadata": {},
   "outputs": [
    {
     "data": {
      "image/svg+xml": [
       "<svg baseProfile=\"full\" height=\"150px\" version=\"1.1\" width=\"150px\" xml:space=\"preserve\" xmlns=\"http://www.w3.org/2000/svg\" xmlns:rdkit=\"http://www.rdkit.org/xml\" xmlns:xlink=\"http://www.w3.org/1999/xlink\">\n",
       "<rect height=\"150\" style=\"opacity:1.0;fill:#FFFFFF;stroke:none\" width=\"150\" x=\"0\" y=\"0\"> </rect>\n",
       "<ellipse cx=\"90.7551\" cy=\"123.623\" rx=\"3.93329\" ry=\"3.93329\" style=\"fill:#E5E533;fill-rule:evenodd;stroke:#E5E533;stroke-width:2px;stroke-linecap:butt;stroke-linejoin:miter;stroke-opacity:1\"/>\n",
       "<ellipse cx=\"108.721\" cy=\"115.624\" rx=\"3.93329\" ry=\"3.93329\" style=\"fill:#E5E533;fill-rule:evenodd;stroke:#E5E533;stroke-width:2px;stroke-linecap:butt;stroke-linejoin:miter;stroke-opacity:1\"/>\n",
       "<ellipse cx=\"57.9292\" cy=\"109.008\" rx=\"3.93329\" ry=\"3.93329\" style=\"fill:#E5E533;fill-rule:evenodd;stroke:#E5E533;stroke-width:2px;stroke-linecap:butt;stroke-linejoin:miter;stroke-opacity:1\"/>\n",
       "<ellipse cx=\"87.4289\" cy=\"23.8498\" rx=\"3.93329\" ry=\"3.93329\" style=\"fill:#E5E533;fill-rule:evenodd;stroke:#E5E533;stroke-width:2px;stroke-linecap:butt;stroke-linejoin:miter;stroke-opacity:1\"/>\n",
       "<ellipse cx=\"57.9292\" cy=\"40.8815\" rx=\"3.93329\" ry=\"3.93329\" style=\"fill:#E5E533;fill-rule:evenodd;stroke:#E5E533;stroke-width:2px;stroke-linecap:butt;stroke-linejoin:miter;stroke-opacity:1\"/>\n",
       "<ellipse cx=\"28.8593\" cy=\"96.0653\" rx=\"3.93329\" ry=\"3.93329\" style=\"fill:#E5E533;fill-rule:evenodd;stroke:#E5E533;stroke-width:2px;stroke-linecap:butt;stroke-linejoin:miter;stroke-opacity:1\"/>\n",
       "<ellipse cx=\"87.4289\" cy=\"91.9764\" rx=\"3.93329\" ry=\"3.93329\" style=\"fill:#E5E533;fill-rule:evenodd;stroke:#E5E533;stroke-width:2px;stroke-linecap:butt;stroke-linejoin:miter;stroke-opacity:1\"/>\n",
       "<ellipse cx=\"77.5957\" cy=\"74.9448\" rx=\"3.93329\" ry=\"3.93329\" style=\"fill:#9999E5;fill-rule:evenodd;stroke:#9999E5;stroke-width:2px;stroke-linecap:butt;stroke-linejoin:miter;stroke-opacity:1\"/>\n",
       "<ellipse cx=\"87.4289\" cy=\"57.9131\" rx=\"3.93329\" ry=\"3.93329\" style=\"fill:#E5E533;fill-rule:evenodd;stroke:#E5E533;stroke-width:2px;stroke-linecap:butt;stroke-linejoin:miter;stroke-opacity:1\"/>\n",
       "<ellipse cx=\"57.9292\" cy=\"74.9448\" rx=\"3.93329\" ry=\"3.93329\" style=\"fill:#E5E533;fill-rule:evenodd;stroke:#E5E533;stroke-width:2px;stroke-linecap:butt;stroke-linejoin:miter;stroke-opacity:1\"/>\n",
       "<ellipse cx=\"106.666\" cy=\"96.0653\" rx=\"3.93329\" ry=\"3.93329\" style=\"fill:#E5E533;fill-rule:evenodd;stroke:#E5E533;stroke-width:2px;stroke-linecap:butt;stroke-linejoin:miter;stroke-opacity:1\"/>\n",
       "<ellipse cx=\"77.5957\" cy=\"109.008\" rx=\"3.93329\" ry=\"3.93329\" style=\"fill:#E5E533;fill-rule:evenodd;stroke:#E5E533;stroke-width:2px;stroke-linecap:butt;stroke-linejoin:miter;stroke-opacity:1\"/>\n",
       "<ellipse cx=\"77.5957\" cy=\"40.8815\" rx=\"3.93329\" ry=\"3.93329\" style=\"fill:#E5E533;fill-rule:evenodd;stroke:#E5E533;stroke-width:2px;stroke-linecap:butt;stroke-linejoin:miter;stroke-opacity:1\"/>\n",
       "<ellipse cx=\"48.096\" cy=\"57.9131\" rx=\"3.93329\" ry=\"3.93329\" style=\"fill:#E5E533;fill-rule:evenodd;stroke:#E5E533;stroke-width:2px;stroke-linecap:butt;stroke-linejoin:miter;stroke-opacity:1\"/>\n",
       "<ellipse cx=\"48.096\" cy=\"91.9764\" rx=\"3.93329\" ry=\"3.93329\" style=\"fill:#E5E533;fill-rule:evenodd;stroke:#E5E533;stroke-width:2px;stroke-linecap:butt;stroke-linejoin:miter;stroke-opacity:1\"/>\n",
       "<path d=\"M 89.0439,139.904 90.7551,123.623\" style=\"fill:none;fill-rule:evenodd;stroke:#E5E5E5;stroke-width:4px;stroke-linecap:butt;stroke-linejoin:miter;stroke-opacity:1\"/>\n",
       "<path d=\"M 93.2123,137.873 94.4102,126.476\" style=\"fill:none;fill-rule:evenodd;stroke:#E5E5E5;stroke-width:4px;stroke-linecap:butt;stroke-linejoin:miter;stroke-opacity:1;stroke-dasharray:6,6\"/>\n",
       "<path d=\"M 90.7551,123.623 108.721,115.624\" style=\"fill:none;fill-rule:evenodd;stroke:#E5E5E5;stroke-width:4px;stroke-linecap:butt;stroke-linejoin:miter;stroke-opacity:1\"/>\n",
       "<path d=\"M 91.8502,118.83 104.427,113.231\" style=\"fill:none;fill-rule:evenodd;stroke:#E5E5E5;stroke-width:4px;stroke-linecap:butt;stroke-linejoin:miter;stroke-opacity:1;stroke-dasharray:6,6\"/>\n",
       "<path d=\"M 90.7551,123.623 77.5957,109.008\" style=\"fill:none;fill-rule:evenodd;stroke:#000000;stroke-width:2px;stroke-linecap:butt;stroke-linejoin:miter;stroke-opacity:1\"/>\n",
       "<path d=\"M 85.8582,124.063 76.6466,113.832\" style=\"fill:none;fill-rule:evenodd;stroke:#000000;stroke-width:2px;stroke-linecap:butt;stroke-linejoin:miter;stroke-opacity:1;stroke-dasharray:6,6\"/>\n",
       "<path d=\"M 108.721,115.624 123.101,126.072\" style=\"fill:none;fill-rule:evenodd;stroke:#E5E5E5;stroke-width:4px;stroke-linecap:butt;stroke-linejoin:miter;stroke-opacity:1\"/>\n",
       "<path d=\"M 108.566,120.373 118.632,127.687\" style=\"fill:none;fill-rule:evenodd;stroke:#E5E5E5;stroke-width:4px;stroke-linecap:butt;stroke-linejoin:miter;stroke-opacity:1;stroke-dasharray:6,6\"/>\n",
       "<path d=\"M 108.721,115.624 107.866,107.484\" style=\"fill:none;fill-rule:evenodd;stroke:#000000;stroke-width:2px;stroke-linecap:butt;stroke-linejoin:miter;stroke-opacity:1\"/>\n",
       "<path d=\"M 107.866,107.484 107.01,99.3431\" style=\"fill:none;fill-rule:evenodd;stroke:#0000FF;stroke-width:2px;stroke-linecap:butt;stroke-linejoin:miter;stroke-opacity:1\"/>\n",
       "<path d=\"M 104.553,113.593 103.954,107.895\" style=\"fill:none;fill-rule:evenodd;stroke:#000000;stroke-width:2px;stroke-linecap:butt;stroke-linejoin:miter;stroke-opacity:1;stroke-dasharray:6,6\"/>\n",
       "<path d=\"M 103.954,107.895 103.355,102.196\" style=\"fill:none;fill-rule:evenodd;stroke:#0000FF;stroke-width:2px;stroke-linecap:butt;stroke-linejoin:miter;stroke-opacity:1;stroke-dasharray:6,6\"/>\n",
       "<path d=\"M 46.3005,121.923 57.9292,109.008\" style=\"fill:none;fill-rule:evenodd;stroke:#E5E5E5;stroke-width:4px;stroke-linecap:butt;stroke-linejoin:miter;stroke-opacity:1\"/>\n",
       "<path d=\"M 50.9678,122.618 59.1079,113.577\" style=\"fill:none;fill-rule:evenodd;stroke:#E5E5E5;stroke-width:4px;stroke-linecap:butt;stroke-linejoin:miter;stroke-opacity:1;stroke-dasharray:6,6\"/>\n",
       "<path d=\"M 57.9292,109.008 77.5957,109.008\" style=\"fill:none;fill-rule:evenodd;stroke:#000000;stroke-width:2px;stroke-linecap:butt;stroke-linejoin:miter;stroke-opacity:1\"/>\n",
       "<path d=\"M 60.8792,105.075 74.6457,105.075\" style=\"fill:none;fill-rule:evenodd;stroke:#000000;stroke-width:2px;stroke-linecap:butt;stroke-linejoin:miter;stroke-opacity:1;stroke-dasharray:6,6\"/>\n",
       "<path d=\"M 57.9292,109.008 48.096,91.9764\" style=\"fill:none;fill-rule:evenodd;stroke:#000000;stroke-width:2px;stroke-linecap:butt;stroke-linejoin:miter;stroke-opacity:1\"/>\n",
       "<path d=\"M 59.8606,104.487 52.9773,92.5645\" style=\"fill:none;fill-rule:evenodd;stroke:#000000;stroke-width:2px;stroke-linecap:butt;stroke-linejoin:miter;stroke-opacity:1;stroke-dasharray:6,6\"/>\n",
       "<path d=\"M 87.4289,23.8498 79.1263,9.46937\" style=\"fill:none;fill-rule:evenodd;stroke:#E5E5E5;stroke-width:4px;stroke-linecap:butt;stroke-linejoin:miter;stroke-opacity:1\"/>\n",
       "<path d=\"M 82.7772,23.6594 76.9654,13.5931\" style=\"fill:none;fill-rule:evenodd;stroke:#E5E5E5;stroke-width:4px;stroke-linecap:butt;stroke-linejoin:miter;stroke-opacity:1;stroke-dasharray:6,6\"/>\n",
       "<path d=\"M 87.4289,23.8498 77.5957,40.8815\" style=\"fill:none;fill-rule:evenodd;stroke:#000000;stroke-width:2px;stroke-linecap:butt;stroke-linejoin:miter;stroke-opacity:1\"/>\n",
       "<path d=\"M 89.3602,28.3712 82.477,40.2934\" style=\"fill:none;fill-rule:evenodd;stroke:#000000;stroke-width:2px;stroke-linecap:butt;stroke-linejoin:miter;stroke-opacity:1;stroke-dasharray:6,6\"/>\n",
       "<path d=\"M 49.6267,26.501 57.9292,40.8815\" style=\"fill:none;fill-rule:evenodd;stroke:#E5E5E5;stroke-width:4px;stroke-linecap:butt;stroke-linejoin:miter;stroke-opacity:1\"/>\n",
       "<path d=\"M 54.2784,26.6914 60.0902,36.7578\" style=\"fill:none;fill-rule:evenodd;stroke:#E5E5E5;stroke-width:4px;stroke-linecap:butt;stroke-linejoin:miter;stroke-opacity:1;stroke-dasharray:6,6\"/>\n",
       "<path d=\"M 57.9292,40.8815 77.5957,40.8815\" style=\"fill:none;fill-rule:evenodd;stroke:#000000;stroke-width:2px;stroke-linecap:butt;stroke-linejoin:miter;stroke-opacity:1\"/>\n",
       "<path d=\"M 60.8792,44.8148 74.6457,44.8148\" style=\"fill:none;fill-rule:evenodd;stroke:#000000;stroke-width:2px;stroke-linecap:butt;stroke-linejoin:miter;stroke-opacity:1;stroke-dasharray:6,6\"/>\n",
       "<path d=\"M 57.9292,40.8815 48.096,57.9131\" style=\"fill:none;fill-rule:evenodd;stroke:#000000;stroke-width:2px;stroke-linecap:butt;stroke-linejoin:miter;stroke-opacity:1\"/>\n",
       "<path d=\"M 59.8606,45.4029 52.9773,57.325\" style=\"fill:none;fill-rule:evenodd;stroke:#000000;stroke-width:2px;stroke-linecap:butt;stroke-linejoin:miter;stroke-opacity:1;stroke-dasharray:6,6\"/>\n",
       "<path d=\"M 28.5148,99.3431 27.1481,112.346\" style=\"fill:none;fill-rule:evenodd;stroke:#E5E5E5;stroke-width:4px;stroke-linecap:butt;stroke-linejoin:miter;stroke-opacity:1\"/>\n",
       "<path d=\"M 32.2215,101.705 31.2648,110.807\" style=\"fill:none;fill-rule:evenodd;stroke:#E5E5E5;stroke-width:4px;stroke-linecap:butt;stroke-linejoin:miter;stroke-opacity:1;stroke-dasharray:6,6\"/>\n",
       "<path d=\"M 34.5412,94.8576 41.3186,93.417\" style=\"fill:none;fill-rule:evenodd;stroke:#0000FF;stroke-width:2px;stroke-linecap:butt;stroke-linejoin:miter;stroke-opacity:1\"/>\n",
       "<path d=\"M 41.3186,93.417 48.096,91.9764\" style=\"fill:none;fill-rule:evenodd;stroke:#000000;stroke-width:2px;stroke-linecap:butt;stroke-linejoin:miter;stroke-opacity:1\"/>\n",
       "<path d=\"M 35.7567,90.5781 40.5008,89.5697\" style=\"fill:none;fill-rule:evenodd;stroke:#0000FF;stroke-width:2px;stroke-linecap:butt;stroke-linejoin:miter;stroke-opacity:1;stroke-dasharray:6,6\"/>\n",
       "<path d=\"M 40.5008,89.5697 45.245,88.5613\" style=\"fill:none;fill-rule:evenodd;stroke:#000000;stroke-width:2px;stroke-linecap:butt;stroke-linejoin:miter;stroke-opacity:1;stroke-dasharray:6,6\"/>\n",
       "<path d=\"M 87.4289,91.9764 77.5957,74.9448\" style=\"fill:none;fill-rule:evenodd;stroke:#000000;stroke-width:2px;stroke-linecap:butt;stroke-linejoin:miter;stroke-opacity:1\"/>\n",
       "<path d=\"M 89.3602,87.455 82.477,75.5329\" style=\"fill:none;fill-rule:evenodd;stroke:#000000;stroke-width:2px;stroke-linecap:butt;stroke-linejoin:miter;stroke-opacity:1;stroke-dasharray:6,6\"/>\n",
       "<path d=\"M 87.4289,91.9764 94.2063,93.417\" style=\"fill:none;fill-rule:evenodd;stroke:#000000;stroke-width:2px;stroke-linecap:butt;stroke-linejoin:miter;stroke-opacity:1\"/>\n",
       "<path d=\"M 94.2063,93.417 100.984,94.8576\" style=\"fill:none;fill-rule:evenodd;stroke:#0000FF;stroke-width:2px;stroke-linecap:butt;stroke-linejoin:miter;stroke-opacity:1\"/>\n",
       "<path d=\"M 88.6443,96.2559 93.3885,97.2643\" style=\"fill:none;fill-rule:evenodd;stroke:#000000;stroke-width:2px;stroke-linecap:butt;stroke-linejoin:miter;stroke-opacity:1;stroke-dasharray:6,6\"/>\n",
       "<path d=\"M 93.3885,97.2643 98.1327,98.2727\" style=\"fill:none;fill-rule:evenodd;stroke:#0000FF;stroke-width:2px;stroke-linecap:butt;stroke-linejoin:miter;stroke-opacity:1;stroke-dasharray:6,6\"/>\n",
       "<path d=\"M 87.4289,91.9764 77.5957,109.008\" style=\"fill:none;fill-rule:evenodd;stroke:#000000;stroke-width:2px;stroke-linecap:butt;stroke-linejoin:miter;stroke-opacity:1\"/>\n",
       "<path d=\"M 82.5476,92.5645 75.6643,104.487\" style=\"fill:none;fill-rule:evenodd;stroke:#000000;stroke-width:2px;stroke-linecap:butt;stroke-linejoin:miter;stroke-opacity:1;stroke-dasharray:6,6\"/>\n",
       "<path d=\"M 77.5957,74.9448 87.4289,57.9131\" style=\"fill:none;fill-rule:evenodd;stroke:#000000;stroke-width:2px;stroke-linecap:butt;stroke-linejoin:miter;stroke-opacity:1\"/>\n",
       "<path d=\"M 82.477,74.3567 89.3602,62.4345\" style=\"fill:none;fill-rule:evenodd;stroke:#000000;stroke-width:2px;stroke-linecap:butt;stroke-linejoin:miter;stroke-opacity:1;stroke-dasharray:6,6\"/>\n",
       "<path d=\"M 77.5957,74.9448 57.9292,74.9448\" style=\"fill:none;fill-rule:evenodd;stroke:#000000;stroke-width:2px;stroke-linecap:butt;stroke-linejoin:miter;stroke-opacity:1\"/>\n",
       "<path d=\"M 74.6457,71.0115 60.8792,71.0115\" style=\"fill:none;fill-rule:evenodd;stroke:#000000;stroke-width:2px;stroke-linecap:butt;stroke-linejoin:miter;stroke-opacity:1;stroke-dasharray:6,6\"/>\n",
       "<path d=\"M 87.4289,59.8798 95.7315,59.8798\" style=\"fill:none;fill-rule:evenodd;stroke:#000000;stroke-width:2px;stroke-linecap:butt;stroke-linejoin:miter;stroke-opacity:1\"/>\n",
       "<path d=\"M 95.7315,59.8798 104.034,59.8798\" style=\"fill:none;fill-rule:evenodd;stroke:#FF0000;stroke-width:2px;stroke-linecap:butt;stroke-linejoin:miter;stroke-opacity:1\"/>\n",
       "<path d=\"M 87.4289,55.9465 95.7315,55.9465\" style=\"fill:none;fill-rule:evenodd;stroke:#000000;stroke-width:2px;stroke-linecap:butt;stroke-linejoin:miter;stroke-opacity:1\"/>\n",
       "<path d=\"M 95.7315,55.9465 104.034,55.9465\" style=\"fill:none;fill-rule:evenodd;stroke:#FF0000;stroke-width:2px;stroke-linecap:butt;stroke-linejoin:miter;stroke-opacity:1\"/>\n",
       "<path d=\"M 87.4289,57.9131 77.5957,40.8815\" style=\"fill:none;fill-rule:evenodd;stroke:#000000;stroke-width:2px;stroke-linecap:butt;stroke-linejoin:miter;stroke-opacity:1\"/>\n",
       "<path d=\"M 82.5476,57.325 75.6643,45.4029\" style=\"fill:none;fill-rule:evenodd;stroke:#000000;stroke-width:2px;stroke-linecap:butt;stroke-linejoin:miter;stroke-opacity:1;stroke-dasharray:6,6\"/>\n",
       "<path d=\"M 57.9292,74.9448 48.096,57.9131\" style=\"fill:none;fill-rule:evenodd;stroke:#000000;stroke-width:2px;stroke-linecap:butt;stroke-linejoin:miter;stroke-opacity:1\"/>\n",
       "<path d=\"M 59.8606,70.4234 52.9773,58.5012\" style=\"fill:none;fill-rule:evenodd;stroke:#000000;stroke-width:2px;stroke-linecap:butt;stroke-linejoin:miter;stroke-opacity:1;stroke-dasharray:6,6\"/>\n",
       "<path d=\"M 57.9292,74.9448 48.096,91.9764\" style=\"fill:none;fill-rule:evenodd;stroke:#000000;stroke-width:2px;stroke-linecap:butt;stroke-linejoin:miter;stroke-opacity:1\"/>\n",
       "<path d=\"M 53.0479,75.5329 46.1646,87.455\" style=\"fill:none;fill-rule:evenodd;stroke:#000000;stroke-width:2px;stroke-linecap:butt;stroke-linejoin:miter;stroke-opacity:1;stroke-dasharray:6,6\"/>\n",
       "<path d=\"M 48.096,55.9465 39.7934,55.9465\" style=\"fill:none;fill-rule:evenodd;stroke:#000000;stroke-width:2px;stroke-linecap:butt;stroke-linejoin:miter;stroke-opacity:1\"/>\n",
       "<path d=\"M 39.7934,55.9465 31.4909,55.9465\" style=\"fill:none;fill-rule:evenodd;stroke:#FF0000;stroke-width:2px;stroke-linecap:butt;stroke-linejoin:miter;stroke-opacity:1\"/>\n",
       "<path d=\"M 48.096,59.8798 39.7934,59.8798\" style=\"fill:none;fill-rule:evenodd;stroke:#000000;stroke-width:2px;stroke-linecap:butt;stroke-linejoin:miter;stroke-opacity:1\"/>\n",
       "<path d=\"M 39.7934,59.8798 31.4909,59.8798\" style=\"fill:none;fill-rule:evenodd;stroke:#FF0000;stroke-width:2px;stroke-linecap:butt;stroke-linejoin:miter;stroke-opacity:1\"/>\n",
       "<text style=\"font-size:6px;font-style:normal;font-weight:normal;fill-opacity:1;stroke:none;font-family:sans-serif;text-anchor:start;fill:#7F7F7F\" x=\"87.1687\" y=\"146.46\"><tspan>*</tspan></text>\n",
       "<text style=\"font-size:6px;font-style:normal;font-weight:normal;fill-opacity:1;stroke:none;font-family:sans-serif;text-anchor:start;fill:#7F7F7F\" x=\"43.2391\" y=\"126.901\"><tspan>*</tspan></text>\n",
       "<text style=\"font-size:6px;font-style:normal;font-weight:normal;fill-opacity:1;stroke:none;font-family:sans-serif;text-anchor:start;fill:#7F7F7F\" x=\"123.101\" y=\"130.461\"><tspan>*</tspan></text>\n",
       "<text style=\"font-size:6px;font-style:normal;font-weight:normal;fill-opacity:1;stroke:none;font-family:sans-serif;text-anchor:start;fill:#7F7F7F\" x=\"76.065\" y=\"10.0959\"><tspan>*</tspan></text>\n",
       "<text style=\"font-size:6px;font-style:normal;font-weight:normal;fill-opacity:1;stroke:none;font-family:sans-serif;text-anchor:start;fill:#7F7F7F\" x=\"46.5653\" y=\"27.1276\"><tspan>*</tspan></text>\n",
       "<text style=\"font-size:6px;font-style:normal;font-weight:normal;fill-opacity:1;stroke:none;font-family:sans-serif;text-anchor:start;fill:#0000FF\" x=\"23.1773\" y=\"99.3431\"><tspan>NH</tspan></text>\n",
       "<text style=\"font-size:6px;font-style:normal;font-weight:normal;fill-opacity:1;stroke:none;font-family:sans-serif;text-anchor:start;fill:#7F7F7F\" x=\"25.2729\" y=\"118.902\"><tspan>*</tspan></text>\n",
       "<text style=\"font-size:6px;font-style:normal;font-weight:normal;fill-opacity:1;stroke:none;font-family:sans-serif;text-anchor:start;fill:#0000FF\" x=\"100.984\" y=\"99.3431\"><tspan>NH</tspan></text>\n",
       "<text style=\"font-size:6px;font-style:normal;font-weight:normal;fill-opacity:1;stroke:none;font-family:sans-serif;text-anchor:start;fill:#FF0000\" x=\"104.034\" y=\"61.1909\"><tspan>O</tspan></text>\n",
       "<text style=\"font-size:6px;font-style:normal;font-weight:normal;fill-opacity:1;stroke:none;font-family:sans-serif;text-anchor:start;fill:#FF0000\" x=\"25.3682\" y=\"61.1909\"><tspan>O</tspan></text>\n",
       "</svg>"
      ],
      "text/plain": [
       "<IPython.core.display.SVG object>"
      ]
     },
     "metadata": {},
     "output_type": "display_data"
    }
   ],
   "source": [
    "display(SVG(Draw.DrawMorganEnv(refmol, 18, 3)))"
   ]
  },
  {
   "cell_type": "markdown",
   "metadata": {},
   "source": [
    "Now let's try to convey similarity between these two structures."
   ]
  },
  {
   "cell_type": "code",
   "execution_count": 294,
   "metadata": {
    "pixiedust": {
     "displayParams": {}
    }
   },
   "outputs": [
    {
     "data": {
      "text/html": [
       "<style type=\"text/css\">.pd_warning{display:none;}</style><div class=\"pd_warning\"><em>Hey, there's something awesome here! To see it, open this notebook outside GitHub, in a viewer like Jupyter</em></div>"
      ],
      "text/plain": [
       "<IPython.core.display.HTML object>"
      ]
     },
     "metadata": {
      "pixieapp_metadata": null
     },
     "output_type": "display_data"
    }
   ],
   "source": [
    "%%pixie_debugger\n",
    "\n",
    "# fig, maxweight = SimilarityMaps.GetSimilarityMapForFingerprint(refmol, fp, SimilarityMaps.GetMorganFingerprint)\n",
    "fig, maxweight = SimilarityMaps.GetSimilarityMapForFingerprint(fp, refmol, lambda m, idx: SimilarityMaps.GetMorganFingerprint(m, atomId=idx, radius=3, fpType='count', nBits=2048),\n",
    "                                                               metric=DataStructs.TanimotoSimilarity)"
   ]
  },
  {
   "cell_type": "code",
   "execution_count": 304,
   "metadata": {},
   "outputs": [
    {
     "ename": "TypeError",
     "evalue": "GetAtomicWeightsForFingerprint() missing 1 required positional argument: 'fpFunction'",
     "output_type": "error",
     "traceback": [
      "\u001b[0;31m---------------------------------------------------------------------------\u001b[0m",
      "\u001b[0;31mTypeError\u001b[0m                                 Traceback (most recent call last)",
      "\u001b[0;32m<ipython-input-304-a02e9d28c53e>\u001b[0m in \u001b[0;36m<module>\u001b[0;34m\u001b[0m\n\u001b[0;32m----> 1\u001b[0;31m \u001b[0mweights\u001b[0m \u001b[0;34m=\u001b[0m \u001b[0mSimilarityMaps\u001b[0m\u001b[0;34m.\u001b[0m\u001b[0mGetAtomicWeightsForFingerprint\u001b[0m\u001b[0;34m(\u001b[0m\u001b[0mfp\u001b[0m\u001b[0;34m,\u001b[0m \u001b[0mrefmol\u001b[0m\u001b[0;34m)\u001b[0m\u001b[0;34m\u001b[0m\u001b[0;34m\u001b[0m\u001b[0m\n\u001b[0m\u001b[1;32m      2\u001b[0m \u001b[0mfig\u001b[0m \u001b[0;34m=\u001b[0m \u001b[0mSimilarityMaps\u001b[0m\u001b[0;34m.\u001b[0m\u001b[0mGetSimilarityMapFromWeights\u001b[0m\u001b[0;34m(\u001b[0m\u001b[0mrefmol\u001b[0m\u001b[0;34m,\u001b[0m \u001b[0mweights\u001b[0m\u001b[0;34m)\u001b[0m\u001b[0;34m\u001b[0m\u001b[0;34m\u001b[0m\u001b[0m\n",
      "\u001b[0;31mTypeError\u001b[0m: GetAtomicWeightsForFingerprint() missing 1 required positional argument: 'fpFunction'"
     ]
    }
   ],
   "source": [
    "weights = SimilarityMaps.GetAtomicWeightsForFingerprint(fp, refmol)\n",
    "fig = SimilarityMaps.GetSimilarityMapFromWeights(refmol, weights)"
   ]
  },
  {
   "cell_type": "code",
   "execution_count": 310,
   "metadata": {},
   "outputs": [
    {
     "data": {
      "image/png": "[encoded data removed]",
      "text/plain": [
       "<Figure size 180x180 with 1 Axes>"
      ]
     },
     "metadata": {
      "needs_background": "light"
     },
     "output_type": "display_data"
    }
   ],
   "source": [
    "mol = Chem.MolFromSmiles('COc1cccc2cc(C(=O)NCCCCN3CCN(c4cccc5nccnc54)CC3)oc21')\n",
    "AllChem.ComputeGasteigerCharges(mol)\n",
    "contribs = [float(mol.GetAtomWithIdx(i).GetProp('_GasteigerCharge')) for i in range(mol.GetNumAtoms())]\n",
    "fig = SimilarityMaps.GetSimilarityMapFromWeights(mol, attributions[0], contourLines=10)"
   ]
  },
  {
   "cell_type": "code",
   "execution_count": 316,
   "metadata": {},
   "outputs": [],
   "source": [
    "AllChem.ComputeGasteigerCharges(refmol)\n",
    "contribs = [float(refmol.GetSubstructMatch()).GetProp('_GasteigerCharge')) for i in range(mol.GetNumAtoms())]"
   ]
  },
  {
   "cell_type": "code",
   "execution_count": 321,
   "metadata": {},
   "outputs": [
    {
     "ename": "IndexError",
     "evalue": "tuple index out of range",
     "output_type": "error",
     "traceback": [
      "\u001b[0;31m---------------------------------------------------------------------------\u001b[0m",
      "\u001b[0;31mIndexError\u001b[0m                                Traceback (most recent call last)",
      "\u001b[0;32m<ipython-input-321-0607c7793dfa>\u001b[0m in \u001b[0;36m<module>\u001b[0;34m\u001b[0m\n\u001b[1;32m      1\u001b[0m \u001b[0mcontribs\u001b[0m \u001b[0;34m=\u001b[0m \u001b[0mrefmol\u001b[0m\u001b[0;34m.\u001b[0m\u001b[0mGetSubstructMatch\u001b[0m\u001b[0;34m(\u001b[0m\u001b[0mfp\u001b[0m\u001b[0;34m)\u001b[0m\u001b[0;34m\u001b[0m\u001b[0;34m\u001b[0m\u001b[0m\n\u001b[0;32m----> 2\u001b[0;31m \u001b[0mfig\u001b[0m \u001b[0;34m=\u001b[0m \u001b[0mSimilarityMaps\u001b[0m\u001b[0;34m.\u001b[0m\u001b[0mGetSimilarityMapFromWeights\u001b[0m\u001b[0;34m(\u001b[0m\u001b[0mrefmol\u001b[0m\u001b[0;34m,\u001b[0m \u001b[0mcontribs\u001b[0m\u001b[0;34m,\u001b[0m \u001b[0mcolorMap\u001b[0m\u001b[0;34m=\u001b[0m\u001b[0;34m'jet'\u001b[0m\u001b[0;34m,\u001b[0m \u001b[0mcontourLines\u001b[0m\u001b[0;34m=\u001b[0m\u001b[0;36m10\u001b[0m\u001b[0;34m)\u001b[0m\u001b[0;34m\u001b[0m\u001b[0;34m\u001b[0m\u001b[0m\n\u001b[0m",
      "\u001b[0;32m~/miniconda3/envs/molecules_and_ml/lib/python3.6/site-packages/rdkit/Chem/Draw/SimilarityMaps.py\u001b[0m in \u001b[0;36mGetSimilarityMapFromWeights\u001b[0;34m(mol, weights, colorMap, scale, size, sigma, coordScale, step, colors, contourLines, alpha, **kwargs)\u001b[0m\n\u001b[1;32m    154\u001b[0m       \u001b[0msigma\u001b[0m \u001b[0;34m=\u001b[0m \u001b[0;36m0.3\u001b[0m \u001b[0;34m*\u001b[0m \u001b[0mmath\u001b[0m\u001b[0;34m.\u001b[0m\u001b[0msqrt\u001b[0m\u001b[0;34m(\u001b[0m\u001b[0msum\u001b[0m\u001b[0;34m(\u001b[0m\u001b[0;34m[\u001b[0m\u001b[0;34m(\u001b[0m\u001b[0mmol\u001b[0m\u001b[0;34m.\u001b[0m\u001b[0m_atomPs\u001b[0m\u001b[0;34m[\u001b[0m\u001b[0;36m0\u001b[0m\u001b[0;34m]\u001b[0m\u001b[0;34m[\u001b[0m\u001b[0mi\u001b[0m\u001b[0;34m]\u001b[0m \u001b[0;34m-\u001b[0m \u001b[0mmol\u001b[0m\u001b[0;34m.\u001b[0m\u001b[0m_atomPs\u001b[0m\u001b[0;34m[\u001b[0m\u001b[0;36m1\u001b[0m\u001b[0;34m]\u001b[0m\u001b[0;34m[\u001b[0m\u001b[0mi\u001b[0m\u001b[0;34m]\u001b[0m\u001b[0;34m)\u001b[0m\u001b[0;34m**\u001b[0m\u001b[0;36m2\u001b[0m \u001b[0;32mfor\u001b[0m \u001b[0mi\u001b[0m \u001b[0;32min\u001b[0m \u001b[0mrange\u001b[0m\u001b[0;34m(\u001b[0m\u001b[0;36m2\u001b[0m\u001b[0;34m)\u001b[0m\u001b[0;34m]\u001b[0m\u001b[0;34m)\u001b[0m\u001b[0;34m)\u001b[0m\u001b[0;34m\u001b[0m\u001b[0;34m\u001b[0m\u001b[0m\n\u001b[1;32m    155\u001b[0m     \u001b[0msigma\u001b[0m \u001b[0;34m=\u001b[0m \u001b[0mround\u001b[0m\u001b[0;34m(\u001b[0m\u001b[0msigma\u001b[0m\u001b[0;34m,\u001b[0m \u001b[0;36m2\u001b[0m\u001b[0;34m)\u001b[0m\u001b[0;34m\u001b[0m\u001b[0;34m\u001b[0m\u001b[0m\n\u001b[0;32m--> 156\u001b[0;31m   \u001b[0mx\u001b[0m\u001b[0;34m,\u001b[0m \u001b[0my\u001b[0m\u001b[0;34m,\u001b[0m \u001b[0mz\u001b[0m \u001b[0;34m=\u001b[0m \u001b[0mDraw\u001b[0m\u001b[0;34m.\u001b[0m\u001b[0mcalcAtomGaussians\u001b[0m\u001b[0;34m(\u001b[0m\u001b[0mmol\u001b[0m\u001b[0;34m,\u001b[0m \u001b[0msigma\u001b[0m\u001b[0;34m,\u001b[0m \u001b[0mweights\u001b[0m\u001b[0;34m=\u001b[0m\u001b[0mweights\u001b[0m\u001b[0;34m,\u001b[0m \u001b[0mstep\u001b[0m\u001b[0;34m=\u001b[0m\u001b[0mstep\u001b[0m\u001b[0;34m)\u001b[0m\u001b[0;34m\u001b[0m\u001b[0;34m\u001b[0m\u001b[0m\n\u001b[0m\u001b[1;32m    157\u001b[0m   \u001b[0;31m# scaling\u001b[0m\u001b[0;34m\u001b[0m\u001b[0;34m\u001b[0m\u001b[0;34m\u001b[0m\u001b[0m\n\u001b[1;32m    158\u001b[0m   \u001b[0;32mif\u001b[0m \u001b[0mscale\u001b[0m \u001b[0;34m<=\u001b[0m \u001b[0;36m0.0\u001b[0m\u001b[0;34m:\u001b[0m\u001b[0;34m\u001b[0m\u001b[0;34m\u001b[0m\u001b[0m\n",
      "\u001b[0;32m~/miniconda3/envs/molecules_and_ml/lib/python3.6/site-packages/rdkit/Chem/Draw/__init__.py\u001b[0m in \u001b[0;36mcalcAtomGaussians\u001b[0;34m(mol, a, step, weights)\u001b[0m\n\u001b[1;32m    308\u001b[0m   \u001b[0;32mfor\u001b[0m \u001b[0mi\u001b[0m \u001b[0;32min\u001b[0m \u001b[0mrange\u001b[0m\u001b[0;34m(\u001b[0m\u001b[0;36m1\u001b[0m\u001b[0;34m,\u001b[0m \u001b[0mmol\u001b[0m\u001b[0;34m.\u001b[0m\u001b[0mGetNumAtoms\u001b[0m\u001b[0;34m(\u001b[0m\u001b[0;34m)\u001b[0m\u001b[0;34m)\u001b[0m\u001b[0;34m:\u001b[0m\u001b[0;34m\u001b[0m\u001b[0;34m\u001b[0m\u001b[0m\n\u001b[1;32m    309\u001b[0m     \u001b[0mZp\u001b[0m \u001b[0;34m=\u001b[0m \u001b[0m_bivariate_normal\u001b[0m\u001b[0;34m(\u001b[0m\u001b[0mX\u001b[0m\u001b[0;34m,\u001b[0m \u001b[0mY\u001b[0m\u001b[0;34m,\u001b[0m \u001b[0ma\u001b[0m\u001b[0;34m,\u001b[0m \u001b[0ma\u001b[0m\u001b[0;34m,\u001b[0m \u001b[0mmol\u001b[0m\u001b[0;34m.\u001b[0m\u001b[0m_atomPs\u001b[0m\u001b[0;34m[\u001b[0m\u001b[0mi\u001b[0m\u001b[0;34m]\u001b[0m\u001b[0;34m[\u001b[0m\u001b[0;36m0\u001b[0m\u001b[0;34m]\u001b[0m\u001b[0;34m,\u001b[0m \u001b[0mmol\u001b[0m\u001b[0;34m.\u001b[0m\u001b[0m_atomPs\u001b[0m\u001b[0;34m[\u001b[0m\u001b[0mi\u001b[0m\u001b[0;34m]\u001b[0m\u001b[0;34m[\u001b[0m\u001b[0;36m1\u001b[0m\u001b[0;34m]\u001b[0m\u001b[0;34m)\u001b[0m\u001b[0;34m\u001b[0m\u001b[0;34m\u001b[0m\u001b[0m\n\u001b[0;32m--> 310\u001b[0;31m     \u001b[0mZ\u001b[0m \u001b[0;34m+=\u001b[0m \u001b[0mZp\u001b[0m \u001b[0;34m*\u001b[0m \u001b[0mweights\u001b[0m\u001b[0;34m[\u001b[0m\u001b[0mi\u001b[0m\u001b[0;34m]\u001b[0m\u001b[0;34m\u001b[0m\u001b[0;34m\u001b[0m\u001b[0m\n\u001b[0m\u001b[1;32m    311\u001b[0m   \u001b[0;32mreturn\u001b[0m \u001b[0mX\u001b[0m\u001b[0;34m,\u001b[0m \u001b[0mY\u001b[0m\u001b[0;34m,\u001b[0m \u001b[0mZ\u001b[0m\u001b[0;34m\u001b[0m\u001b[0;34m\u001b[0m\u001b[0m\n\u001b[1;32m    312\u001b[0m \u001b[0;34m\u001b[0m\u001b[0m\n",
      "\u001b[0;31mIndexError\u001b[0m: tuple index out of range"
     ]
    },
    {
     "data": {
      "image/png": "[encoded data removed]",
      "text/plain": [
       "<Figure size 180x180 with 1 Axes>"
      ]
     },
     "metadata": {
      "needs_background": "light"
     },
     "output_type": "display_data"
    }
   ],
   "source": [
    "contribs = refmol.GetSubstructMatch(fp)\n",
    "fig = SimilarityMaps.GetSimilarityMapFromWeights(refmol, contribs, colorMap='jet', contourLines=10)"
   ]
  },
  {
   "cell_type": "code",
   "execution_count": 324,
   "metadata": {},
   "outputs": [
    {
     "name": "stderr",
     "output_type": "stream",
     "text": [
      "/Users/kareem/miniconda3/envs/molecules_and_ml/lib/python3.6/site-packages/rdkit/Chem/Draw/SimilarityMaps.py:172: UserWarning: No contour levels were found within the data range.\n",
      "  contourset = fig.axes[0].contour(x, y, z, contourLines, colors=colors, alpha=alpha, **kwargs)\n"
     ]
    },
    {
     "data": {
      "image/png": "[encoded data removed]",
      "text/plain": [
       "<Figure size 180x180 with 1 Axes>"
      ]
     },
     "metadata": {
      "needs_background": "light"
     },
     "output_type": "display_data"
    }
   ],
   "source": [
    "fig = SimilarityMaps.GetSimilarityMapFromWeights(refmol, attributions[0])"
   ]
  },
  {
   "cell_type": "code",
   "execution_count": 325,
   "metadata": {},
   "outputs": [
    {
     "data": {
      "text/plain": [
       "<rdkit.DataStructs.cDataStructs.ExplicitBitVect at 0x1771642f0>"
      ]
     },
     "execution_count": 325,
     "metadata": {},
     "output_type": "execute_result"
    }
   ],
   "source": [
    "SimilarityMaps.GetMorganFingerprint(refmol, 18, 3)"
   ]
  },
  {
   "cell_type": "code",
   "execution_count": 331,
   "metadata": {},
   "outputs": [
    {
     "name": "stdout",
     "output_type": "stream",
     "text": [
      "Help on function GetSimilarityMapForFingerprint in module rdkit.Chem.Draw.SimilarityMaps:\n",
      "\n",
      "GetSimilarityMapForFingerprint(refMol, probeMol, fpFunction, metric=<Boost.Python.function object at 0x7ff83ccdebc0>, **kwargs)\n",
      "    Generates the similarity map for a given reference and probe molecule,\n",
      "    fingerprint function and similarity metric.\n",
      "    \n",
      "    Parameters:\n",
      "      refMol -- the reference molecule\n",
      "      probeMol -- the probe molecule\n",
      "      fpFunction -- the fingerprint function\n",
      "      metric -- the similarity metric.\n",
      "      kwargs -- additional arguments for drawing\n",
      "\n"
     ]
    }
   ],
   "source": [
    "help(SimilarityMaps.GetSimilarityMapForFingerprint)"
   ]
  }
 ],
 "metadata": {
  "kernelspec": {
   "display_name": "Python 3",
   "language": "python",
   "name": "python3"
  },
  "language_info": {
   "codemirror_mode": {
    "name": "ipython",
    "version": 3
   },
   "file_extension": ".py",
   "mimetype": "text/x-python",
   "name": "python",
   "nbconvert_exporter": "python",
   "pygments_lexer": "ipython3",
   "version": "3.6.7"
  }
 },
 "nbformat": 4,
 "nbformat_minor": 2
}
