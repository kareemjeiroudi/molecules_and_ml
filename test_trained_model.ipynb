{
 "cells": [
  {
   "cell_type": "markdown",
   "metadata": {},
   "source": [
    "`#!/usr/bin/env python3`<br>\n",
    "`# -*- coding: utf-8 -*-`\n",
    "\n",
    "Created on Sat Mar  9 20:30:44 2019\n",
    "\n",
    "@author: kareem<br>\n",
    "@Date: 09.03.2019<br>\n",
    "@Title: Last script in my project to load trained model and evaluate it against\n",
    "    a test set."
   ]
  },
  {
   "cell_type": "markdown",
   "metadata": {},
   "source": [
    "## Loading Model weights and architecture \n",
    "Load the previously trained keras model and adjusted weights, and compile it with best found parameters."
   ]
  },
  {
   "cell_type": "code",
   "execution_count": 1,
   "metadata": {},
   "outputs": [
    {
     "name": "stderr",
     "output_type": "stream",
     "text": [
      "Using TensorFlow backend.\n"
     ]
    }
   ],
   "source": [
    "### Loading Model weights and architecture ####\n",
    "import keras\n",
    "from keras.models import model_from_json\n",
    "from keras.metrics import binary_accuracy\n",
    "from keras.optimizers import SGD\n",
    "## load json and create model\n",
    "jf = open('analysis_best_model/best_model.json', 'r')\n",
    "best_model = model_from_json(jf.read())\n",
    "jf.close()\n",
    "## load weights into new model\n",
    "best_model.load_weights(\"analysis_best_model/best_model.h5\")\n",
    "## Compile the model after loading\n",
    "best_model.compile(optimizer=SGD(lr=0.1), loss='binary_crossentropy', metrics=[binary_accuracy])"
   ]
  },
  {
   "cell_type": "markdown",
   "metadata": {},
   "source": [
    "## Read Test data\n",
    "\n",
    "In one loop read the rows from the csv file and read the SMILES into molecules, then calculate the Morgan Fingerpritns as a bit vector and store them in `fingerprints` list. Also, append the label on the same row to list `y_true`."
   ]
  },
  {
   "cell_type": "code",
   "execution_count": 3,
   "metadata": {},
   "outputs": [],
   "source": [
    "#### Read Test data ####\n",
    "import csv\n",
    "from rdkit import Chem\n",
    "from rdkit.Chem import AllChem\n",
    "fingerprints = []\n",
    "y_true = []\n",
    "info={}\n",
    "with open('data/test.csv', 'r') as f:\n",
    "    reader = csv.reader(f)\n",
    "    i=0\n",
    "    for row in reader:\n",
    "        if i==0:\n",
    "            i+=1\n",
    "            continue\n",
    "        ## read molecule from SMILES\n",
    "        m = Chem.MolFromSmiles(row[1])\n",
    "        ## Calculate fingerprint accordingly\n",
    "        fp = AllChem.GetMorganFingerprintAsBitVect(m, 3, nBits=2048, bitInfo=info)\n",
    "        ## Append fp into fingerprints\n",
    "        fingerprints.append(fp)\n",
    "        y_true.append(int(row[2]))"
   ]
  },
  {
   "cell_type": "markdown",
   "metadata": {},
   "source": [
    "## Standard Scaling\n",
    "\n",
    "Apply Standard Scaling for ease of training and fast computation"
   ]
  },
  {
   "cell_type": "code",
   "execution_count": 4,
   "metadata": {},
   "outputs": [
    {
     "name": "stderr",
     "output_type": "stream",
     "text": [
      "/anaconda3/lib/python3.5/site-packages/sklearn/utils/validation.py:475: DataConversionWarning: Data with input dtype int64 was converted to float64 by StandardScaler.\n",
      "  warnings.warn(msg, DataConversionWarning)\n"
     ]
    }
   ],
   "source": [
    "#### Standard Scaling ####\n",
    "from sklearn.preprocessing import StandardScaler\n",
    "import numpy as np\n",
    "#Scale fingerprints to unit variance and zero mean\n",
    "scaler = StandardScaler()\n",
    "X_test = scaler.fit_transform(np.array(fingerprints))\n",
    "y_true = np.array(y_true)"
   ]
  },
  {
   "cell_type": "code",
   "execution_count": 8,
   "metadata": {},
   "outputs": [],
   "source": [
    "from itertools import product\n",
    "from matplotlib import pyplot as plt\n",
    "def plot_confusion_matrix(cm, classes,\n",
    "                          normalize=False,\n",
    "                          title='Confusion matrix',\n",
    "                          cmap=plt.cm.Blues):\n",
    "    \"\"\"\n",
    "    This function prints and plots the confusion matrix.\n",
    "    Normalization can be applied by setting `normalize=True`.\n",
    "    \"\"\"\n",
    "    if normalize:\n",
    "        cm = cm.astype('float') / cm.sum(axis=1)[:, np.newaxis]\n",
    "        print(\"Normalized confusion matrix\")\n",
    "    else:\n",
    "        print('Confusion matrix, without normalization')\n",
    "\n",
    "    print(cm)\n",
    "\n",
    "    plt.imshow(cm, interpolation='nearest', cmap=cmap)\n",
    "    plt.title(title)\n",
    "    plt.colorbar()\n",
    "    tick_marks = np.arange(len(classes))\n",
    "    plt.xticks(tick_marks, classes, rotation=45)\n",
    "    plt.yticks(tick_marks, classes)\n",
    "\n",
    "    fmt = '.2f' if normalize else 'd'\n",
    "    thresh = cm.max() / 2.\n",
    "    for i, j in product(range(cm.shape[0]), range(cm.shape[1])):\n",
    "        plt.text(j, i, format(cm[i, j], fmt),\n",
    "                 horizontalalignment=\"center\",\n",
    "                 color=\"white\" if cm[i, j] > thresh else \"black\")\n",
    "\n",
    "    plt.ylabel('True label')\n",
    "    plt.xlabel('Predicted label')\n",
    "    plt.tight_layout()\n",
    "        "
   ]
  },
  {
   "cell_type": "code",
   "execution_count": 9,
   "metadata": {},
   "outputs": [],
   "source": [
    "def plot_roc_curve(fpr, tpr, auc):\n",
    "    plt.figure()\n",
    "    plt.plot(fpr, tpr, color='brown',\n",
    "             lw=2, label='ROC curve (AUC = %0.2f)' % auc)\n",
    "    plt.plot([0, 1], [0, 1], color='navy', lw=2, linestyle='--')\n",
    "    plt.xlim([0.0, 1.0])\n",
    "    plt.ylim([0.0, 1.0])\n",
    "    plt.xlabel('False Positive Rate')\n",
    "    plt.ylabel('True Positive Rate')\n",
    "    plt.title('Receiver Operating Characteristic')\n",
    "    plt.legend(loc=\"lower right\")\n",
    "    plt.savefig('Best_model_ROC')\n",
    "    plt.show()"
   ]
  },
  {
   "cell_type": "markdown",
   "metadata": {},
   "source": [
    "## Predicting on the Test Set\n",
    "\n",
    "In order to run the following analysis you should load the two functions above:\n",
    "* first to plot the Confusion Matrix\n",
    "* Second to plot the ROC curve"
   ]
  },
  {
   "cell_type": "code",
   "execution_count": 10,
   "metadata": {},
   "outputs": [
    {
     "data": {
      "image/png": "[encoded data removed]",
      "text/plain": [
       "<Figure size 432x288 with 1 Axes>"
      ]
     },
     "metadata": {
      "needs_background": "light"
     },
     "output_type": "display_data"
    },
    {
     "name": "stdout",
     "output_type": "stream",
     "text": [
      "Confusion matrix, without normalization\n",
      "[[1134  491]\n",
      " [ 369 1321]]\n"
     ]
    },
    {
     "data": {
      "image/png": "[encoded data removed]",
      "text/plain": [
       "<Figure size 432x288 with 2 Axes>"
      ]
     },
     "metadata": {
      "needs_background": "light"
     },
     "output_type": "display_data"
    }
   ],
   "source": [
    "#### Predicting on the Test Set ####\n",
    "y_prob = best_model.predict(X_test)\n",
    "y_pred = best_model.predict_classes(X_test)\n",
    "\n",
    "### Evaluating Model's predictions ####\n",
    "from sklearn.metrics import roc_auc_score, roc_curve, confusion_matrix\n",
    "auc = roc_auc_score(y_true, y_prob)\n",
    "fpr, tpr, thresholds = roc_curve(y_true, y_prob)\n",
    "plot_roc_curve(fpr, tpr, auc) # load this function!\n",
    "## Construct and plot confusion matrix\n",
    "cm = confusion_matrix(y_true, y_pred)\n",
    "class_names = np.array(['non-mutagen', 'mutagen'])\n",
    "plot_confusion_matrix(cm, classes=class_names, # load this function!\n",
    "                      title='Confusion matrix, without normalization')"
   ]
  },
  {
   "cell_type": "code",
   "execution_count": null,
   "metadata": {},
   "outputs": [],
   "source": []
  }
 ],
 "metadata": {
  "kernelspec": {
   "display_name": "Python 3",
   "language": "python",
   "name": "python3"
  },
  "language_info": {
   "codemirror_mode": {
    "name": "ipython",
    "version": 3
   },
   "file_extension": ".py",
   "mimetype": "text/x-python",
   "name": "python",
   "nbconvert_exporter": "python",
   "pygments_lexer": "ipython3",
   "version": "3.5.5"
  }
 },
 "nbformat": 4,
 "nbformat_minor": 2
}
