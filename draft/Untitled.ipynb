{
 "cells": [
  {
   "cell_type": "code",
   "execution_count": 9,
   "metadata": {},
   "outputs": [
    {
     "name": "stdout",
     "output_type": "stream",
     "text": [
      "0:09:41.161886\n",
      "Best: 0.688802 using {'epochs': 100, 'batch_size': 80}\n",
      "0.429688 (0.138254) with: {'epochs': 10, 'batch_size': 10}\n",
      "0.559896 (0.115453) with: {'epochs': 50, 'batch_size': 10}\n",
      "0.679688 (0.019918) with: {'epochs': 100, 'batch_size': 10}\n",
      "0.466146 (0.137566) with: {'epochs': 10, 'batch_size': 20}\n",
      "0.665365 (0.014731) with: {'epochs': 50, 'batch_size': 20}\n",
      "0.669271 (0.031948) with: {'epochs': 100, 'batch_size': 20}\n",
      "0.604167 (0.062201) with: {'epochs': 10, 'batch_size': 40}\n",
      "0.667969 (0.044993) with: {'epochs': 50, 'batch_size': 40}\n",
      "0.635417 (0.020752) with: {'epochs': 100, 'batch_size': 40}\n",
      "0.618490 (0.045814) with: {'epochs': 10, 'batch_size': 60}\n",
      "0.643229 (0.032734) with: {'epochs': 50, 'batch_size': 60}\n",
      "0.667969 (0.054408) with: {'epochs': 100, 'batch_size': 60}\n",
      "0.557292 (0.018136) with: {'epochs': 10, 'batch_size': 80}\n",
      "0.674479 (0.046256) with: {'epochs': 50, 'batch_size': 80}\n",
      "0.688802 (0.021236) with: {'epochs': 100, 'batch_size': 80}\n",
      "0.546875 (0.048159) with: {'epochs': 10, 'batch_size': 100}\n",
      "0.622396 (0.011201) with: {'epochs': 50, 'batch_size': 100}\n",
      "0.544271 (0.156975) with: {'epochs': 100, 'batch_size': 100}\n"
     ]
    }
   ],
   "source": [
    "## Use scikit-learn to grid search the batch size and epochs\n",
    "import numpy as np\n",
    "from sklearn.model_selection import GridSearchCV\n",
    "from keras.models import Sequential\n",
    "from keras.layers import Dense\n",
    "from keras.wrappers.scikit_learn import KerasClassifier\n",
    "\n",
    "def create_model(n_layers=1, optimizer='adam', init_mode='uniform'):\n",
    "    '''Function to create model, required for KerasClassifier'''\n",
    "    ## create model\n",
    "    model = Sequential()\n",
    "    for i in range(0, n_layers):\n",
    "        model.add(Dense(12, input_dim=8, kernel_initializer=init_mode activation='relu'))\n",
    "    model.add(Dense(1, activation='sigmoid'))\n",
    "    ## Compile model\n",
    "    model.compile(loss='binary_crossentropy', optimizer=optimizer, metrics=['accuracy'])\n",
    "    return model\n",
    "\n",
    "## fix random seed for reproducibility\n",
    "seed = 7\n",
    "np.random.seed(seed)\n",
    "## load dataset\n",
    "dataset = np.loadtxt(\"pima-indians-diabetes.csv\", delimiter=\",\")\n",
    "## split into input (X) and output (Y) variables\n",
    "X = dataset[:,0:8]\n",
    "Y = dataset[:,8]\n",
    "## create model\n",
    "model = KerasClassifier(build_fn=create_model, verbose=0)\n",
    "## define the grid search parameters\n",
    "batch_size = [10, 20, 40, 60, 80, 100]\n",
    "# batch_size = list(np.arange(5, 200, 5))\n",
    "epochs = [10, 50, 100]\n",
    "# epochs = list(np.arange(1, 2000, 2))\n",
    "optimizer = ['SGD', 'RMSprop', 'Adagrad', 'Adadelta', 'Adam', 'Adamax', 'Nadam']\n",
    "param_grid = dict(batch_size=batch_size, epochs=epochs, optimizer=optimizer)\n",
    "from datetime import datetime\n",
    "start=datetime.now()\n",
    "grid = GridSearchCV(estimator=model, param_grid=param_grid, n_jobs=-1)\n",
    "grid_result = grid.fit(X, Y)\n",
    "print(datetime.now()-start)\n",
    "# summarize results\n",
    "print(\"Best: %f using %s\" % (grid_result.best_score_, grid_result.best_params_))\n",
    "means = grid_result.cv_results_['mean_test_score']\n",
    "stds = grid_result.cv_results_['std_test_score']\n",
    "params = grid_result.cv_results_['params']\n",
    "for mean, stdev, param in zip(means, stds, params):\n",
    "    print(\"%f (%f) with: %r\" % (mean, stdev, param))"
   ]
  },
  {
   "cell_type": "code",
   "execution_count": null,
   "metadata": {},
   "outputs": [],
   "source": []
  }
 ],
 "metadata": {
  "kernelspec": {
   "display_name": "Python 3",
   "language": "python",
   "name": "python3"
  },
  "language_info": {
   "codemirror_mode": {
    "name": "ipython",
    "version": 3
   },
   "file_extension": ".py",
   "mimetype": "text/x-python",
   "name": "python",
   "nbconvert_exporter": "python",
   "pygments_lexer": "ipython3",
   "version": "3.5.5"
  }
 },
 "nbformat": 4,
 "nbformat_minor": 2
}
