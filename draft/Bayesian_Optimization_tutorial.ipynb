{
 "cells": [
  {
   "cell_type": "markdown",
   "metadata": {},
   "source": [
    "# Bayesian Optimization\n",
    "\n",
    "@author:<tb> Kareem<br>\n",
    "@date: <tb>28.04.2019\n",
    "    \n",
    "In the following I'd like to domenstrate the Bayesian Optimization process, in order for us to better handle continous values during model optimization. This implementaion relies on this [GitHub package](https://github.com/fmfn/BayesianOptimization). So to get started of course:\n",
    "\n",
    "```\n",
    "pip install bayesian-optimization\n",
    "```"
   ]
  },
  {
   "cell_type": "markdown",
   "metadata": {},
   "source": [
    "## Loading Data\n",
    "\n",
    "Let's load some data from sklearn default datasets and then we will build different classifiers to evaluate how well this implemntation is"
   ]
  },
  {
   "cell_type": "code",
   "execution_count": 1,
   "metadata": {},
   "outputs": [],
   "source": [
    "#### Load Iris Data ####\n",
    "from sklearn.datasets import load_breast_cancer\n",
    "dataset = load_breast_cancer()\n",
    "X = dataset['data']\n",
    "y = dataset['target']\n",
    "\n",
    "## Split into train and validation\n",
    "from sklearn.model_selection import train_test_split\n",
    "X_train, X_test, y_train, y_test = train_test_split(X, y, test_size=0.2, random_state=0, shuffle=True)"
   ]
  },
  {
   "cell_type": "markdown",
   "metadata": {},
   "source": [
    "## Handling Continous Values\n",
    "\n",
    "There's immediate support for this type of parameters from the package, so let's build a logistic regressor right away and see the accuracies we can get.\n",
    "\n",
    "Note that the object `BayesianOptimization`, always needs the objective function (i.e. function to be maximized) as constructor argument. If you want to minimize a function, just return the minus value of that function."
   ]
  },
  {
   "cell_type": "code",
   "execution_count": 2,
   "metadata": {},
   "outputs": [],
   "source": [
    "#### Build Classifier ####\n",
    "from sklearn.linear_model import LogisticRegression\n",
    "def black_box_function(C):\n",
    "    \"\"\"Function with we wish to maximize.\"\"\"\n",
    "    classifier = LogisticRegression(C=C, random_state=0)\n",
    "    classifier.fit(X_train, y_train)\n",
    "    y_pred = classifier.predict(X_test) # irrelevent!\n",
    "    return classifier.score(X_test, y_test) # return accuracy"
   ]
  },
  {
   "cell_type": "markdown",
   "metadata": {},
   "source": [
    "`C` will take all the values range from $0$ to $1$."
   ]
  },
  {
   "cell_type": "code",
   "execution_count": 4,
   "metadata": {},
   "outputs": [],
   "source": [
    "from bayes_opt import BayesianOptimization"
   ]
  },
  {
   "cell_type": "code",
   "execution_count": 11,
   "metadata": {},
   "outputs": [
    {
     "name": "stdout",
     "output_type": "stream",
     "text": [
      "|   iter    |  target   |     C     |\n",
      "-------------------------------------\n",
      "| \u001b[0m 1       \u001b[0m | \u001b[0m 0.9561  \u001b[0m | \u001b[0m 0.5488  \u001b[0m |\n",
      "| \u001b[0m 2       \u001b[0m | \u001b[0m 0.9561  \u001b[0m | \u001b[0m 0.7152  \u001b[0m |\n",
      "| \u001b[0m 3       \u001b[0m | \u001b[0m 0.9561  \u001b[0m | \u001b[0m 0.6028  \u001b[0m |\n",
      "| \u001b[0m 4       \u001b[0m | \u001b[0m 0.9561  \u001b[0m | \u001b[0m 0.5449  \u001b[0m |\n",
      "| \u001b[0m 5       \u001b[0m | \u001b[0m 0.9561  \u001b[0m | \u001b[0m 0.4237  \u001b[0m |\n",
      "| \u001b[0m 6       \u001b[0m | \u001b[0m 0.9386  \u001b[0m | \u001b[0m 0.02578 \u001b[0m |\n",
      "| \u001b[0m 7       \u001b[0m | \u001b[0m 0.9561  \u001b[0m | \u001b[0m 1.0     \u001b[0m |\n",
      "| \u001b[0m 8       \u001b[0m | \u001b[0m 0.9561  \u001b[0m | \u001b[0m 1.0     \u001b[0m |\n",
      "| \u001b[0m 9       \u001b[0m | \u001b[0m 0.9561  \u001b[0m | \u001b[0m 0.8043  \u001b[0m |\n",
      "| \u001b[0m 10      \u001b[0m | \u001b[0m 0.9561  \u001b[0m | \u001b[0m 0.7758  \u001b[0m |\n",
      "| \u001b[0m 11      \u001b[0m | \u001b[0m 0.9561  \u001b[0m | \u001b[0m 1.0     \u001b[0m |\n",
      "| \u001b[0m 12      \u001b[0m | \u001b[0m 0.9561  \u001b[0m | \u001b[0m 0.6563  \u001b[0m |\n",
      "| \u001b[0m 13      \u001b[0m | \u001b[0m 0.9561  \u001b[0m | \u001b[0m 1.0     \u001b[0m |\n",
      "| \u001b[0m 14      \u001b[0m | \u001b[0m 0.9561  \u001b[0m | \u001b[0m 0.8092  \u001b[0m |\n",
      "| \u001b[0m 15      \u001b[0m | \u001b[0m 0.9561  \u001b[0m | \u001b[0m 0.5683  \u001b[0m |\n",
      "=====================================\n",
      "{'params': {'C': 0.5488135039273248}, 'target': 0.956140350877193}\n",
      "Iteration 0: \n",
      "\t{'params': {'C': 0.5488135039273248}, 'target': 0.956140350877193}\n",
      "Iteration 1: \n",
      "\t{'params': {'C': 0.7151893663724195}, 'target': 0.956140350877193}\n",
      "Iteration 2: \n",
      "\t{'params': {'C': 0.6027633760716439}, 'target': 0.956140350877193}\n",
      "Iteration 3: \n",
      "\t{'params': {'C': 0.5448831829968969}, 'target': 0.956140350877193}\n",
      "Iteration 4: \n",
      "\t{'params': {'C': 0.4236547993389047}, 'target': 0.956140350877193}\n",
      "Iteration 5: \n",
      "\t{'params': {'C': 0.02578002812953384}, 'target': 0.9385964912280702}\n",
      "Iteration 6: \n",
      "\t{'params': {'C': 0.9999990120313899}, 'target': 0.956140350877193}\n",
      "Iteration 7: \n",
      "\t{'params': {'C': 0.9999982000777977}, 'target': 0.956140350877193}\n",
      "Iteration 8: \n",
      "\t{'params': {'C': 0.8042671161101363}, 'target': 0.956140350877193}\n",
      "Iteration 9: \n",
      "\t{'params': {'C': 0.7757678307509045}, 'target': 0.956140350877193}\n",
      "Iteration 10: \n",
      "\t{'params': {'C': 0.9999999473848444}, 'target': 0.956140350877193}\n",
      "Iteration 11: \n",
      "\t{'params': {'C': 0.6562792560749025}, 'target': 0.956140350877193}\n",
      "Iteration 12: \n",
      "\t{'params': {'C': 0.9999997207656334}, 'target': 0.956140350877193}\n",
      "Iteration 13: \n",
      "\t{'params': {'C': 0.8092116334911545}, 'target': 0.956140350877193}\n",
      "Iteration 14: \n",
      "\t{'params': {'C': 0.5683141520499925}, 'target': 0.956140350877193}\n"
     ]
    }
   ],
   "source": [
    "#### Build the Optimization Space ####\n",
    "from bayes_opt import BayesianOptimization\n",
    "# Bounded region of parameter space\n",
    "pbounds = {'C': (0, 1)} \n",
    "\n",
    "optimizer = BayesianOptimization(\n",
    "    f=black_box_function, # function to optimize\n",
    "    pbounds=pbounds, # dimension to explore\n",
    "    random_state=0)\n",
    "optimizer.maximize(\n",
    "    init_points=5, # number of exploration steps\n",
    "    n_iter=10) # number of exploitation steps\n",
    "\n",
    "print(optimizer.max) # best score and parameter set\n",
    "for i, res in enumerate(optimizer.res): # full optimization history\n",
    "    print(\"Iteration {}: \\n\\t{}\".format(i, res))"
   ]
  },
  {
   "cell_type": "markdown",
   "metadata": {},
   "source": [
    "## Handling Discrete Values\n",
    "\n",
    "Discrete values are not handled by the package and therefore, we would only need to round and convert them integers in the blackbox function. That's the recommended behavior by the creators of the package."
   ]
  },
  {
   "cell_type": "code",
   "execution_count": 5,
   "metadata": {},
   "outputs": [
    {
     "name": "stdout",
     "output_type": "stream",
     "text": [
      "|   iter    |  target   | max_depth | max_fe... | n_esti... |\n",
      "-------------------------------------------------------------\n",
      "| \u001b[0m 1       \u001b[0m | \u001b[0m 0.9737  \u001b[0m | \u001b[0m 15.98   \u001b[0m | \u001b[0m 15.73   \u001b[0m | \u001b[0m 62.26   \u001b[0m |\n",
      "| \u001b[95m 2       \u001b[0m | \u001b[95m 0.9825  \u001b[0m | \u001b[95m 15.9    \u001b[0m | \u001b[95m 11.35   \u001b[0m | \u001b[95m 66.36   \u001b[0m |\n",
      "| \u001b[0m 3       \u001b[0m | \u001b[0m 0.9825  \u001b[0m | \u001b[0m 13.75   \u001b[0m | \u001b[0m 18.38   \u001b[0m | \u001b[0m 96.55   \u001b[0m |\n",
      "| \u001b[0m 4       \u001b[0m | \u001b[0m 0.9737  \u001b[0m | \u001b[0m 12.67   \u001b[0m | \u001b[0m 16.88   \u001b[0m | \u001b[0m 55.25   \u001b[0m |\n",
      "| \u001b[0m 5       \u001b[0m | \u001b[0m 0.9737  \u001b[0m | \u001b[0m 16.36   \u001b[0m | \u001b[0m 18.88   \u001b[0m | \u001b[0m 11.75   \u001b[0m |\n",
      "| \u001b[0m 6       \u001b[0m | \u001b[0m 0.9298  \u001b[0m | \u001b[0m 5.0     \u001b[0m | \u001b[0m 5.0     \u001b[0m | \u001b[0m 5.0     \u001b[0m |\n",
      "| \u001b[0m 7       \u001b[0m | \u001b[0m 0.9474  \u001b[0m | \u001b[0m 5.0     \u001b[0m | \u001b[0m 5.0     \u001b[0m | \u001b[0m 100.0   \u001b[0m |\n",
      "| \u001b[0m 8       \u001b[0m | \u001b[0m 0.9649  \u001b[0m | \u001b[0m 25.0    \u001b[0m | \u001b[0m 5.0     \u001b[0m | \u001b[0m 100.0   \u001b[0m |\n",
      "| \u001b[0m 9       \u001b[0m | \u001b[0m 0.9561  \u001b[0m | \u001b[0m 24.86   \u001b[0m | \u001b[0m 5.18    \u001b[0m | \u001b[0m 21.79   \u001b[0m |\n",
      "| \u001b[0m 10      \u001b[0m | \u001b[0m 0.9737  \u001b[0m | \u001b[0m 5.007   \u001b[0m | \u001b[0m 19.97   \u001b[0m | \u001b[0m 77.48   \u001b[0m |\n",
      "| \u001b[0m 11      \u001b[0m | \u001b[0m 0.9561  \u001b[0m | \u001b[0m 24.99   \u001b[0m | \u001b[0m 18.94   \u001b[0m | \u001b[0m 5.084   \u001b[0m |\n",
      "| \u001b[0m 12      \u001b[0m | \u001b[0m 0.9561  \u001b[0m | \u001b[0m 5.0     \u001b[0m | \u001b[0m 5.0     \u001b[0m | \u001b[0m 41.16   \u001b[0m |\n",
      "| \u001b[0m 13      \u001b[0m | \u001b[0m 0.9649  \u001b[0m | \u001b[0m 24.82   \u001b[0m | \u001b[0m 5.059   \u001b[0m | \u001b[0m 62.63   \u001b[0m |\n",
      "| \u001b[0m 14      \u001b[0m | \u001b[0m 0.9649  \u001b[0m | \u001b[0m 16.2    \u001b[0m | \u001b[0m 5.017   \u001b[0m | \u001b[0m 83.09   \u001b[0m |\n",
      "| \u001b[0m 15      \u001b[0m | \u001b[0m 0.9649  \u001b[0m | \u001b[0m 24.52   \u001b[0m | \u001b[0m 19.32   \u001b[0m | \u001b[0m 99.65   \u001b[0m |\n",
      "=============================================================\n",
      "{'target': 0.9824561403508771, 'params': {'max_depth': 15.897663659937937, 'max_features': 11.354821990083572, 'n_estimators': 66.35994074133234}}\n",
      "Iteration 0: \n",
      "\t{'target': 0.9736842105263158, 'params': {'max_depth': 15.976270078546495, 'max_features': 15.727840495586292, 'n_estimators': 62.262520726806166}}\n",
      "Iteration 1: \n",
      "\t{'target': 0.9824561403508771, 'params': {'max_depth': 15.897663659937937, 'max_features': 11.354821990083572, 'n_estimators': 66.35994074133234}}\n",
      "Iteration 2: \n",
      "\t{'target': 0.9824561403508771, 'params': {'max_depth': 13.75174422525385, 'max_features': 18.376595011731197, 'n_estimators': 96.54796224759778}}\n",
      "Iteration 3: \n",
      "\t{'target': 0.9736842105263158, 'params': {'max_depth': 12.668830376515555, 'max_features': 16.87587557123997, 'n_estimators': 55.24501737652592}}\n",
      "Iteration 4: \n",
      "\t{'target': 0.9736842105263158, 'params': {'max_depth': 16.360891221878646, 'max_features': 18.883949574389916, 'n_estimators': 11.74842552879926}}\n",
      "Iteration 5: \n",
      "\t{'target': 0.9298245614035088, 'params': {'max_depth': 5.0, 'max_features': 5.0000000000000115, 'n_estimators': 5.0}}\n",
      "Iteration 6: \n",
      "\t{'target': 0.9473684210526315, 'params': {'max_depth': 5.0, 'max_features': 5.0, 'n_estimators': 99.99999993600275}}\n",
      "Iteration 7: \n",
      "\t{'target': 0.9649122807017544, 'params': {'max_depth': 25.0, 'max_features': 5.000000004513742, 'n_estimators': 100.0}}\n",
      "Iteration 8: \n",
      "\t{'target': 0.956140350877193, 'params': {'max_depth': 24.85804810429147, 'max_features': 5.179543405777091, 'n_estimators': 21.794553866054176}}\n",
      "Iteration 9: \n",
      "\t{'target': 0.9736842105263158, 'params': {'max_depth': 5.007253418884076, 'max_features': 19.968995249185497, 'n_estimators': 77.4756351698174}}\n",
      "Iteration 10: \n",
      "\t{'target': 0.956140350877193, 'params': {'max_depth': 24.990703537900217, 'max_features': 18.936157411050324, 'n_estimators': 5.084117979708205}}\n",
      "Iteration 11: \n",
      "\t{'target': 0.956140350877193, 'params': {'max_depth': 5.0, 'max_features': 5.000000002269458, 'n_estimators': 41.159595257620175}}\n",
      "Iteration 12: \n",
      "\t{'target': 0.9649122807017544, 'params': {'max_depth': 24.822497696095688, 'max_features': 5.059136515816057, 'n_estimators': 62.634257632687486}}\n",
      "Iteration 13: \n",
      "\t{'target': 0.9649122807017544, 'params': {'max_depth': 16.201869642005388, 'max_features': 5.017054349725392, 'n_estimators': 83.08867507371257}}\n",
      "Iteration 14: \n",
      "\t{'target': 0.9649122807017544, 'params': {'max_depth': 24.51913063181029, 'max_features': 19.322887281950695, 'n_estimators': 99.65333245295005}}\n"
     ]
    }
   ],
   "source": [
    "#### Handling Discrete Values ####\n",
    "from sklearn.ensemble import RandomForestClassifier\n",
    "def black_box_function(n_estimators, max_depth, max_features):\n",
    "    ## handle discrete\n",
    "    n_estimators = int(round(n_estimators))\n",
    "    max_depth = int(round(max_depth))\n",
    "    max_features = int(round(max_features))\n",
    "    ## throw an AssertionError at an earlier level if not int\n",
    "    assert type(n_estimators) == int\n",
    "    assert type(max_depth) == int\n",
    "    assert type(max_features) == int\n",
    "    #### Build Classifier ####\n",
    "    classifier = RandomForestClassifier(n_estimators=n_estimators, max_depth= max_depth,\n",
    "                                        max_features=max_features, random_state=0, verbose=0, n_jobs=-1)\n",
    "    classifier.fit(X_train, y_train)\n",
    "    y_pred = classifier.predict(X_test)\n",
    "    return classifier.score(X_test, y_test)\n",
    "\n",
    "pbounds = {'n_estimators': (5, 100), \n",
    "           'max_depth': (5, 25), \n",
    "           'max_features': (5, 20)}\n",
    "\n",
    "optimizer = BayesianOptimization(f=black_box_function, pbounds=pbounds, random_state=0)\n",
    "optimizer.maximize(init_points=5, n_iter=10)\n",
    "\n",
    "print(optimizer.max)\n",
    "for i, res in enumerate(optimizer.res):\n",
    "    print(\"Iteration {}: \\n\\t{}\".format(i, res))"
   ]
  },
  {
   "cell_type": "markdown",
   "metadata": {},
   "source": [
    "## Categorical Values\n",
    "\n",
    "Categorical values are handled very similarly to Discrete values, nevertheless, you would only need a reference list. First, we encode the categories into integers such as in `LabelEncoder` (order is crucial here), and then the balckbox function has to unpack the right value from the reference list."
   ]
  },
  {
   "cell_type": "code",
   "execution_count": 3,
   "metadata": {},
   "outputs": [
    {
     "ename": "NameError",
     "evalue": "name 'BayesianOptimization' is not defined",
     "output_type": "error",
     "traceback": [
      "\u001b[0;31m---------------------------------------------------------------------------\u001b[0m",
      "\u001b[0;31mNameError\u001b[0m                                 Traceback (most recent call last)",
      "\u001b[0;32m<ipython-input-3-900c4f942884>\u001b[0m in \u001b[0;36m<module>\u001b[0;34m\u001b[0m\n\u001b[1;32m     26\u001b[0m            'gamma':(0, 1)}\n\u001b[1;32m     27\u001b[0m \u001b[0;34m\u001b[0m\u001b[0m\n\u001b[0;32m---> 28\u001b[0;31m \u001b[0moptimizer\u001b[0m \u001b[0;34m=\u001b[0m \u001b[0mBayesianOptimization\u001b[0m\u001b[0;34m(\u001b[0m\u001b[0mf\u001b[0m\u001b[0;34m=\u001b[0m\u001b[0mblack_box_function\u001b[0m\u001b[0;34m,\u001b[0m \u001b[0mpbounds\u001b[0m\u001b[0;34m=\u001b[0m\u001b[0mpbounds\u001b[0m\u001b[0;34m,\u001b[0m \u001b[0mrandom_state\u001b[0m\u001b[0;34m=\u001b[0m\u001b[0;36m0\u001b[0m\u001b[0;34m)\u001b[0m\u001b[0;34m\u001b[0m\u001b[0;34m\u001b[0m\u001b[0m\n\u001b[0m\u001b[1;32m     29\u001b[0m \u001b[0moptimizer\u001b[0m\u001b[0;34m.\u001b[0m\u001b[0mmaximize\u001b[0m\u001b[0;34m(\u001b[0m\u001b[0minit_points\u001b[0m\u001b[0;34m=\u001b[0m\u001b[0;36m5\u001b[0m\u001b[0;34m,\u001b[0m \u001b[0mn_iter\u001b[0m\u001b[0;34m=\u001b[0m\u001b[0;36m10\u001b[0m\u001b[0;34m)\u001b[0m\u001b[0;34m\u001b[0m\u001b[0;34m\u001b[0m\u001b[0m\n\u001b[1;32m     30\u001b[0m \u001b[0;34m\u001b[0m\u001b[0m\n",
      "\u001b[0;31mNameError\u001b[0m: name 'BayesianOptimization' is not defined"
     ]
    }
   ],
   "source": [
    "#### Handling Categorical values ####\n",
    "from sklearn.svm import SVC\n",
    "def black_box_function(C, kernel, degree, gamma):\n",
    "    # handle categorical\n",
    "    kernel = int(round(0.234567))\n",
    "    # throw an AssertionError at an earlier level if not int\n",
    "    assert type(kernel) == int\n",
    "    kernel = kernels[kernel] # unpack from reference list\n",
    "    \n",
    "    degree = int(round(degree))\n",
    "    assert type(degree) == int\n",
    "\n",
    "    classifier = SVC(C=C, kernel=kernel, degree=degree, gamma=gamma, random_state=0, verbose=0)\n",
    "    classifier.fit(X_train, y_train)\n",
    "    y_pred = classifier.predict(X_test) # irrelevent!\n",
    "    return classifier.score(X_test, y_test)\n",
    "\n",
    "# reference list\n",
    "kernels = ['linear', 'rbf', 'sigmoid'] # poly kernel is removed, due to computational expense\n",
    "# encoded list\n",
    "kernels_encoded = [i for i in range(len(kernels))]\n",
    "\n",
    "pbounds = {'C': (0, 1), \n",
    "           'kernel': (0, 2), \n",
    "           'degree': (1, 3),\n",
    "           'gamma':(0, 1)}\n",
    "\n",
    "optimizer = BayesianOptimization(f=black_box_function, pbounds=pbounds, random_state=0)\n",
    "optimizer.maximize(init_points=5, n_iter=10)\n",
    "\n",
    "print(optimizer.max)\n",
    "for i, res in enumerate(optimizer.res):\n",
    "    print(\"Iteration {}: \\n\\t{}\".format(i, res))"
   ]
  },
  {
   "cell_type": "raw",
   "metadata": {},
   "source": [
    "optimizer.max"
   ]
  },
  {
   "cell_type": "markdown",
   "metadata": {},
   "source": [
    "## Remarks\n",
    "\n",
    "* Interesting to see that the method doesn't need many exploitation steps, it starts to converge immediatly after 5 steps.\n",
    "* We'd still need a function convert the parameters back to their true values for interpretability."
   ]
  }
 ],
 "metadata": {
  "kernelspec": {
   "display_name": "Python 3",
   "language": "python",
   "name": "python3"
  },
  "language_info": {
   "codemirror_mode": {
    "name": "ipython",
    "version": 3
   },
   "file_extension": ".py",
   "mimetype": "text/x-python",
   "name": "python",
   "nbconvert_exporter": "python",
   "pygments_lexer": "ipython3",
   "version": "3.7.3"
  },
  "toc": {
   "base_numbering": 1,
   "nav_menu": {},
   "number_sections": true,
   "sideBar": true,
   "skip_h1_title": false,
   "title_cell": "Table of Contents",
   "title_sidebar": "Contents",
   "toc_cell": false,
   "toc_position": {},
   "toc_section_display": true,
   "toc_window_display": false
  },
  "varInspector": {
   "cols": {
    "lenName": 16,
    "lenType": 16,
    "lenVar": 40
   },
   "kernels_config": {
    "python": {
     "delete_cmd_postfix": "",
     "delete_cmd_prefix": "del ",
     "library": "var_list.py",
     "varRefreshCmd": "print(var_dic_list())"
    },
    "r": {
     "delete_cmd_postfix": ") ",
     "delete_cmd_prefix": "rm(",
     "library": "var_list.r",
     "varRefreshCmd": "cat(var_dic_list()) "
    }
   },
   "types_to_exclude": [
    "module",
    "function",
    "builtin_function_or_method",
    "instance",
    "_Feature"
   ],
   "window_display": false
  }
 },
 "nbformat": 4,
 "nbformat_minor": 2
}
