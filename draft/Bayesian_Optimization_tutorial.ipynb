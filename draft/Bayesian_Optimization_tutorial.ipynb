{
 "cells": [
  {
   "cell_type": "markdown",
   "metadata": {},
   "source": [
    "# Bayesian Optimization\n",
    "\n",
    "@author:<tb> Kareem<br>\n",
    "@date: <tb>28.04.2019\n",
    "    \n",
    "In the following I'd like to domenstrate the Bayesian Optimization process, in order for us to better handle continous values during model optimization. This implementaion relies on this [GitHub package](https://github.com/fmfn/BayesianOptimization). So to get started of course:\n",
    "\n",
    "```\n",
    "pip install bayesian-optimization\n",
    "```"
   ]
  },
  {
   "cell_type": "markdown",
   "metadata": {},
   "source": [
    "## Loading Data\n",
    "\n",
    "Let's load some data from sklearn default datasets and then we will build different classifiers to evaluate how well this implemntation is"
   ]
  },
  {
   "cell_type": "code",
   "execution_count": 1,
   "metadata": {},
   "outputs": [],
   "source": [
    "#### Load Iris Data ####\n",
    "from sklearn.datasets import load_breast_cancer\n",
    "dataset = load_breast_cancer()\n",
    "X = dataset['data']\n",
    "y = dataset['target']\n",
    "\n",
    "## Split into train and validation\n",
    "from sklearn.model_selection import train_test_split\n",
    "X_train, X_test, y_train, y_test = train_test_split(X, y, test_size=0.2, random_state=0, shuffle=True)"
   ]
  },
  {
   "cell_type": "markdown",
   "metadata": {},
   "source": [
    "## Handling Continous Values\n",
    "\n",
    "There's immediate support for this type of parameters from the package, so let's build a logistic regressor right away and see the accuracies we can get.\n",
    "\n",
    "Note that the object `BayesianOptimization`, always needs the objective function (i.e. function to be maximized) as constructor argument. If you want to minimize a function, just return the minus value of that function."
   ]
  },
  {
   "cell_type": "code",
   "execution_count": 10,
   "metadata": {},
   "outputs": [],
   "source": [
    "#### Build Classifier ####\n",
    "from sklearn.linear_model import LogisticRegression\n",
    "def black_box_function(C):\n",
    "    \"\"\"Function with we wish to maximize.\"\"\"\n",
    "    classifier = LogisticRegression(C=C, random_state=0)\n",
    "    classifier.fit(X_train, y_train)\n",
    "    y_pred = classifier.predict(X_test) # irrelevent!\n",
    "    return classifier.score(X_test, y_test) # return accuracy"
   ]
  },
  {
   "cell_type": "markdown",
   "metadata": {},
   "source": [
    "`C` will take all the values range from $0$ to $1$."
   ]
  },
  {
   "cell_type": "code",
   "execution_count": 11,
   "metadata": {},
   "outputs": [
    {
     "name": "stdout",
     "output_type": "stream",
     "text": [
      "|   iter    |  target   |     C     |\n",
      "-------------------------------------\n",
      "| \u001b[0m 1       \u001b[0m | \u001b[0m 0.9561  \u001b[0m | \u001b[0m 0.5488  \u001b[0m |\n",
      "| \u001b[0m 2       \u001b[0m | \u001b[0m 0.9561  \u001b[0m | \u001b[0m 0.7152  \u001b[0m |\n",
      "| \u001b[0m 3       \u001b[0m | \u001b[0m 0.9561  \u001b[0m | \u001b[0m 0.6028  \u001b[0m |\n",
      "| \u001b[0m 4       \u001b[0m | \u001b[0m 0.9561  \u001b[0m | \u001b[0m 0.5449  \u001b[0m |\n",
      "| \u001b[0m 5       \u001b[0m | \u001b[0m 0.9561  \u001b[0m | \u001b[0m 0.4237  \u001b[0m |\n",
      "| \u001b[0m 6       \u001b[0m | \u001b[0m 0.9386  \u001b[0m | \u001b[0m 0.02578 \u001b[0m |\n",
      "| \u001b[0m 7       \u001b[0m | \u001b[0m 0.9561  \u001b[0m | \u001b[0m 1.0     \u001b[0m |\n",
      "| \u001b[0m 8       \u001b[0m | \u001b[0m 0.9561  \u001b[0m | \u001b[0m 1.0     \u001b[0m |\n",
      "| \u001b[0m 9       \u001b[0m | \u001b[0m 0.9561  \u001b[0m | \u001b[0m 0.8043  \u001b[0m |\n",
      "| \u001b[0m 10      \u001b[0m | \u001b[0m 0.9561  \u001b[0m | \u001b[0m 0.7758  \u001b[0m |\n",
      "| \u001b[0m 11      \u001b[0m | \u001b[0m 0.9561  \u001b[0m | \u001b[0m 1.0     \u001b[0m |\n",
      "| \u001b[0m 12      \u001b[0m | \u001b[0m 0.9561  \u001b[0m | \u001b[0m 0.6563  \u001b[0m |\n",
      "| \u001b[0m 13      \u001b[0m | \u001b[0m 0.9561  \u001b[0m | \u001b[0m 1.0     \u001b[0m |\n",
      "| \u001b[0m 14      \u001b[0m | \u001b[0m 0.9561  \u001b[0m | \u001b[0m 0.8092  \u001b[0m |\n",
      "| \u001b[0m 15      \u001b[0m | \u001b[0m 0.9561  \u001b[0m | \u001b[0m 0.5683  \u001b[0m |\n",
      "=====================================\n",
      "{'params': {'C': 0.5488135039273248}, 'target': 0.956140350877193}\n",
      "Iteration 0: \n",
      "\t{'params': {'C': 0.5488135039273248}, 'target': 0.956140350877193}\n",
      "Iteration 1: \n",
      "\t{'params': {'C': 0.7151893663724195}, 'target': 0.956140350877193}\n",
      "Iteration 2: \n",
      "\t{'params': {'C': 0.6027633760716439}, 'target': 0.956140350877193}\n",
      "Iteration 3: \n",
      "\t{'params': {'C': 0.5448831829968969}, 'target': 0.956140350877193}\n",
      "Iteration 4: \n",
      "\t{'params': {'C': 0.4236547993389047}, 'target': 0.956140350877193}\n",
      "Iteration 5: \n",
      "\t{'params': {'C': 0.02578002812953384}, 'target': 0.9385964912280702}\n",
      "Iteration 6: \n",
      "\t{'params': {'C': 0.9999990120313899}, 'target': 0.956140350877193}\n",
      "Iteration 7: \n",
      "\t{'params': {'C': 0.9999982000777977}, 'target': 0.956140350877193}\n",
      "Iteration 8: \n",
      "\t{'params': {'C': 0.8042671161101363}, 'target': 0.956140350877193}\n",
      "Iteration 9: \n",
      "\t{'params': {'C': 0.7757678307509045}, 'target': 0.956140350877193}\n",
      "Iteration 10: \n",
      "\t{'params': {'C': 0.9999999473848444}, 'target': 0.956140350877193}\n",
      "Iteration 11: \n",
      "\t{'params': {'C': 0.6562792560749025}, 'target': 0.956140350877193}\n",
      "Iteration 12: \n",
      "\t{'params': {'C': 0.9999997207656334}, 'target': 0.956140350877193}\n",
      "Iteration 13: \n",
      "\t{'params': {'C': 0.8092116334911545}, 'target': 0.956140350877193}\n",
      "Iteration 14: \n",
      "\t{'params': {'C': 0.5683141520499925}, 'target': 0.956140350877193}\n"
     ]
    }
   ],
   "source": [
    "#### Build the Optimization Space ####\n",
    "from bayes_opt import BayesianOptimization\n",
    "# Bounded region of parameter space\n",
    "pbounds = {'C': (0, 1)} \n",
    "\n",
    "optimizer = BayesianOptimization(\n",
    "    f=black_box_function, # function to optimize\n",
    "    pbounds=pbounds, # dimension to explore\n",
    "    random_state=0)\n",
    "optimizer.maximize(\n",
    "    init_points=5, # number of exploration steps\n",
    "    n_iter=10) # number of exploitation steps\n",
    "\n",
    "print(optimizer.max) # best score and parameter set\n",
    "for i, res in enumerate(optimizer.res): # full optimization history\n",
    "    print(\"Iteration {}: \\n\\t{}\".format(i, res))"
   ]
  },
  {
   "cell_type": "markdown",
   "metadata": {},
   "source": [
    "## Handling Discrete Values\n",
    "\n",
    "Discrete values are not handled by the package and therefore, we would only need to round and convert them integers in the blackbox function. That's the recommended behavior by the creators of the package."
   ]
  },
  {
   "cell_type": "code",
   "execution_count": 4,
   "metadata": {},
   "outputs": [
    {
     "name": "stdout",
     "output_type": "stream",
     "text": [
      "|   iter    |  target   | max_depth | max_fe... | n_esti... |\n",
      "-------------------------------------------------------------\n",
      "| \u001b[0m 1       \u001b[0m | \u001b[0m 0.9737  \u001b[0m | \u001b[0m 15.98   \u001b[0m | \u001b[0m 15.73   \u001b[0m | \u001b[0m 62.26   \u001b[0m |\n",
      "| \u001b[95m 2       \u001b[0m | \u001b[95m 0.9825  \u001b[0m | \u001b[95m 15.9    \u001b[0m | \u001b[95m 11.35   \u001b[0m | \u001b[95m 66.36   \u001b[0m |\n",
      "| \u001b[0m 3       \u001b[0m | \u001b[0m 0.9825  \u001b[0m | \u001b[0m 13.75   \u001b[0m | \u001b[0m 18.38   \u001b[0m | \u001b[0m 96.55   \u001b[0m |\n",
      "| \u001b[0m 4       \u001b[0m | \u001b[0m 0.9737  \u001b[0m | \u001b[0m 12.67   \u001b[0m | \u001b[0m 16.88   \u001b[0m | \u001b[0m 55.25   \u001b[0m |\n",
      "| \u001b[0m 5       \u001b[0m | \u001b[0m 0.9737  \u001b[0m | \u001b[0m 16.36   \u001b[0m | \u001b[0m 18.88   \u001b[0m | \u001b[0m 11.75   \u001b[0m |\n",
      "| \u001b[0m 6       \u001b[0m | \u001b[0m 0.9298  \u001b[0m | \u001b[0m 5.0     \u001b[0m | \u001b[0m 5.0     \u001b[0m | \u001b[0m 5.0     \u001b[0m |\n",
      "| \u001b[0m 7       \u001b[0m | \u001b[0m 0.9474  \u001b[0m | \u001b[0m 5.0     \u001b[0m | \u001b[0m 5.0     \u001b[0m | \u001b[0m 100.0   \u001b[0m |\n",
      "| \u001b[0m 8       \u001b[0m | \u001b[0m 0.9649  \u001b[0m | \u001b[0m 25.0    \u001b[0m | \u001b[0m 5.0     \u001b[0m | \u001b[0m 100.0   \u001b[0m |\n",
      "| \u001b[0m 9       \u001b[0m | \u001b[0m 0.9561  \u001b[0m | \u001b[0m 24.86   \u001b[0m | \u001b[0m 5.18    \u001b[0m | \u001b[0m 21.79   \u001b[0m |\n",
      "| \u001b[0m 10      \u001b[0m | \u001b[0m 0.9737  \u001b[0m | \u001b[0m 5.007   \u001b[0m | \u001b[0m 19.97   \u001b[0m | \u001b[0m 77.48   \u001b[0m |\n",
      "| \u001b[0m 11      \u001b[0m | \u001b[0m 0.9561  \u001b[0m | \u001b[0m 24.99   \u001b[0m | \u001b[0m 18.94   \u001b[0m | \u001b[0m 5.084   \u001b[0m |\n",
      "| \u001b[0m 12      \u001b[0m | \u001b[0m 0.9561  \u001b[0m | \u001b[0m 5.0     \u001b[0m | \u001b[0m 5.0     \u001b[0m | \u001b[0m 41.16   \u001b[0m |\n",
      "| \u001b[0m 13      \u001b[0m | \u001b[0m 0.9649  \u001b[0m | \u001b[0m 24.82   \u001b[0m | \u001b[0m 5.059   \u001b[0m | \u001b[0m 62.63   \u001b[0m |\n",
      "| \u001b[0m 14      \u001b[0m | \u001b[0m 0.9649  \u001b[0m | \u001b[0m 16.2    \u001b[0m | \u001b[0m 5.017   \u001b[0m | \u001b[0m 83.09   \u001b[0m |\n",
      "| \u001b[0m 15      \u001b[0m | \u001b[0m 0.9737  \u001b[0m | \u001b[0m 25.0    \u001b[0m | \u001b[0m 20.0    \u001b[0m | \u001b[0m 100.0   \u001b[0m |\n",
      "=============================================================\n",
      "{'params': {'n_estimators': 66.35994074133234, 'max_features': 11.354821990083572, 'max_depth': 15.897663659937937}, 'target': 0.9824561403508771}\n",
      "Iteration 0: \n",
      "\t{'params': {'n_estimators': 62.262520726806166, 'max_features': 15.727840495586292, 'max_depth': 15.976270078546495}, 'target': 0.9736842105263158}\n",
      "Iteration 1: \n",
      "\t{'params': {'n_estimators': 66.35994074133234, 'max_features': 11.354821990083572, 'max_depth': 15.897663659937937}, 'target': 0.9824561403508771}\n",
      "Iteration 2: \n",
      "\t{'params': {'n_estimators': 96.54796224759778, 'max_features': 18.376595011731197, 'max_depth': 13.75174422525385}, 'target': 0.9824561403508771}\n",
      "Iteration 3: \n",
      "\t{'params': {'n_estimators': 55.24501737652592, 'max_features': 16.87587557123997, 'max_depth': 12.668830376515555}, 'target': 0.9736842105263158}\n",
      "Iteration 4: \n",
      "\t{'params': {'n_estimators': 11.74842552879926, 'max_features': 18.883949574389916, 'max_depth': 16.360891221878646}, 'target': 0.9736842105263158}\n",
      "Iteration 5: \n",
      "\t{'params': {'n_estimators': 5.0, 'max_features': 5.0000000000000115, 'max_depth': 5.0}, 'target': 0.9298245614035088}\n",
      "Iteration 6: \n",
      "\t{'params': {'n_estimators': 99.99999993600275, 'max_features': 5.0, 'max_depth': 5.0}, 'target': 0.9473684210526315}\n",
      "Iteration 7: \n",
      "\t{'params': {'n_estimators': 100.0, 'max_features': 5.000000004513742, 'max_depth': 25.0}, 'target': 0.9649122807017544}\n",
      "Iteration 8: \n",
      "\t{'params': {'n_estimators': 21.794553866054176, 'max_features': 5.179543405777091, 'max_depth': 24.85804810429147}, 'target': 0.956140350877193}\n",
      "Iteration 9: \n",
      "\t{'params': {'n_estimators': 77.4756351698174, 'max_features': 19.968995249185497, 'max_depth': 5.007253418884076}, 'target': 0.9736842105263158}\n",
      "Iteration 10: \n",
      "\t{'params': {'n_estimators': 5.084117979708205, 'max_features': 18.936157411050324, 'max_depth': 24.990703537900217}, 'target': 0.956140350877193}\n",
      "Iteration 11: \n",
      "\t{'params': {'n_estimators': 41.159595257620175, 'max_features': 5.000000002269458, 'max_depth': 5.0}, 'target': 0.956140350877193}\n",
      "Iteration 12: \n",
      "\t{'params': {'n_estimators': 62.634257632687486, 'max_features': 5.059136515816057, 'max_depth': 24.822497696095688}, 'target': 0.9649122807017544}\n",
      "Iteration 13: \n",
      "\t{'params': {'n_estimators': 83.08867507371257, 'max_features': 5.017054349725392, 'max_depth': 16.201869642005388}, 'target': 0.9649122807017544}\n",
      "Iteration 14: \n",
      "\t{'params': {'n_estimators': 100.0, 'max_features': 20.0, 'max_depth': 24.9999999095366}, 'target': 0.9736842105263158}\n"
     ]
    }
   ],
   "source": [
    "#### Handling Discrete Values ####\n",
    "from sklearn.ensemble import RandomForestClassifier\n",
    "def black_box_function(n_estimators, max_depth, max_features):\n",
    "    ## handle discrete\n",
    "    n_estimators = int(round(n_estimators))\n",
    "    max_depth = int(round(max_depth))\n",
    "    max_features = int(round(max_features))\n",
    "    ## throw an AssertionError at an earlier level if not int\n",
    "    assert type(n_estimators) == int\n",
    "    assert type(max_depth) == int\n",
    "    assert type(max_features) == int\n",
    "    #### Build Classifier ####\n",
    "    classifier = RandomForestClassifier(n_estimators=n_estimators, max_depth= max_depth,\n",
    "                                        max_features=max_features, random_state=0, verbose=0, n_jobs=-1)\n",
    "    classifier.fit(X_train, y_train)\n",
    "    y_pred = classifier.predict(X_test)\n",
    "    return classifier.score(X_test, y_test)\n",
    "\n",
    "pbounds = {'n_estimators': (5, 100), \n",
    "           'max_depth': (5, 25), \n",
    "           'max_features': (5, 20)}\n",
    "\n",
    "optimizer = BayesianOptimization(f=black_box_function, pbounds=pbounds, random_state=0)\n",
    "optimizer.maximize(init_points=5, n_iter=10)\n",
    "\n",
    "print(optimizer.max)\n",
    "for i, res in enumerate(optimizer.res):\n",
    "    print(\"Iteration {}: \\n\\t{}\".format(i, res))"
   ]
  },
  {
   "cell_type": "markdown",
   "metadata": {},
   "source": [
    "## Categorical Values\n",
    "\n",
    "Categorical values are handled very similarly to Discrete values, nevertheless, you would only need a reference list. First, we encode the categories into integers such as in `LabelEncoder` (order is crucial here), and then the balckbox function has to unpack the right value from the reference list."
   ]
  },
  {
   "cell_type": "code",
   "execution_count": 7,
   "metadata": {},
   "outputs": [
    {
     "name": "stdout",
     "output_type": "stream",
     "text": [
      "|   iter    |  target   |     C     |  degree   |   gamma   |  kernel   |\n",
      "-------------------------------------------------------------------------\n",
      "| \u001b[0m 1       \u001b[0m | \u001b[0m 0.9474  \u001b[0m | \u001b[0m 0.5488  \u001b[0m | \u001b[0m 2.43    \u001b[0m | \u001b[0m 0.6028  \u001b[0m | \u001b[0m 1.09    \u001b[0m |\n",
      "| \u001b[0m 2       \u001b[0m | \u001b[0m 0.9474  \u001b[0m | \u001b[0m 0.4237  \u001b[0m | \u001b[0m 2.292   \u001b[0m | \u001b[0m 0.4376  \u001b[0m | \u001b[0m 1.784   \u001b[0m |\n",
      "| \u001b[95m 3       \u001b[0m | \u001b[95m 0.9561  \u001b[0m | \u001b[95m 0.9637  \u001b[0m | \u001b[95m 1.767   \u001b[0m | \u001b[95m 0.7917  \u001b[0m | \u001b[95m 1.058   \u001b[0m |\n",
      "| \u001b[0m 4       \u001b[0m | \u001b[0m 0.9474  \u001b[0m | \u001b[0m 0.568   \u001b[0m | \u001b[0m 2.851   \u001b[0m | \u001b[0m 0.07104 \u001b[0m | \u001b[0m 0.1743  \u001b[0m |\n",
      "| \u001b[0m 5       \u001b[0m | \u001b[0m 0.9298  \u001b[0m | \u001b[0m 0.02022 \u001b[0m | \u001b[0m 2.665   \u001b[0m | \u001b[0m 0.7782  \u001b[0m | \u001b[0m 1.74    \u001b[0m |\n",
      "| \u001b[0m 6       \u001b[0m | \u001b[0m 0.9561  \u001b[0m | \u001b[0m 1.0     \u001b[0m | \u001b[0m 3.0     \u001b[0m | \u001b[0m 0.1805  \u001b[0m | \u001b[0m 2.0     \u001b[0m |\n",
      "| \u001b[0m 7       \u001b[0m | \u001b[0m 0.9561  \u001b[0m | \u001b[0m 0.9716  \u001b[0m | \u001b[0m 1.083   \u001b[0m | \u001b[0m 0.02192 \u001b[0m | \u001b[0m 1.828   \u001b[0m |\n",
      "| \u001b[0m 8       \u001b[0m | \u001b[0m 0.9561  \u001b[0m | \u001b[0m 1.0     \u001b[0m | \u001b[0m 1.0     \u001b[0m | \u001b[0m 1.433e-0\u001b[0m | \u001b[0m 8.626e-0\u001b[0m |\n",
      "| \u001b[0m 9       \u001b[0m | \u001b[0m 0.9561  \u001b[0m | \u001b[0m 0.9986  \u001b[0m | \u001b[0m 2.1     \u001b[0m | \u001b[0m 0.006695\u001b[0m | \u001b[0m 0.9022  \u001b[0m |\n",
      "| \u001b[0m 10      \u001b[0m | \u001b[0m 0.8509  \u001b[0m | \u001b[0m 3.349e-0\u001b[0m | \u001b[0m 1.0     \u001b[0m | \u001b[0m 1.0     \u001b[0m | \u001b[0m 1.069e-0\u001b[0m |\n",
      "| \u001b[0m 11      \u001b[0m | \u001b[0m 0.9561  \u001b[0m | \u001b[0m 1.0     \u001b[0m | \u001b[0m 3.0     \u001b[0m | \u001b[0m 1.0     \u001b[0m | \u001b[0m 0.0     \u001b[0m |\n",
      "| \u001b[0m 12      \u001b[0m | \u001b[0m 0.9561  \u001b[0m | \u001b[0m 1.0     \u001b[0m | \u001b[0m 3.0     \u001b[0m | \u001b[0m 1.0     \u001b[0m | \u001b[0m 2.0     \u001b[0m |\n",
      "| \u001b[0m 13      \u001b[0m | \u001b[0m 0.9561  \u001b[0m | \u001b[0m 0.9651  \u001b[0m | \u001b[0m 1.024   \u001b[0m | \u001b[0m 0.9808  \u001b[0m | \u001b[0m 1.939   \u001b[0m |\n",
      "| \u001b[0m 14      \u001b[0m | \u001b[0m 0.9561  \u001b[0m | \u001b[0m 0.9983  \u001b[0m | \u001b[0m 2.986   \u001b[0m | \u001b[0m 0.1358  \u001b[0m | \u001b[0m 0.1463  \u001b[0m |\n",
      "| \u001b[0m 15      \u001b[0m | \u001b[0m 0.9561  \u001b[0m | \u001b[0m 1.0     \u001b[0m | \u001b[0m 1.9     \u001b[0m | \u001b[0m 0.4729  \u001b[0m | \u001b[0m 2.0     \u001b[0m |\n",
      "=========================================================================\n",
      "{'params': {'C': 0.9636627605010293, 'gamma': 0.7917250380826646, 'degree': 1.7668830376515554, 'kernel': 1.057789839505809}, 'target': 0.956140350877193}\n",
      "Iteration 0: \n",
      "\t{'params': {'C': 0.5488135039273248, 'gamma': 0.6027633760716439, 'degree': 2.430378732744839, 'kernel': 1.0897663659937937}, 'target': 0.9473684210526315}\n",
      "Iteration 1: \n",
      "\t{'params': {'C': 0.4236547993389047, 'gamma': 0.4375872112626925, 'degree': 2.2917882261333125, 'kernel': 1.7835460015641595}, 'target': 0.9473684210526315}\n",
      "Iteration 2: \n",
      "\t{'params': {'C': 0.9636627605010293, 'gamma': 0.7917250380826646, 'degree': 1.7668830376515554, 'kernel': 1.057789839505809}, 'target': 0.956140350877193}\n",
      "Iteration 3: \n",
      "\t{'params': {'C': 0.5680445610939323, 'gamma': 0.07103605819788694, 'degree': 2.851193276585322, 'kernel': 0.17425859940308142}, 'target': 0.9473684210526315}\n",
      "Iteration 4: \n",
      "\t{'params': {'C': 0.02021839744032572, 'gamma': 0.7781567509498505, 'degree': 2.665239691095876, 'kernel': 1.7400242964936383}, 'target': 0.9298245614035088}\n",
      "Iteration 5: \n",
      "\t{'params': {'C': 0.999999999944822, 'gamma': 0.18049973374480255, 'degree': 2.999999999504286, 'kernel': 2.0}, 'target': 0.956140350877193}\n",
      "Iteration 6: \n",
      "\t{'params': {'C': 0.9715945032577615, 'gamma': 0.02192409433337683, 'degree': 1.0834884538563767, 'kernel': 1.8279349103836033}, 'target': 0.956140350877193}\n",
      "Iteration 7: \n",
      "\t{'params': {'C': 0.999999960323631, 'gamma': 1.4326356241342794e-08, 'degree': 1.000000024197805, 'kernel': 8.626455640166858e-09}, 'target': 0.956140350877193}\n",
      "Iteration 8: \n",
      "\t{'params': {'C': 0.9985921562530549, 'gamma': 0.006694677465628351, 'degree': 2.100028937522311, 'kernel': 0.9022377163861728}, 'target': 0.956140350877193}\n",
      "Iteration 9: \n",
      "\t{'params': {'C': 3.3492583727676235e-08, 'gamma': 0.9999999954852477, 'degree': 1.0, 'kernel': 1.0686594482335913e-07}, 'target': 0.8508771929824561}\n",
      "Iteration 10: \n",
      "\t{'params': {'C': 1.0, 'gamma': 1.0, 'degree': 3.0, 'kernel': 0.0}, 'target': 0.956140350877193}\n",
      "Iteration 11: \n",
      "\t{'params': {'C': 1.0, 'gamma': 1.0, 'degree': 2.9999999838588582, 'kernel': 1.9999999969830504}, 'target': 0.956140350877193}\n",
      "Iteration 12: \n",
      "\t{'params': {'C': 0.9651024725285036, 'gamma': 0.9807720618709028, 'degree': 1.0244401632417945, 'kernel': 1.9390865069888492}, 'target': 0.956140350877193}\n",
      "Iteration 13: \n",
      "\t{'params': {'C': 0.9982773957814942, 'gamma': 0.13579970892661164, 'degree': 2.9855954226788723, 'kernel': 0.14631723294579624}, 'target': 0.956140350877193}\n",
      "Iteration 14: \n",
      "\t{'params': {'C': 1.0, 'gamma': 0.4728668356230054, 'degree': 1.8996349353275754, 'kernel': 2.0}, 'target': 0.956140350877193}\n"
     ]
    }
   ],
   "source": [
    "#### Handling Categorical values ####\n",
    "from sklearn.svm import SVC\n",
    "def black_box_function(C, kernel, degree, gamma):\n",
    "    # handle categorical\n",
    "    kernel = int(round(0.234567))\n",
    "    # throw an AssertionError at an earlier level if not int\n",
    "    assert type(kernel) == int\n",
    "    kernel = kernels[kernel] # unpack from reference list\n",
    "    \n",
    "    degree = int(round(degree))\n",
    "    assert type(degree) == int\n",
    "\n",
    "    classifier = SVC(C=C, kernel=kernel, degree=degree, gamma=gamma, random_state=0, verbose=0)\n",
    "    classifier.fit(X_train, y_train)\n",
    "    y_pred = classifier.predict(X_test) # irrelevent!\n",
    "    return classifier.score(X_test, y_test)\n",
    "\n",
    "# reference list\n",
    "kernels = ['linear', 'rbf', 'sigmoid'] # poly kernel is removed, due to computational expense\n",
    "# encoded list\n",
    "kernels_encoded = [i for i in range(len(kernels))]\n",
    "\n",
    "pbounds = {'C': (0, 1), \n",
    "           'kernel': (0, 2), \n",
    "           'degree': (1, 3),\n",
    "           'gamma':(0, 1)}\n",
    "\n",
    "optimizer = BayesianOptimization(f=black_box_function, pbounds=pbounds, random_state=0)\n",
    "optimizer.maximize(init_points=5, n_iter=10)\n",
    "\n",
    "print(optimizer.max)\n",
    "for i, res in enumerate(optimizer.res):\n",
    "    print(\"Iteration {}: \\n\\t{}\".format(i, res))"
   ]
  },
  {
   "cell_type": "code",
   "execution_count": 22,
   "metadata": {},
   "outputs": [
    {
     "data": {
      "text/plain": [
       "{'params': {'C': 1.0, 'degree': 1.0, 'gamma': 1e-07, 'kernel': 0.0},\n",
       " 'target': 0.956140350877193}"
      ]
     },
     "execution_count": 22,
     "metadata": {},
     "output_type": "execute_result"
    }
   ],
   "source": [
    "optimizer.max"
   ]
  },
  {
   "cell_type": "markdown",
   "metadata": {},
   "source": [
    "## Remarks\n",
    "\n",
    "* Interesting to see that the method doesn't need many exploitation steps, it starts to converge immediatly after 5 steps.\n",
    "* We'd still need a function convert the parameters back to their true values for interpretability."
   ]
  }
 ],
 "metadata": {
  "kernelspec": {
   "display_name": "Python 3",
   "language": "python",
   "name": "python3"
  },
  "language_info": {
   "codemirror_mode": {
    "name": "ipython",
    "version": 3
   },
   "file_extension": ".py",
   "mimetype": "text/x-python",
   "name": "python",
   "nbconvert_exporter": "python",
   "pygments_lexer": "ipython3",
   "version": "3.6.7"
  }
 },
 "nbformat": 4,
 "nbformat_minor": 2
}
